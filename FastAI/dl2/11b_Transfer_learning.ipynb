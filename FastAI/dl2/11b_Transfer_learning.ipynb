{
  "nbformat": 4,
  "nbformat_minor": 0,
  "metadata": {
    "colab": {
      "name": "11b_Transfer_learning.ipynb",
      "version": "0.3.2",
      "provenance": []
    },
    "kernelspec": {
      "name": "python3",
      "display_name": "Python 3"
    },
    "accelerator": "GPU"
  },
  "cells": [
    {
      "cell_type": "code",
      "metadata": {
        "id": "XPP-Sf1c4IdS",
        "colab_type": "code",
        "colab": {}
      },
      "source": [
        "from google.colab import drive\n",
        "drive.mount('/content/gdrive')\n",
        "import sys\n",
        "sys.path.append('//content/gdrive/My Drive/Colab Notebooks/')"
      ],
      "execution_count": 0,
      "outputs": []
    },
    {
      "cell_type": "code",
      "metadata": {
        "id": "R9xyXNSn4UBl",
        "colab_type": "code",
        "colab": {}
      },
      "source": [
        "#export\n",
        "from exp.nb_11 import *"
      ],
      "execution_count": 0,
      "outputs": []
    },
    {
      "cell_type": "markdown",
      "metadata": {
        "id": "vbT46tZk4fqk",
        "colab_type": "text"
      },
      "source": [
        "### serializing the model"
      ]
    },
    {
      "cell_type": "code",
      "metadata": {
        "id": "MQWLH1OG4c8U",
        "colab_type": "code",
        "colab": {}
      },
      "source": [
        "path = datasets.untar_data(datasets.URLs.IMAGEWOOF_160)"
      ],
      "execution_count": 0,
      "outputs": []
    },
    {
      "cell_type": "code",
      "metadata": {
        "id": "6Qrth__P41tX",
        "colab_type": "code",
        "colab": {}
      },
      "source": [
        "size = 128\n",
        "bs = 64\n",
        "\n",
        "tfms = [make_rgb, RandomResizedCrop(size, scale=(0.35,1)), np_to_float, PilRandomFlip()]\n",
        "val_tfms = [make_rgb, CenterCrop(size), np_to_float]\n",
        "il = ImageList.from_files(path, tfms=tfms)\n",
        "sd = SplitData.split_by_func(il, partial(grandparent_splitter, valid_name='val'))\n",
        "ll = label_by_func(sd, parent_labeler, proc_y=CategoryProcessor())\n",
        "ll.valid.x.tfms = val_tfms\n",
        "data = ll.to_databunch(bs, c_in=3, c_out=10, num_workers=8)"
      ],
      "execution_count": 0,
      "outputs": []
    },
    {
      "cell_type": "code",
      "metadata": {
        "id": "lToFWxsl45uF",
        "colab_type": "code",
        "colab": {
          "base_uri": "https://localhost:8080/",
          "height": 34
        },
        "outputId": "3907acd5-ec1b-4702-dd8d-aaec3eb3cb94"
      },
      "source": [
        "len(il)"
      ],
      "execution_count": 5,
      "outputs": [
        {
          "output_type": "execute_result",
          "data": {
            "text/plain": [
              "12954"
            ]
          },
          "metadata": {
            "tags": []
          },
          "execution_count": 5
        }
      ]
    },
    {
      "cell_type": "code",
      "metadata": {
        "id": "rIm3trs748I4",
        "colab_type": "code",
        "colab": {}
      },
      "source": [
        "loss_func = LabelSmoothingCrossEntropy()\n",
        "opt_func = adam_opt(mom=0.9,mom_sqr=0.99,eps=1e-6,wd=1e-2)\n",
        "learn = cnn_learner(xresnet18,data,loss_func,opt_func,norm=norm_imagenette)"
      ],
      "execution_count": 0,
      "outputs": []
    },
    {
      "cell_type": "code",
      "metadata": {
        "id": "y7OlKeEI56YH",
        "colab_type": "code",
        "colab": {}
      },
      "source": [
        "def sched_1cycle(lr,pct_start=0.3,mom_start=0.95,mom_mid=0.85,mom_end=0.95):\n",
        "  phases = create_phases(pct_start)\n",
        "  sched_lr = combine_scheds(phases, cos_1cycle_anneal(lr/10.,lr,lr/1e5))\n",
        "  sched_mom = combine_scheds(phases,cos_1cycle_anneal(mom_start,mom_mid,mom_end))\n",
        "  return [ParamScheduler('lr',sched_lr),ParamScheduler('mom',sched_mom)]"
      ],
      "execution_count": 0,
      "outputs": []
    },
    {
      "cell_type": "code",
      "metadata": {
        "id": "9hI08IAh6r_h",
        "colab_type": "code",
        "colab": {}
      },
      "source": [
        "lr = 3e-3\n",
        "pct_start = 0.5\n",
        "cbsched = sched_1cycle(lr,pct_start)"
      ],
      "execution_count": 0,
      "outputs": []
    },
    {
      "cell_type": "code",
      "metadata": {
        "id": "FVxH22DH60Pm",
        "colab_type": "code",
        "colab": {
          "base_uri": "https://localhost:8080/",
          "height": 1000
        },
        "outputId": "0c6f0204-fcaf-4853-aacb-b1f49380dfb5"
      },
      "source": [
        "learn.fit(40,cbsched)"
      ],
      "execution_count": 9,
      "outputs": [
        {
          "output_type": "display_data",
          "data": {
            "text/html": [
              "<table border=\"1\" class=\"dataframe\">\n",
              "  <thead>\n",
              "    <tr style=\"text-align: left;\">\n",
              "      <th>epoch</th>\n",
              "      <th>train_loss</th>\n",
              "      <th>train_accuracy</th>\n",
              "      <th>valid_loss</th>\n",
              "      <th>valid_accuracy</th>\n",
              "      <th>time</th>\n",
              "    </tr>\n",
              "  </thead>\n",
              "  <tbody>\n",
              "    <tr>\n",
              "      <td>0</td>\n",
              "      <td>2.122712</td>\n",
              "      <td>0.250361</td>\n",
              "      <td>2.106088</td>\n",
              "      <td>0.244000</td>\n",
              "      <td>00:43</td>\n",
              "    </tr>\n",
              "    <tr>\n",
              "      <td>1</td>\n",
              "      <td>1.965386</td>\n",
              "      <td>0.335796</td>\n",
              "      <td>1.942081</td>\n",
              "      <td>0.344000</td>\n",
              "      <td>00:43</td>\n",
              "    </tr>\n",
              "    <tr>\n",
              "      <td>2</td>\n",
              "      <td>1.839683</td>\n",
              "      <td>0.398908</td>\n",
              "      <td>1.981215</td>\n",
              "      <td>0.368000</td>\n",
              "      <td>00:43</td>\n",
              "    </tr>\n",
              "    <tr>\n",
              "      <td>3</td>\n",
              "      <td>1.755532</td>\n",
              "      <td>0.440340</td>\n",
              "      <td>2.469433</td>\n",
              "      <td>0.276000</td>\n",
              "      <td>00:43</td>\n",
              "    </tr>\n",
              "    <tr>\n",
              "      <td>4</td>\n",
              "      <td>1.679809</td>\n",
              "      <td>0.476554</td>\n",
              "      <td>1.795734</td>\n",
              "      <td>0.394000</td>\n",
              "      <td>00:43</td>\n",
              "    </tr>\n",
              "    <tr>\n",
              "      <td>5</td>\n",
              "      <td>1.640973</td>\n",
              "      <td>0.502248</td>\n",
              "      <td>1.852748</td>\n",
              "      <td>0.382000</td>\n",
              "      <td>00:43</td>\n",
              "    </tr>\n",
              "    <tr>\n",
              "      <td>6</td>\n",
              "      <td>1.609613</td>\n",
              "      <td>0.512928</td>\n",
              "      <td>1.761320</td>\n",
              "      <td>0.416000</td>\n",
              "      <td>00:43</td>\n",
              "    </tr>\n",
              "    <tr>\n",
              "      <td>7</td>\n",
              "      <td>1.579982</td>\n",
              "      <td>0.532520</td>\n",
              "      <td>1.811412</td>\n",
              "      <td>0.422000</td>\n",
              "      <td>00:43</td>\n",
              "    </tr>\n",
              "    <tr>\n",
              "      <td>8</td>\n",
              "      <td>1.537742</td>\n",
              "      <td>0.545126</td>\n",
              "      <td>1.816030</td>\n",
              "      <td>0.422000</td>\n",
              "      <td>00:43</td>\n",
              "    </tr>\n",
              "    <tr>\n",
              "      <td>9</td>\n",
              "      <td>1.487730</td>\n",
              "      <td>0.570660</td>\n",
              "      <td>1.567914</td>\n",
              "      <td>0.532000</td>\n",
              "      <td>00:43</td>\n",
              "    </tr>\n",
              "    <tr>\n",
              "      <td>10</td>\n",
              "      <td>1.459220</td>\n",
              "      <td>0.588566</td>\n",
              "      <td>1.726505</td>\n",
              "      <td>0.488000</td>\n",
              "      <td>00:43</td>\n",
              "    </tr>\n",
              "    <tr>\n",
              "      <td>11</td>\n",
              "      <td>1.416851</td>\n",
              "      <td>0.604545</td>\n",
              "      <td>1.701222</td>\n",
              "      <td>0.502000</td>\n",
              "      <td>00:43</td>\n",
              "    </tr>\n",
              "    <tr>\n",
              "      <td>12</td>\n",
              "      <td>1.365354</td>\n",
              "      <td>0.629677</td>\n",
              "      <td>2.359144</td>\n",
              "      <td>0.392000</td>\n",
              "      <td>00:43</td>\n",
              "    </tr>\n",
              "    <tr>\n",
              "      <td>13</td>\n",
              "      <td>1.322853</td>\n",
              "      <td>0.650393</td>\n",
              "      <td>1.654947</td>\n",
              "      <td>0.508000</td>\n",
              "      <td>00:43</td>\n",
              "    </tr>\n",
              "    <tr>\n",
              "      <td>14</td>\n",
              "      <td>1.289542</td>\n",
              "      <td>0.662598</td>\n",
              "      <td>1.334556</td>\n",
              "      <td>0.636000</td>\n",
              "      <td>00:43</td>\n",
              "    </tr>\n",
              "    <tr>\n",
              "      <td>15</td>\n",
              "      <td>1.255038</td>\n",
              "      <td>0.675847</td>\n",
              "      <td>1.521387</td>\n",
              "      <td>0.576000</td>\n",
              "      <td>00:43</td>\n",
              "    </tr>\n",
              "    <tr>\n",
              "      <td>16</td>\n",
              "      <td>1.219140</td>\n",
              "      <td>0.698250</td>\n",
              "      <td>1.586686</td>\n",
              "      <td>0.578000</td>\n",
              "      <td>00:43</td>\n",
              "    </tr>\n",
              "    <tr>\n",
              "      <td>17</td>\n",
              "      <td>1.193786</td>\n",
              "      <td>0.703790</td>\n",
              "      <td>1.442337</td>\n",
              "      <td>0.578000</td>\n",
              "      <td>00:43</td>\n",
              "    </tr>\n",
              "    <tr>\n",
              "      <td>18</td>\n",
              "      <td>1.158633</td>\n",
              "      <td>0.725630</td>\n",
              "      <td>1.331295</td>\n",
              "      <td>0.678000</td>\n",
              "      <td>00:43</td>\n",
              "    </tr>\n",
              "    <tr>\n",
              "      <td>19</td>\n",
              "      <td>1.137920</td>\n",
              "      <td>0.732696</td>\n",
              "      <td>1.358542</td>\n",
              "      <td>0.636000</td>\n",
              "      <td>00:43</td>\n",
              "    </tr>\n",
              "    <tr>\n",
              "      <td>20</td>\n",
              "      <td>1.100017</td>\n",
              "      <td>0.748836</td>\n",
              "      <td>1.262231</td>\n",
              "      <td>0.692000</td>\n",
              "      <td>00:43</td>\n",
              "    </tr>\n",
              "    <tr>\n",
              "      <td>21</td>\n",
              "      <td>1.076094</td>\n",
              "      <td>0.765136</td>\n",
              "      <td>1.183970</td>\n",
              "      <td>0.712000</td>\n",
              "      <td>00:43</td>\n",
              "    </tr>\n",
              "    <tr>\n",
              "      <td>22</td>\n",
              "      <td>1.046692</td>\n",
              "      <td>0.772924</td>\n",
              "      <td>1.133571</td>\n",
              "      <td>0.730000</td>\n",
              "      <td>00:43</td>\n",
              "    </tr>\n",
              "    <tr>\n",
              "      <td>23</td>\n",
              "      <td>1.025238</td>\n",
              "      <td>0.785932</td>\n",
              "      <td>1.354699</td>\n",
              "      <td>0.648000</td>\n",
              "      <td>00:43</td>\n",
              "    </tr>\n",
              "    <tr>\n",
              "      <td>24</td>\n",
              "      <td>1.002233</td>\n",
              "      <td>0.793962</td>\n",
              "      <td>1.092726</td>\n",
              "      <td>0.742000</td>\n",
              "      <td>00:43</td>\n",
              "    </tr>\n",
              "    <tr>\n",
              "      <td>25</td>\n",
              "      <td>0.970156</td>\n",
              "      <td>0.809941</td>\n",
              "      <td>1.098640</td>\n",
              "      <td>0.748000</td>\n",
              "      <td>00:43</td>\n",
              "    </tr>\n",
              "    <tr>\n",
              "      <td>26</td>\n",
              "      <td>0.942014</td>\n",
              "      <td>0.825036</td>\n",
              "      <td>1.118523</td>\n",
              "      <td>0.750000</td>\n",
              "      <td>00:43</td>\n",
              "    </tr>\n",
              "    <tr>\n",
              "      <td>27</td>\n",
              "      <td>0.914771</td>\n",
              "      <td>0.835796</td>\n",
              "      <td>1.081954</td>\n",
              "      <td>0.728000</td>\n",
              "      <td>00:43</td>\n",
              "    </tr>\n",
              "    <tr>\n",
              "      <td>28</td>\n",
              "      <td>0.893633</td>\n",
              "      <td>0.841818</td>\n",
              "      <td>1.037070</td>\n",
              "      <td>0.776000</td>\n",
              "      <td>00:43</td>\n",
              "    </tr>\n",
              "    <tr>\n",
              "      <td>29</td>\n",
              "      <td>0.857791</td>\n",
              "      <td>0.861410</td>\n",
              "      <td>1.040275</td>\n",
              "      <td>0.768000</td>\n",
              "      <td>00:43</td>\n",
              "    </tr>\n",
              "    <tr>\n",
              "      <td>30</td>\n",
              "      <td>0.829356</td>\n",
              "      <td>0.874578</td>\n",
              "      <td>0.971360</td>\n",
              "      <td>0.804000</td>\n",
              "      <td>00:43</td>\n",
              "    </tr>\n",
              "    <tr>\n",
              "      <td>31</td>\n",
              "      <td>0.808787</td>\n",
              "      <td>0.880681</td>\n",
              "      <td>0.964091</td>\n",
              "      <td>0.802000</td>\n",
              "      <td>00:43</td>\n",
              "    </tr>\n",
              "    <tr>\n",
              "      <td>32</td>\n",
              "      <td>0.787779</td>\n",
              "      <td>0.891119</td>\n",
              "      <td>1.037929</td>\n",
              "      <td>0.778000</td>\n",
              "      <td>00:43</td>\n",
              "    </tr>\n",
              "    <tr>\n",
              "      <td>33</td>\n",
              "      <td>0.763665</td>\n",
              "      <td>0.904047</td>\n",
              "      <td>1.011925</td>\n",
              "      <td>0.794000</td>\n",
              "      <td>00:43</td>\n",
              "    </tr>\n",
              "    <tr>\n",
              "      <td>34</td>\n",
              "      <td>0.744748</td>\n",
              "      <td>0.911595</td>\n",
              "      <td>0.989637</td>\n",
              "      <td>0.802000</td>\n",
              "      <td>00:43</td>\n",
              "    </tr>\n",
              "    <tr>\n",
              "      <td>35</td>\n",
              "      <td>0.731258</td>\n",
              "      <td>0.920668</td>\n",
              "      <td>0.973295</td>\n",
              "      <td>0.814000</td>\n",
              "      <td>00:43</td>\n",
              "    </tr>\n",
              "    <tr>\n",
              "      <td>36</td>\n",
              "      <td>0.723395</td>\n",
              "      <td>0.922354</td>\n",
              "      <td>0.964688</td>\n",
              "      <td>0.824000</td>\n",
              "      <td>00:43</td>\n",
              "    </tr>\n",
              "    <tr>\n",
              "      <td>37</td>\n",
              "      <td>0.714258</td>\n",
              "      <td>0.927172</td>\n",
              "      <td>0.950679</td>\n",
              "      <td>0.832000</td>\n",
              "      <td>00:43</td>\n",
              "    </tr>\n",
              "    <tr>\n",
              "      <td>38</td>\n",
              "      <td>0.711507</td>\n",
              "      <td>0.929260</td>\n",
              "      <td>0.961089</td>\n",
              "      <td>0.824000</td>\n",
              "      <td>00:43</td>\n",
              "    </tr>\n",
              "    <tr>\n",
              "      <td>39</td>\n",
              "      <td>0.707048</td>\n",
              "      <td>0.931347</td>\n",
              "      <td>0.963363</td>\n",
              "      <td>0.824000</td>\n",
              "      <td>00:43</td>\n",
              "    </tr>\n",
              "  </tbody>\n",
              "</table>"
            ],
            "text/plain": [
              "<IPython.core.display.HTML object>"
            ]
          },
          "metadata": {
            "tags": []
          }
        }
      ]
    },
    {
      "cell_type": "code",
      "metadata": {
        "id": "5BNmaU8E64b2",
        "colab_type": "code",
        "colab": {
          "base_uri": "https://localhost:8080/",
          "height": 54
        },
        "outputId": "d2ab34fb-f540-467e-80d9-05e67b32e72d"
      },
      "source": [
        "st = learn.model.state_dict()\n",
        "', '.join(st.keys())"
      ],
      "execution_count": 10,
      "outputs": [
        {
          "output_type": "execute_result",
          "data": {
            "text/plain": [
              "'0.0.weight, 0.1.weight, 0.1.bias, 0.1.running_mean, 0.1.running_var, 0.1.num_batches_tracked, 1.0.weight, 1.1.weight, 1.1.bias, 1.1.running_mean, 1.1.running_var, 1.1.num_batches_tracked, 2.0.weight, 2.1.weight, 2.1.bias, 2.1.running_mean, 2.1.running_var, 2.1.num_batches_tracked, 4.0.convs.0.0.weight, 4.0.convs.0.1.weight, 4.0.convs.0.1.bias, 4.0.convs.0.1.running_mean, 4.0.convs.0.1.running_var, 4.0.convs.0.1.num_batches_tracked, 4.0.convs.1.0.weight, 4.0.convs.1.1.weight, 4.0.convs.1.1.bias, 4.0.convs.1.1.running_mean, 4.0.convs.1.1.running_var, 4.0.convs.1.1.num_batches_tracked, 4.1.convs.0.0.weight, 4.1.convs.0.1.weight, 4.1.convs.0.1.bias, 4.1.convs.0.1.running_mean, 4.1.convs.0.1.running_var, 4.1.convs.0.1.num_batches_tracked, 4.1.convs.1.0.weight, 4.1.convs.1.1.weight, 4.1.convs.1.1.bias, 4.1.convs.1.1.running_mean, 4.1.convs.1.1.running_var, 4.1.convs.1.1.num_batches_tracked, 5.0.convs.0.0.weight, 5.0.convs.0.1.weight, 5.0.convs.0.1.bias, 5.0.convs.0.1.running_mean, 5.0.convs.0.1.running_var, 5.0.convs.0.1.num_batches_tracked, 5.0.convs.1.0.weight, 5.0.convs.1.1.weight, 5.0.convs.1.1.bias, 5.0.convs.1.1.running_mean, 5.0.convs.1.1.running_var, 5.0.convs.1.1.num_batches_tracked, 5.0.idconv.0.weight, 5.0.idconv.1.weight, 5.0.idconv.1.bias, 5.0.idconv.1.running_mean, 5.0.idconv.1.running_var, 5.0.idconv.1.num_batches_tracked, 5.1.convs.0.0.weight, 5.1.convs.0.1.weight, 5.1.convs.0.1.bias, 5.1.convs.0.1.running_mean, 5.1.convs.0.1.running_var, 5.1.convs.0.1.num_batches_tracked, 5.1.convs.1.0.weight, 5.1.convs.1.1.weight, 5.1.convs.1.1.bias, 5.1.convs.1.1.running_mean, 5.1.convs.1.1.running_var, 5.1.convs.1.1.num_batches_tracked, 6.0.convs.0.0.weight, 6.0.convs.0.1.weight, 6.0.convs.0.1.bias, 6.0.convs.0.1.running_mean, 6.0.convs.0.1.running_var, 6.0.convs.0.1.num_batches_tracked, 6.0.convs.1.0.weight, 6.0.convs.1.1.weight, 6.0.convs.1.1.bias, 6.0.convs.1.1.running_mean, 6.0.convs.1.1.running_var, 6.0.convs.1.1.num_batches_tracked, 6.0.idconv.0.weight, 6.0.idconv.1.weight, 6.0.idconv.1.bias, 6.0.idconv.1.running_mean, 6.0.idconv.1.running_var, 6.0.idconv.1.num_batches_tracked, 6.1.convs.0.0.weight, 6.1.convs.0.1.weight, 6.1.convs.0.1.bias, 6.1.convs.0.1.running_mean, 6.1.convs.0.1.running_var, 6.1.convs.0.1.num_batches_tracked, 6.1.convs.1.0.weight, 6.1.convs.1.1.weight, 6.1.convs.1.1.bias, 6.1.convs.1.1.running_mean, 6.1.convs.1.1.running_var, 6.1.convs.1.1.num_batches_tracked, 7.0.convs.0.0.weight, 7.0.convs.0.1.weight, 7.0.convs.0.1.bias, 7.0.convs.0.1.running_mean, 7.0.convs.0.1.running_var, 7.0.convs.0.1.num_batches_tracked, 7.0.convs.1.0.weight, 7.0.convs.1.1.weight, 7.0.convs.1.1.bias, 7.0.convs.1.1.running_mean, 7.0.convs.1.1.running_var, 7.0.convs.1.1.num_batches_tracked, 7.0.idconv.0.weight, 7.0.idconv.1.weight, 7.0.idconv.1.bias, 7.0.idconv.1.running_mean, 7.0.idconv.1.running_var, 7.0.idconv.1.num_batches_tracked, 7.1.convs.0.0.weight, 7.1.convs.0.1.weight, 7.1.convs.0.1.bias, 7.1.convs.0.1.running_mean, 7.1.convs.0.1.running_var, 7.1.convs.0.1.num_batches_tracked, 7.1.convs.1.0.weight, 7.1.convs.1.1.weight, 7.1.convs.1.1.bias, 7.1.convs.1.1.running_mean, 7.1.convs.1.1.running_var, 7.1.convs.1.1.num_batches_tracked, 10.weight, 10.bias'"
            ]
          },
          "metadata": {
            "tags": []
          },
          "execution_count": 10
        }
      ]
    },
    {
      "cell_type": "code",
      "metadata": {
        "id": "01jYf8aq80Cy",
        "colab_type": "code",
        "colab": {
          "base_uri": "https://localhost:8080/",
          "height": 51
        },
        "outputId": "7c9588e6-481d-4ba2-a713-028325fb39b2"
      },
      "source": [
        "st['10.bias']"
      ],
      "execution_count": 11,
      "outputs": [
        {
          "output_type": "execute_result",
          "data": {
            "text/plain": [
              "tensor([ 0.0157, -0.0065, -0.0081, -0.0167, -0.0158,  0.0247, -0.0733,  0.0120,\n",
              "         0.0066,  0.0444], device='cuda:0')"
            ]
          },
          "metadata": {
            "tags": []
          },
          "execution_count": 11
        }
      ]
    },
    {
      "cell_type": "code",
      "metadata": {
        "id": "tjZrbXRT83IN",
        "colab_type": "code",
        "colab": {}
      },
      "source": [
        "mdl_path=path/'models'\n",
        "mdl_path.mkdir(exist_ok=True)"
      ],
      "execution_count": 0,
      "outputs": []
    },
    {
      "cell_type": "code",
      "metadata": {
        "id": "HGoYcj468-JU",
        "colab_type": "code",
        "colab": {}
      },
      "source": [
        "torch.save(st,mdl_path/'iw5')"
      ],
      "execution_count": 0,
      "outputs": []
    },
    {
      "cell_type": "markdown",
      "metadata": {
        "id": "XXkXCO8j9lrb",
        "colab_type": "text"
      },
      "source": [
        "### pets"
      ]
    },
    {
      "cell_type": "code",
      "metadata": {
        "id": "M6IuTXH19m9d",
        "colab_type": "code",
        "colab": {}
      },
      "source": [
        "pets = datasets.untar_data(datasets.URLs.PETS)"
      ],
      "execution_count": 0,
      "outputs": []
    },
    {
      "cell_type": "code",
      "metadata": {
        "id": "f6U3zoql9se1",
        "colab_type": "code",
        "colab": {
          "base_uri": "https://localhost:8080/",
          "height": 51
        },
        "outputId": "4be3c6ae-9c4c-4525-8838-f834f0bcaa0b"
      },
      "source": [
        "pets.ls()"
      ],
      "execution_count": 21,
      "outputs": [
        {
          "output_type": "execute_result",
          "data": {
            "text/plain": [
              "[PosixPath('/root/.fastai/data/oxford-iiit-pet/annotations'),\n",
              " PosixPath('/root/.fastai/data/oxford-iiit-pet/images')]"
            ]
          },
          "metadata": {
            "tags": []
          },
          "execution_count": 21
        }
      ]
    },
    {
      "cell_type": "code",
      "metadata": {
        "id": "d5HSCEfg9u6p",
        "colab_type": "code",
        "colab": {}
      },
      "source": [
        "pets_path=pets/'images'"
      ],
      "execution_count": 0,
      "outputs": []
    },
    {
      "cell_type": "code",
      "metadata": {
        "id": "lusf2oFn9yhG",
        "colab_type": "code",
        "colab": {}
      },
      "source": [
        "il = ImageList.from_files(pets_path,tfms=tfms)"
      ],
      "execution_count": 0,
      "outputs": []
    },
    {
      "cell_type": "code",
      "metadata": {
        "id": "UFYxj_-194OC",
        "colab_type": "code",
        "colab": {
          "base_uri": "https://localhost:8080/",
          "height": 88
        },
        "outputId": "a55dec9d-ac42-4916-c93f-718aa68a966d"
      },
      "source": [
        "il"
      ],
      "execution_count": 24,
      "outputs": [
        {
          "output_type": "execute_result",
          "data": {
            "text/plain": [
              "ImageList (7390 items)\n",
              "[PosixPath('/root/.fastai/data/oxford-iiit-pet/images/english_setter_61.jpg'), PosixPath('/root/.fastai/data/oxford-iiit-pet/images/basset_hound_111.jpg'), PosixPath('/root/.fastai/data/oxford-iiit-pet/images/scottish_terrier_7.jpg'), PosixPath('/root/.fastai/data/oxford-iiit-pet/images/Egyptian_Mau_222.jpg'), PosixPath('/root/.fastai/data/oxford-iiit-pet/images/Egyptian_Mau_67.jpg'), PosixPath('/root/.fastai/data/oxford-iiit-pet/images/english_setter_154.jpg'), PosixPath('/root/.fastai/data/oxford-iiit-pet/images/saint_bernard_46.jpg'), PosixPath('/root/.fastai/data/oxford-iiit-pet/images/yorkshire_terrier_120.jpg'), PosixPath('/root/.fastai/data/oxford-iiit-pet/images/beagle_164.jpg'), PosixPath('/root/.fastai/data/oxford-iiit-pet/images/Siamese_238.jpg')...]\n",
              "Path: /root/.fastai/data/oxford-iiit-pet/images"
            ]
          },
          "metadata": {
            "tags": []
          },
          "execution_count": 24
        }
      ]
    },
    {
      "cell_type": "code",
      "metadata": {
        "id": "SzrBnw5N94jR",
        "colab_type": "code",
        "colab": {}
      },
      "source": [
        "#export\n",
        "def random_splitter(fn,p_valid): return random.random() < p_valid"
      ],
      "execution_count": 0,
      "outputs": []
    },
    {
      "cell_type": "code",
      "metadata": {
        "id": "C6Xf_74w-xnc",
        "colab_type": "code",
        "colab": {}
      },
      "source": [
        "random.seed(42)"
      ],
      "execution_count": 0,
      "outputs": []
    },
    {
      "cell_type": "code",
      "metadata": {
        "id": "aV1YmiAG-y7k",
        "colab_type": "code",
        "colab": {}
      },
      "source": [
        "sd = SplitData.split_by_func(il,partial(random_splitter,p_valid=0.1))"
      ],
      "execution_count": 0,
      "outputs": []
    },
    {
      "cell_type": "code",
      "metadata": {
        "id": "GsHVc5nb-4n2",
        "colab_type": "code",
        "colab": {
          "base_uri": "https://localhost:8080/",
          "height": 156
        },
        "outputId": "4172ff92-2626-44dd-de7b-d2222a08d395"
      },
      "source": [
        "sd"
      ],
      "execution_count": 28,
      "outputs": [
        {
          "output_type": "execute_result",
          "data": {
            "text/plain": [
              "SplitData\n",
              "Train: ImageList (6667 items)\n",
              "[PosixPath('/root/.fastai/data/oxford-iiit-pet/images/english_setter_61.jpg'), PosixPath('/root/.fastai/data/oxford-iiit-pet/images/scottish_terrier_7.jpg'), PosixPath('/root/.fastai/data/oxford-iiit-pet/images/Egyptian_Mau_222.jpg'), PosixPath('/root/.fastai/data/oxford-iiit-pet/images/Egyptian_Mau_67.jpg'), PosixPath('/root/.fastai/data/oxford-iiit-pet/images/english_setter_154.jpg'), PosixPath('/root/.fastai/data/oxford-iiit-pet/images/saint_bernard_46.jpg'), PosixPath('/root/.fastai/data/oxford-iiit-pet/images/beagle_164.jpg'), PosixPath('/root/.fastai/data/oxford-iiit-pet/images/keeshond_89.jpg'), PosixPath('/root/.fastai/data/oxford-iiit-pet/images/Birman_109.jpg'), PosixPath('/root/.fastai/data/oxford-iiit-pet/images/havanese_148.jpg')...]\n",
              "Path: /root/.fastai/data/oxford-iiit-pet/images\n",
              "Valid: ImageList (723 items)\n",
              "[PosixPath('/root/.fastai/data/oxford-iiit-pet/images/basset_hound_111.jpg'), PosixPath('/root/.fastai/data/oxford-iiit-pet/images/yorkshire_terrier_120.jpg'), PosixPath('/root/.fastai/data/oxford-iiit-pet/images/Siamese_238.jpg'), PosixPath('/root/.fastai/data/oxford-iiit-pet/images/Russian_Blue_127.jpg'), PosixPath('/root/.fastai/data/oxford-iiit-pet/images/newfoundland_3.jpg'), PosixPath('/root/.fastai/data/oxford-iiit-pet/images/english_setter_6.jpg'), PosixPath('/root/.fastai/data/oxford-iiit-pet/images/Birman_187.jpg'), PosixPath('/root/.fastai/data/oxford-iiit-pet/images/Birman_26.jpg'), PosixPath('/root/.fastai/data/oxford-iiit-pet/images/leonberger_67.jpg'), PosixPath('/root/.fastai/data/oxford-iiit-pet/images/pug_189.jpg')...]\n",
              "Path: /root/.fastai/data/oxford-iiit-pet/images"
            ]
          },
          "metadata": {
            "tags": []
          },
          "execution_count": 28
        }
      ]
    },
    {
      "cell_type": "code",
      "metadata": {
        "id": "Y-I1ku3yCZcC",
        "colab_type": "code",
        "colab": {
          "base_uri": "https://localhost:8080/",
          "height": 34
        },
        "outputId": "bf47bdd5-0777-4aad-c1b5-dcb48725d0ce"
      },
      "source": [
        "n = il.items[0].name; n"
      ],
      "execution_count": 30,
      "outputs": [
        {
          "output_type": "execute_result",
          "data": {
            "text/plain": [
              "'english_setter_61.jpg'"
            ]
          },
          "metadata": {
            "tags": []
          },
          "execution_count": 30
        }
      ]
    },
    {
      "cell_type": "code",
      "metadata": {
        "id": "7dT4BRFBDDHk",
        "colab_type": "code",
        "colab": {
          "base_uri": "https://localhost:8080/",
          "height": 34
        },
        "outputId": "1957ca3a-f555-4507-9d9d-64c81c27acee"
      },
      "source": [
        "re.findall(r'^(.*)_\\d+.jpg$',n)[0]"
      ],
      "execution_count": 31,
      "outputs": [
        {
          "output_type": "execute_result",
          "data": {
            "text/plain": [
              "'english_setter'"
            ]
          },
          "metadata": {
            "tags": []
          },
          "execution_count": 31
        }
      ]
    },
    {
      "cell_type": "code",
      "metadata": {
        "id": "k1EvD7RKDUg2",
        "colab_type": "code",
        "colab": {}
      },
      "source": [
        "def pet_labeler(fn): return re.findall(r'^(.*)_\\d+.jpg$',fn.name)[0]"
      ],
      "execution_count": 0,
      "outputs": []
    },
    {
      "cell_type": "code",
      "metadata": {
        "id": "UkkH3FUoDu8V",
        "colab_type": "code",
        "colab": {}
      },
      "source": [
        "proc = CategoryProcessor()"
      ],
      "execution_count": 0,
      "outputs": []
    },
    {
      "cell_type": "code",
      "metadata": {
        "id": "CGfhe7_QDzF3",
        "colab_type": "code",
        "colab": {}
      },
      "source": [
        "ll = label_by_func(sd,pet_labeler,proc_y=proc)"
      ],
      "execution_count": 0,
      "outputs": []
    },
    {
      "cell_type": "code",
      "metadata": {
        "id": "Q8gwEURLD5Wu",
        "colab_type": "code",
        "colab": {
          "base_uri": "https://localhost:8080/",
          "height": 54
        },
        "outputId": "248a1bed-42c6-42d5-dbe3-c8c3f9e2a994"
      },
      "source": [
        "', '.join(proc.vocab)"
      ],
      "execution_count": 35,
      "outputs": [
        {
          "output_type": "execute_result",
          "data": {
            "text/plain": [
              "'english_setter, scottish_terrier, Egyptian_Mau, saint_bernard, beagle, keeshond, Birman, havanese, Siamese, newfoundland, american_pit_bull_terrier, Bombay, miniature_pinscher, Ragdoll, american_bulldog, Russian_Blue, basset_hound, great_pyrenees, Bengal, leonberger, Persian, pomeranian, British_Shorthair, english_cocker_spaniel, Abyssinian, Sphynx, german_shorthaired, wheaten_terrier, samoyed, chihuahua, boxer, pug, staffordshire_bull_terrier, japanese_chin, shiba_inu, Maine_Coon, yorkshire_terrier'"
            ]
          },
          "metadata": {
            "tags": []
          },
          "execution_count": 35
        }
      ]
    },
    {
      "cell_type": "code",
      "metadata": {
        "id": "0sC4mtLWEgUn",
        "colab_type": "code",
        "colab": {}
      },
      "source": [
        "ll.valid.x.tfms = val_tfms"
      ],
      "execution_count": 0,
      "outputs": []
    },
    {
      "cell_type": "code",
      "metadata": {
        "id": "Nlr-zYuiEtel",
        "colab_type": "code",
        "colab": {}
      },
      "source": [
        "c_out=len(proc.vocab)"
      ],
      "execution_count": 0,
      "outputs": []
    },
    {
      "cell_type": "code",
      "metadata": {
        "id": "EJ5K_STzEv2w",
        "colab_type": "code",
        "colab": {}
      },
      "source": [
        "data = ll.to_databunch(bs,c_in=3,c_out=c_out, num_workers=8)"
      ],
      "execution_count": 0,
      "outputs": []
    },
    {
      "cell_type": "code",
      "metadata": {
        "id": "aRaafoTXE3uX",
        "colab_type": "code",
        "colab": {}
      },
      "source": [
        "learn = cnn_learner(xresnet18,data,loss_func,opt_func,norm=norm_imagenette)"
      ],
      "execution_count": 0,
      "outputs": []
    },
    {
      "cell_type": "code",
      "metadata": {
        "id": "XcBRPYy5FACU",
        "colab_type": "code",
        "colab": {
          "base_uri": "https://localhost:8080/",
          "height": 204
        },
        "outputId": "ce8d219b-3e7e-497e-8e16-49ff6e3f17db"
      },
      "source": [
        "learn.fit(5,cbsched)"
      ],
      "execution_count": 40,
      "outputs": [
        {
          "output_type": "display_data",
          "data": {
            "text/html": [
              "<table border=\"1\" class=\"dataframe\">\n",
              "  <thead>\n",
              "    <tr style=\"text-align: left;\">\n",
              "      <th>epoch</th>\n",
              "      <th>train_loss</th>\n",
              "      <th>train_accuracy</th>\n",
              "      <th>valid_loss</th>\n",
              "      <th>valid_accuracy</th>\n",
              "      <th>time</th>\n",
              "    </tr>\n",
              "  </thead>\n",
              "  <tbody>\n",
              "    <tr>\n",
              "      <td>0</td>\n",
              "      <td>3.473916</td>\n",
              "      <td>0.088946</td>\n",
              "      <td>3.462662</td>\n",
              "      <td>0.084371</td>\n",
              "      <td>00:37</td>\n",
              "    </tr>\n",
              "    <tr>\n",
              "      <td>1</td>\n",
              "      <td>3.292235</td>\n",
              "      <td>0.136343</td>\n",
              "      <td>3.582549</td>\n",
              "      <td>0.081604</td>\n",
              "      <td>00:37</td>\n",
              "    </tr>\n",
              "    <tr>\n",
              "      <td>2</td>\n",
              "      <td>3.080751</td>\n",
              "      <td>0.191240</td>\n",
              "      <td>3.211836</td>\n",
              "      <td>0.146611</td>\n",
              "      <td>00:37</td>\n",
              "    </tr>\n",
              "    <tr>\n",
              "      <td>3</td>\n",
              "      <td>2.774271</td>\n",
              "      <td>0.289636</td>\n",
              "      <td>2.750294</td>\n",
              "      <td>0.273859</td>\n",
              "      <td>00:37</td>\n",
              "    </tr>\n",
              "    <tr>\n",
              "      <td>4</td>\n",
              "      <td>2.476247</td>\n",
              "      <td>0.389081</td>\n",
              "      <td>2.512551</td>\n",
              "      <td>0.359613</td>\n",
              "      <td>00:37</td>\n",
              "    </tr>\n",
              "  </tbody>\n",
              "</table>"
            ],
            "text/plain": [
              "<IPython.core.display.HTML object>"
            ]
          },
          "metadata": {
            "tags": []
          }
        }
      ]
    },
    {
      "cell_type": "markdown",
      "metadata": {
        "id": "3a2lJNEhF5IQ",
        "colab_type": "text"
      },
      "source": [
        "### custom head"
      ]
    },
    {
      "cell_type": "code",
      "metadata": {
        "id": "CZLrGpV8FDSc",
        "colab_type": "code",
        "colab": {}
      },
      "source": [
        "learn = cnn_learner(xresnet18,data,loss_func,opt_func,c_out=10,norm=norm_imagenette)"
      ],
      "execution_count": 0,
      "outputs": []
    },
    {
      "cell_type": "code",
      "metadata": {
        "id": "2wjEhbbXGQSA",
        "colab_type": "code",
        "colab": {}
      },
      "source": [
        "st = torch.load(mdl_path/'iw5')"
      ],
      "execution_count": 0,
      "outputs": []
    },
    {
      "cell_type": "code",
      "metadata": {
        "id": "p1OpdmlPGb7J",
        "colab_type": "code",
        "colab": {}
      },
      "source": [
        "m = learn.model"
      ],
      "execution_count": 0,
      "outputs": []
    },
    {
      "cell_type": "code",
      "metadata": {
        "id": "dMpSFNk9Gdju",
        "colab_type": "code",
        "colab": {
          "base_uri": "https://localhost:8080/",
          "height": 34
        },
        "outputId": "ea0d46ec-8bd1-4b4e-ac6f-e4142fce0257"
      },
      "source": [
        "m.load_state_dict(st)"
      ],
      "execution_count": 44,
      "outputs": [
        {
          "output_type": "execute_result",
          "data": {
            "text/plain": [
              "IncompatibleKeys(missing_keys=[], unexpected_keys=[])"
            ]
          },
          "metadata": {
            "tags": []
          },
          "execution_count": 44
        }
      ]
    },
    {
      "cell_type": "code",
      "metadata": {
        "id": "Ew8C3uSuGe9T",
        "colab_type": "code",
        "colab": {}
      },
      "source": [
        ""
      ],
      "execution_count": 0,
      "outputs": []
    }
  ]
}