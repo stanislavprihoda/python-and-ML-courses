{
  "nbformat": 4,
  "nbformat_minor": 0,
  "metadata": {
    "colab": {
      "name": "08_Data_block.ipynb",
      "version": "0.3.2",
      "provenance": []
    },
    "kernelspec": {
      "name": "python3",
      "display_name": "Python 3"
    },
    "accelerator": "GPU"
  },
  "cells": [
    {
      "cell_type": "code",
      "metadata": {
        "id": "CVcsbpbfDOBL",
        "colab_type": "code",
        "colab": {}
      },
      "source": [
        "from google.colab import drive\n",
        "drive.mount('/content/gdrive')\n",
        "import sys\n",
        "sys.path.append('//content/gdrive/My Drive/Colab Notebooks/')"
      ],
      "execution_count": 0,
      "outputs": []
    },
    {
      "cell_type": "code",
      "metadata": {
        "id": "GW-lYoP0FjMu",
        "colab_type": "code",
        "colab": {}
      },
      "source": [
        "#export\n",
        "from exp.nb_07a import *"
      ],
      "execution_count": 0,
      "outputs": []
    },
    {
      "cell_type": "code",
      "metadata": {
        "id": "wn8ZLxWmLaEV",
        "colab_type": "code",
        "outputId": "a837507f-448e-4049-afc6-933c9cb4c975",
        "colab": {
          "base_uri": "https://localhost:8080/",
          "height": 34
        }
      },
      "source": [
        "datasets.URLs.IMAGENETTE_160"
      ],
      "execution_count": 3,
      "outputs": [
        {
          "output_type": "execute_result",
          "data": {
            "text/plain": [
              "'https://s3.amazonaws.com/fast-ai-imageclas/imagenette-160'"
            ]
          },
          "metadata": {
            "tags": []
          },
          "execution_count": 3
        }
      ]
    },
    {
      "cell_type": "code",
      "metadata": {
        "id": "Dudszz4mLbf3",
        "colab_type": "code",
        "outputId": "a4ba192a-e645-48dc-dc51-f9e9aaab48a7",
        "colab": {
          "base_uri": "https://localhost:8080/",
          "height": 34
        }
      },
      "source": [
        "path = datasets.untar_data(datasets.URLs.IMAGENETTE_160)\n",
        "path"
      ],
      "execution_count": 4,
      "outputs": [
        {
          "output_type": "execute_result",
          "data": {
            "text/plain": [
              "PosixPath('/root/.fastai/data/imagenette-160')"
            ]
          },
          "metadata": {
            "tags": []
          },
          "execution_count": 4
        }
      ]
    },
    {
      "cell_type": "code",
      "metadata": {
        "id": "Wpky3Pl-L971",
        "colab_type": "code",
        "colab": {}
      },
      "source": [
        "#export\n",
        "import PIL,os,mimetypes\n",
        "Path.ls = lambda x: list(x.iterdir())"
      ],
      "execution_count": 0,
      "outputs": []
    },
    {
      "cell_type": "code",
      "metadata": {
        "id": "JstH7hNMMVxf",
        "colab_type": "code",
        "outputId": "289e5e2c-baa5-401b-af06-0660e2cfcdff",
        "colab": {
          "base_uri": "https://localhost:8080/",
          "height": 51
        }
      },
      "source": [
        "path.ls()"
      ],
      "execution_count": 6,
      "outputs": [
        {
          "output_type": "execute_result",
          "data": {
            "text/plain": [
              "[PosixPath('/root/.fastai/data/imagenette-160/train'),\n",
              " PosixPath('/root/.fastai/data/imagenette-160/val')]"
            ]
          },
          "metadata": {
            "tags": []
          },
          "execution_count": 6
        }
      ]
    },
    {
      "cell_type": "code",
      "metadata": {
        "id": "TlBPjck4MkL4",
        "colab_type": "code",
        "outputId": "e830172b-1c0a-4ad4-bc2f-e8a0f69f76a1",
        "colab": {
          "base_uri": "https://localhost:8080/",
          "height": 187
        }
      },
      "source": [
        "(path/'val').ls()"
      ],
      "execution_count": 7,
      "outputs": [
        {
          "output_type": "execute_result",
          "data": {
            "text/plain": [
              "[PosixPath('/root/.fastai/data/imagenette-160/val/n03888257'),\n",
              " PosixPath('/root/.fastai/data/imagenette-160/val/n01440764'),\n",
              " PosixPath('/root/.fastai/data/imagenette-160/val/n03417042'),\n",
              " PosixPath('/root/.fastai/data/imagenette-160/val/n03028079'),\n",
              " PosixPath('/root/.fastai/data/imagenette-160/val/n02979186'),\n",
              " PosixPath('/root/.fastai/data/imagenette-160/val/n02102040'),\n",
              " PosixPath('/root/.fastai/data/imagenette-160/val/n03394916'),\n",
              " PosixPath('/root/.fastai/data/imagenette-160/val/n03425413'),\n",
              " PosixPath('/root/.fastai/data/imagenette-160/val/n03000684'),\n",
              " PosixPath('/root/.fastai/data/imagenette-160/val/n03445777')]"
            ]
          },
          "metadata": {
            "tags": []
          },
          "execution_count": 7
        }
      ]
    },
    {
      "cell_type": "code",
      "metadata": {
        "id": "2qUDGABCNVXm",
        "colab_type": "code",
        "colab": {}
      },
      "source": [
        "path_tench = path/'val'/'n01440764'"
      ],
      "execution_count": 0,
      "outputs": []
    },
    {
      "cell_type": "code",
      "metadata": {
        "id": "qbl5JVtFNs-d",
        "colab_type": "code",
        "outputId": "f728b9b7-698f-4c8f-99d5-c69e2ff04e40",
        "colab": {
          "base_uri": "https://localhost:8080/",
          "height": 54
        }
      },
      "source": [
        "img_fn = path_tench.ls()[0]\n",
        "img_fn"
      ],
      "execution_count": 9,
      "outputs": [
        {
          "output_type": "execute_result",
          "data": {
            "text/plain": [
              "PosixPath('/root/.fastai/data/imagenette-160/val/n01440764/ILSVRC2012_val_00011233.JPEG')"
            ]
          },
          "metadata": {
            "tags": []
          },
          "execution_count": 9
        }
      ]
    },
    {
      "cell_type": "code",
      "metadata": {
        "id": "xyzIIZIDNxZx",
        "colab_type": "code",
        "outputId": "05621e7f-ac87-45b5-9094-1cc144ae9d44",
        "colab": {
          "base_uri": "https://localhost:8080/",
          "height": 177
        }
      },
      "source": [
        "img = PIL.Image.open(img_fn)\n",
        "img"
      ],
      "execution_count": 10,
      "outputs": [
        {
          "output_type": "execute_result",
          "data": {
            "image/png": "[encoded data removed]",
            "text/plain": [
              "<PIL.JpegImagePlugin.JpegImageFile image mode=RGB size=187x160 at 0x7F79C5EF4630>"
            ]
          },
          "metadata": {
            "tags": []
          },
          "execution_count": 10
        }
      ]
    },
    {
      "cell_type": "code",
      "metadata": {
        "id": "abuyD4ITN3Z5",
        "colab_type": "code",
        "colab": {}
      },
      "source": [
        "import numpy\n",
        "imga = numpy.array(img)"
      ],
      "execution_count": 0,
      "outputs": []
    },
    {
      "cell_type": "code",
      "metadata": {
        "id": "pm5zi5f6OTti",
        "colab_type": "code",
        "outputId": "af3ad0a2-bdf0-4c59-c91f-edf6386abc98",
        "colab": {
          "base_uri": "https://localhost:8080/",
          "height": 34
        }
      },
      "source": [
        "imga.shape"
      ],
      "execution_count": 12,
      "outputs": [
        {
          "output_type": "execute_result",
          "data": {
            "text/plain": [
              "(160, 187, 3)"
            ]
          },
          "metadata": {
            "tags": []
          },
          "execution_count": 12
        }
      ]
    },
    {
      "cell_type": "code",
      "metadata": {
        "id": "0S2PCKuhOVNJ",
        "colab_type": "code",
        "outputId": "e1de1b44-417f-43bf-b66a-25355e3e32c0",
        "colab": {
          "base_uri": "https://localhost:8080/",
          "height": 170
        }
      },
      "source": [
        "imga[:10,:10,0]"
      ],
      "execution_count": 13,
      "outputs": [
        {
          "output_type": "execute_result",
          "data": {
            "text/plain": [
              "array([[ 74,  83, 114, 131, ..., 113,  77,  52,  60],\n",
              "       [ 68,  75,  96, 112, ...,  81,  60,  51,  58],\n",
              "       [ 61,  83, 103,  92, ...,  70,  63,  48,  64],\n",
              "       [ 58,  87, 125,  85, ...,  76,  72,  43,  71],\n",
              "       ...,\n",
              "       [102,  59,  59,  90, ...,  70,  53,  45,  33],\n",
              "       [ 85,  83,  57,  67, ...,  93,  70,  53,  33],\n",
              "       [ 82,  76,  71,  55, ..., 115, 100,  65,  35],\n",
              "       [ 91,  91,  87,  59, ..., 111, 117,  74,  43]], dtype=uint8)"
            ]
          },
          "metadata": {
            "tags": []
          },
          "execution_count": 13
        }
      ]
    },
    {
      "cell_type": "code",
      "metadata": {
        "id": "N4EtV7xXOnp0",
        "colab_type": "code",
        "colab": {}
      },
      "source": [
        "#export\n",
        "image_extensions = set(k for k,v in mimetypes.types_map.items() if v.startswith('image/'))"
      ],
      "execution_count": 0,
      "outputs": []
    },
    {
      "cell_type": "code",
      "metadata": {
        "id": "EsoAHo4vPl0p",
        "colab_type": "code",
        "outputId": "7bb9262b-0e80-4f7e-dd2c-012d8283202f",
        "colab": {
          "base_uri": "https://localhost:8080/",
          "height": 54
        }
      },
      "source": [
        "' '.join(image_extensions)"
      ],
      "execution_count": 30,
      "outputs": [
        {
          "output_type": "execute_result",
          "data": {
            "text/plain": [
              "'.jpe .ppm .pnm .jpx .rgb .crw .jp2 .wbmp .cdr .pgm .cpt .bmp .pat .cdt .pcx .pbm .xbm .xpm .ico .jpeg .djv .svgz .gif .jpf .ief .jpg2 .art .xwd .nef .psd .ras .jpm .djvu .cr2 .png .svg .jng .jpg .erf .orf .tiff .tif'"
            ]
          },
          "metadata": {
            "tags": []
          },
          "execution_count": 30
        }
      ]
    },
    {
      "cell_type": "code",
      "metadata": {
        "id": "vIkNLoYuPoZd",
        "colab_type": "code",
        "colab": {}
      },
      "source": [
        "#export\n",
        "def setify(o): return o if isinstance(o,set) else set(listify(o))"
      ],
      "execution_count": 0,
      "outputs": []
    },
    {
      "cell_type": "code",
      "metadata": {
        "id": "NPZ2Cw82RYhQ",
        "colab_type": "code",
        "colab": {}
      },
      "source": [
        "#test_eq(setify('aa'), {'aa'})\n",
        "test_eq(setify(['aa',1]), {'aa',1})\n",
        "test_eq(setify(None), set())\n",
        "test_eq(setify(1), {1})\n",
        "test_eq(setify({1}), {1})"
      ],
      "execution_count": 0,
      "outputs": []
    },
    {
      "cell_type": "code",
      "metadata": {
        "id": "V4SP6ZgFTDkC",
        "colab_type": "code",
        "colab": {}
      },
      "source": [
        "#export\n",
        "def _get_files(p, fs, extensions=None):\n",
        "    p = Path(p)\n",
        "    res = [p/f for f in fs if not f.startswith('.')\n",
        "           and ((not extensions) or f'.{f.split(\".\")[-1].lower()}' in extensions)]\n",
        "    return res"
      ],
      "execution_count": 0,
      "outputs": []
    },
    {
      "cell_type": "code",
      "metadata": {
        "id": "xpWZqcftTyKJ",
        "colab_type": "code",
        "colab": {}
      },
      "source": [
        "t = [o.name for o in os.scandir(path_tench)]\n",
        "t = _get_files(path/'val',t,extensions=image_extensions)"
      ],
      "execution_count": 0,
      "outputs": []
    },
    {
      "cell_type": "code",
      "metadata": {
        "id": "m2UVRGZkUlq1",
        "colab_type": "code",
        "outputId": "2c140990-3069-4518-9c3e-dba3d771fc52",
        "colab": {
          "base_uri": "https://localhost:8080/",
          "height": 102
        }
      },
      "source": [
        "t[:5]"
      ],
      "execution_count": 35,
      "outputs": [
        {
          "output_type": "execute_result",
          "data": {
            "text/plain": [
              "[PosixPath('/root/.fastai/data/imagenette-160/val/ILSVRC2012_val_00011233.JPEG'),\n",
              " PosixPath('/root/.fastai/data/imagenette-160/val/ILSVRC2012_val_00037834.JPEG'),\n",
              " PosixPath('/root/.fastai/data/imagenette-160/val/ILSVRC2012_val_00009191.JPEG'),\n",
              " PosixPath('/root/.fastai/data/imagenette-160/val/ILSVRC2012_val_00046499.JPEG'),\n",
              " PosixPath('/root/.fastai/data/imagenette-160/val/ILSVRC2012_val_00017700.JPEG')]"
            ]
          },
          "metadata": {
            "tags": []
          },
          "execution_count": 35
        }
      ]
    },
    {
      "cell_type": "code",
      "metadata": {
        "id": "8EFLwmJJVJca",
        "colab_type": "code",
        "colab": {}
      },
      "source": [
        "#export\n",
        "def get_files(path, extensions=None, recurse=False, include=None):\n",
        "    path = Path(path)\n",
        "    extensions = setify(extensions)\n",
        "    extensions = {e.lower() for e in extensions}\n",
        "    if recurse:\n",
        "        res = []\n",
        "        for i,(p,d,f) in enumerate(os.walk(path)): # returns (dirpath, dirnames, filenames)\n",
        "            if include is not None and i==0: d[:] = [o for o in d if o in include]\n",
        "            else:                            d[:] = [o for o in d if not o.startswith('.')]\n",
        "            res += _get_files(p, f, extensions)\n",
        "        return res\n",
        "    else:\n",
        "        f = [o.name for o in os.scandir(path) if o.is_file()]\n",
        "        return _get_files(path, f, extensions)"
      ],
      "execution_count": 0,
      "outputs": []
    },
    {
      "cell_type": "code",
      "metadata": {
        "id": "JMXYUzWjXsqM",
        "colab_type": "code",
        "outputId": "cf083fab-c6b1-4942-d2d3-cb708055b323",
        "colab": {
          "base_uri": "https://localhost:8080/",
          "height": 88
        }
      },
      "source": [
        "get_files(path_tench,image_extensions)[:3]"
      ],
      "execution_count": 39,
      "outputs": [
        {
          "output_type": "execute_result",
          "data": {
            "text/plain": [
              "[PosixPath('/root/.fastai/data/imagenette-160/val/n01440764/ILSVRC2012_val_00011233.JPEG'),\n",
              " PosixPath('/root/.fastai/data/imagenette-160/val/n01440764/ILSVRC2012_val_00037834.JPEG'),\n",
              " PosixPath('/root/.fastai/data/imagenette-160/val/n01440764/ILSVRC2012_val_00009191.JPEG')]"
            ]
          },
          "metadata": {
            "tags": []
          },
          "execution_count": 39
        }
      ]
    },
    {
      "cell_type": "code",
      "metadata": {
        "id": "kxEPOVnCYgqF",
        "colab_type": "code",
        "outputId": "98c26ec0-464b-4438-deb3-82d3d7d070a3",
        "colab": {
          "base_uri": "https://localhost:8080/",
          "height": 88
        }
      },
      "source": [
        "get_files(path,image_extensions, recurse=True)[:3]"
      ],
      "execution_count": 40,
      "outputs": [
        {
          "output_type": "execute_result",
          "data": {
            "text/plain": [
              "[PosixPath('/root/.fastai/data/imagenette-160/train/n03888257/n03888257_21243.JPEG'),\n",
              " PosixPath('/root/.fastai/data/imagenette-160/train/n03888257/n03888257_20118.JPEG'),\n",
              " PosixPath('/root/.fastai/data/imagenette-160/train/n03888257/n03888257_21346.JPEG')]"
            ]
          },
          "metadata": {
            "tags": []
          },
          "execution_count": 40
        }
      ]
    },
    {
      "cell_type": "code",
      "metadata": {
        "id": "cDLnoikNY1bC",
        "colab_type": "code",
        "outputId": "a736ca6e-29a0-471e-ad78-d2f519f60e37",
        "colab": {
          "base_uri": "https://localhost:8080/",
          "height": 34
        }
      },
      "source": [
        "all_fns = get_files(path,image_extensions, recurse=True)\n",
        "len(all_fns)"
      ],
      "execution_count": 41,
      "outputs": [
        {
          "output_type": "execute_result",
          "data": {
            "text/plain": [
              "13394"
            ]
          },
          "metadata": {
            "tags": []
          },
          "execution_count": 41
        }
      ]
    },
    {
      "cell_type": "code",
      "metadata": {
        "id": "Na-IyuMpZKaa",
        "colab_type": "code",
        "outputId": "fe3d54fe-8fc7-41e9-8a9e-c18f6e434517",
        "colab": {
          "base_uri": "https://localhost:8080/",
          "height": 34
        }
      },
      "source": [
        "%timeit -n 10 get_files(path,image_extensions, recurse=True)"
      ],
      "execution_count": 42,
      "outputs": [
        {
          "output_type": "stream",
          "text": [
            "10 loops, best of 3: 77 ms per loop\n"
          ],
          "name": "stdout"
        }
      ]
    },
    {
      "cell_type": "markdown",
      "metadata": {
        "id": "CrNlPQaNb4EK",
        "colab_type": "text"
      },
      "source": [
        "## prepare for modeling"
      ]
    },
    {
      "cell_type": "markdown",
      "metadata": {
        "id": "KvLqraCzmV3q",
        "colab_type": "text"
      },
      "source": [
        "### get files"
      ]
    },
    {
      "cell_type": "code",
      "metadata": {
        "id": "O_mdQ8pKZVkU",
        "colab_type": "code",
        "colab": {}
      },
      "source": [
        "#export\n",
        "def compose(x, funcs, *args, order_key='_order', **kwargs):\n",
        "    key = lambda o: getattr(o, order_key, 0)\n",
        "    for f in sorted(listify(funcs), key=key): x = f(x, **kwargs)\n",
        "    return x\n",
        "\n",
        "class ItemList(ListContainer):\n",
        "    def __init__(self, items, path='.', tfms=None):\n",
        "        super().__init__(items)\n",
        "        self.path,self.tfms = Path(path),tfms\n",
        "\n",
        "    def __repr__(self): return f'{super().__repr__()}\\nPath: {self.path}'\n",
        "    \n",
        "    def new(self, items, cls=None):\n",
        "        if cls is None: cls=self.__class__\n",
        "        return cls(items, self.path, tfms=self.tfms)\n",
        "    \n",
        "    def  get(self, i): return i\n",
        "    def _get(self, i): return compose(self.get(i), self.tfms)\n",
        "    \n",
        "    def __getitem__(self, idx):\n",
        "        res = super().__getitem__(idx)\n",
        "        if isinstance(res,list): return [self._get(o) for o in res]\n",
        "        return self._get(res)\n",
        "\n",
        "class ImageList(ItemList):\n",
        "    @classmethod\n",
        "    def from_files(cls, path, extensions=None, recurse=True, include=None, **kwargs):\n",
        "        if extensions is None: extensions = image_extensions\n",
        "        return cls(get_files(path, extensions, recurse=recurse, include=include), path, **kwargs)\n",
        "    \n",
        "    def get(self, fn): return PIL.Image.open(fn)"
      ],
      "execution_count": 0,
      "outputs": []
    },
    {
      "cell_type": "code",
      "metadata": {
        "id": "nf5Rvddvhlvt",
        "colab_type": "code",
        "colab": {}
      },
      "source": [
        "#export\n",
        "class Transform(): _order=0\n",
        "class MakeRGB(Transform):\n",
        "  def __call__(self,item): return item.convert('RGB')\n",
        "def make_rgb(item):return item.convert('RGB')"
      ],
      "execution_count": 0,
      "outputs": []
    },
    {
      "cell_type": "code",
      "metadata": {
        "id": "rN1aPvsfirBU",
        "colab_type": "code",
        "colab": {}
      },
      "source": [
        "il = ImageList.from_files(path,tfms=make_rgb)"
      ],
      "execution_count": 0,
      "outputs": []
    },
    {
      "cell_type": "code",
      "metadata": {
        "id": "Fvn7QVDRixEl",
        "colab_type": "code",
        "colab": {
          "base_uri": "https://localhost:8080/",
          "height": 88
        },
        "outputId": "ea963376-9ca0-474d-c3a2-fe93bbc9dcd1"
      },
      "source": [
        "il"
      ],
      "execution_count": 47,
      "outputs": [
        {
          "output_type": "execute_result",
          "data": {
            "text/plain": [
              "ImageList (13394 items)\n",
              "[PosixPath('/root/.fastai/data/imagenette-160/train/n03888257/n03888257_21243.JPEG'), PosixPath('/root/.fastai/data/imagenette-160/train/n03888257/n03888257_20118.JPEG'), PosixPath('/root/.fastai/data/imagenette-160/train/n03888257/n03888257_21346.JPEG'), PosixPath('/root/.fastai/data/imagenette-160/train/n03888257/n03888257_30680.JPEG'), PosixPath('/root/.fastai/data/imagenette-160/train/n03888257/n03888257_6541.JPEG'), PosixPath('/root/.fastai/data/imagenette-160/train/n03888257/n03888257_10721.JPEG'), PosixPath('/root/.fastai/data/imagenette-160/train/n03888257/n03888257_78.JPEG'), PosixPath('/root/.fastai/data/imagenette-160/train/n03888257/n03888257_4904.JPEG'), PosixPath('/root/.fastai/data/imagenette-160/train/n03888257/n03888257_16991.JPEG'), PosixPath('/root/.fastai/data/imagenette-160/train/n03888257/n03888257_15617.JPEG')...]\n",
              "Path: /root/.fastai/data/imagenette-160"
            ]
          },
          "metadata": {
            "tags": []
          },
          "execution_count": 47
        }
      ]
    },
    {
      "cell_type": "code",
      "metadata": {
        "id": "rgUy4Pn5jlWu",
        "colab_type": "code",
        "colab": {
          "base_uri": "https://localhost:8080/",
          "height": 218
        },
        "outputId": "673c95ba-67c7-4d1f-d117-332937961944"
      },
      "source": [
        "il[1]"
      ],
      "execution_count": 49,
      "outputs": [
        {
          "output_type": "execute_result",
          "data": {
            "image/png": "[encoded data removed]",
            "text/plain": [
              "<PIL.Image.Image image mode=RGB size=160x201 at 0x7F79C3E2B438>"
            ]
          },
          "metadata": {
            "tags": []
          },
          "execution_count": 49
        }
      ]
    },
    {
      "cell_type": "code",
      "metadata": {
        "id": "0r3LtcGij4a5",
        "colab_type": "code",
        "colab": {
          "base_uri": "https://localhost:8080/",
          "height": 51
        },
        "outputId": "e2350ac9-0b5e-4467-b4a8-972e17f338c9"
      },
      "source": [
        "il[:2]"
      ],
      "execution_count": 50,
      "outputs": [
        {
          "output_type": "execute_result",
          "data": {
            "text/plain": [
              "[<PIL.Image.Image image mode=RGB size=160x202 at 0x7F79C3B819E8>,\n",
              " <PIL.Image.Image image mode=RGB size=160x201 at 0x7F79C3B81CC0>]"
            ]
          },
          "metadata": {
            "tags": []
          },
          "execution_count": 50
        }
      ]
    },
    {
      "cell_type": "markdown",
      "metadata": {
        "id": "edfuKrz3mYIu",
        "colab_type": "text"
      },
      "source": [
        "### split validation set"
      ]
    },
    {
      "cell_type": "code",
      "metadata": {
        "id": "gSuym_aPmLuL",
        "colab_type": "code",
        "colab": {
          "base_uri": "https://localhost:8080/",
          "height": 34
        },
        "outputId": "11827fa6-f1db-4f31-a5d0-9de6a2ab1b88"
      },
      "source": [
        "fn = il.items[0];fn"
      ],
      "execution_count": 52,
      "outputs": [
        {
          "output_type": "execute_result",
          "data": {
            "text/plain": [
              "PosixPath('/root/.fastai/data/imagenette-160/train/n03888257/n03888257_21243.JPEG')"
            ]
          },
          "metadata": {
            "tags": []
          },
          "execution_count": 52
        }
      ]
    },
    {
      "cell_type": "code",
      "metadata": {
        "id": "OD_ra-0rmibY",
        "colab_type": "code",
        "colab": {
          "base_uri": "https://localhost:8080/",
          "height": 34
        },
        "outputId": "01f41bff-dbe5-459f-c6c6-27c6f781580c"
      },
      "source": [
        "fn.parent.parent.name"
      ],
      "execution_count": 53,
      "outputs": [
        {
          "output_type": "execute_result",
          "data": {
            "text/plain": [
              "'train'"
            ]
          },
          "metadata": {
            "tags": []
          },
          "execution_count": 53
        }
      ]
    },
    {
      "cell_type": "code",
      "metadata": {
        "id": "crRuzTE0mtF0",
        "colab_type": "code",
        "colab": {}
      },
      "source": [
        "#export\n",
        "def grandparent_splitter(fn, valid_name='valid', train_name='train'):\n",
        "    gp = fn.parent.parent.name\n",
        "    return True if gp==valid_name else False if gp==train_name else None\n",
        "\n",
        "def split_by_func(items, f):\n",
        "    mask = [f(o) for o in items]\n",
        "    # `None` values will be filtered out\n",
        "    f = [o for o,m in zip(items,mask) if m==False]\n",
        "    t = [o for o,m in zip(items,mask) if m==True ]\n",
        "    return f,t"
      ],
      "execution_count": 0,
      "outputs": []
    },
    {
      "cell_type": "code",
      "metadata": {
        "id": "Y37URlCMn0W8",
        "colab_type": "code",
        "colab": {}
      },
      "source": [
        "splitter = partial(grandparent_splitter,valid_name='val')"
      ],
      "execution_count": 0,
      "outputs": []
    },
    {
      "cell_type": "code",
      "metadata": {
        "id": "WlCaQAckotS7",
        "colab_type": "code",
        "colab": {
          "base_uri": "https://localhost:8080/",
          "height": 51
        },
        "outputId": "a2edd49f-856e-4996-855a-feba285b7531"
      },
      "source": [
        "%time train,valid = split_by_func(il,splitter)"
      ],
      "execution_count": 72,
      "outputs": [
        {
          "output_type": "stream",
          "text": [
            "CPU times: user 39 ms, sys: 377 µs, total: 39.3 ms\n",
            "Wall time: 39.6 ms\n"
          ],
          "name": "stdout"
        }
      ]
    },
    {
      "cell_type": "code",
      "metadata": {
        "id": "iFwz_oddo9pr",
        "colab_type": "code",
        "colab": {
          "base_uri": "https://localhost:8080/",
          "height": 34
        },
        "outputId": "abfbf409-f820-45de-892a-028058606d35"
      },
      "source": [
        "len(train),len(valid)"
      ],
      "execution_count": 73,
      "outputs": [
        {
          "output_type": "execute_result",
          "data": {
            "text/plain": [
              "(12894, 500)"
            ]
          },
          "metadata": {
            "tags": []
          },
          "execution_count": 73
        }
      ]
    },
    {
      "cell_type": "code",
      "metadata": {
        "id": "5sTO_fdEpPGF",
        "colab_type": "code",
        "colab": {}
      },
      "source": [
        "#export\n",
        "class SplitData():\n",
        "    def __init__(self, train, valid): self.train,self.valid = train,valid\n",
        "        \n",
        "    def __getattr__(self,k): return getattr(self.train,k)\n",
        "    #This is needed if we want to pickle SplitData and be able to load it back without recursion errors\n",
        "    def __setstate__(self,data:Any): self.__dict__.update(data) \n",
        "    \n",
        "    @classmethod\n",
        "    def split_by_func(cls, il, f):\n",
        "        lists = map(il.new, split_by_func(il.items, f))\n",
        "        return cls(*lists)\n",
        "\n",
        "    def __repr__(self): return f'{self.__class__.__name__}\\nTrain: {self.train}\\nValid: {self.valid}\\n'"
      ],
      "execution_count": 0,
      "outputs": []
    },
    {
      "cell_type": "code",
      "metadata": {
        "id": "M49Ga4y3qMXT",
        "colab_type": "code",
        "colab": {
          "base_uri": "https://localhost:8080/",
          "height": 156
        },
        "outputId": "072a228c-8e6d-4f5e-9d26-c118f5f56bd9"
      },
      "source": [
        "sd = SplitData.split_by_func(il, splitter); sd"
      ],
      "execution_count": 75,
      "outputs": [
        {
          "output_type": "execute_result",
          "data": {
            "text/plain": [
              "SplitData\n",
              "Train: ImageList (12894 items)\n",
              "[PosixPath('/root/.fastai/data/imagenette-160/train/n03888257/n03888257_21243.JPEG'), PosixPath('/root/.fastai/data/imagenette-160/train/n03888257/n03888257_20118.JPEG'), PosixPath('/root/.fastai/data/imagenette-160/train/n03888257/n03888257_21346.JPEG'), PosixPath('/root/.fastai/data/imagenette-160/train/n03888257/n03888257_30680.JPEG'), PosixPath('/root/.fastai/data/imagenette-160/train/n03888257/n03888257_6541.JPEG'), PosixPath('/root/.fastai/data/imagenette-160/train/n03888257/n03888257_10721.JPEG'), PosixPath('/root/.fastai/data/imagenette-160/train/n03888257/n03888257_78.JPEG'), PosixPath('/root/.fastai/data/imagenette-160/train/n03888257/n03888257_4904.JPEG'), PosixPath('/root/.fastai/data/imagenette-160/train/n03888257/n03888257_16991.JPEG'), PosixPath('/root/.fastai/data/imagenette-160/train/n03888257/n03888257_15617.JPEG')...]\n",
              "Path: /root/.fastai/data/imagenette-160\n",
              "Valid: ImageList (500 items)\n",
              "[PosixPath('/root/.fastai/data/imagenette-160/val/n03888257/ILSVRC2012_val_00031268.JPEG'), PosixPath('/root/.fastai/data/imagenette-160/val/n03888257/ILSVRC2012_val_00025121.JPEG'), PosixPath('/root/.fastai/data/imagenette-160/val/n03888257/ILSVRC2012_val_00030583.JPEG'), PosixPath('/root/.fastai/data/imagenette-160/val/n03888257/ILSVRC2012_val_00017919.JPEG'), PosixPath('/root/.fastai/data/imagenette-160/val/n03888257/ILSVRC2012_val_00022496.JPEG'), PosixPath('/root/.fastai/data/imagenette-160/val/n03888257/ILSVRC2012_val_00006561.JPEG'), PosixPath('/root/.fastai/data/imagenette-160/val/n03888257/ILSVRC2012_val_00009559.JPEG'), PosixPath('/root/.fastai/data/imagenette-160/val/n03888257/ILSVRC2012_val_00015689.JPEG'), PosixPath('/root/.fastai/data/imagenette-160/val/n03888257/ILSVRC2012_val_00007616.JPEG'), PosixPath('/root/.fastai/data/imagenette-160/val/n03888257/ILSVRC2012_val_00009370.JPEG')...]\n",
              "Path: /root/.fastai/data/imagenette-160"
            ]
          },
          "metadata": {
            "tags": []
          },
          "execution_count": 75
        }
      ]
    },
    {
      "cell_type": "markdown",
      "metadata": {
        "id": "x6avkcpUthKz",
        "colab_type": "text"
      },
      "source": [
        "### labeling"
      ]
    },
    {
      "cell_type": "code",
      "metadata": {
        "id": "Jr-0uQQhrDvw",
        "colab_type": "code",
        "colab": {}
      },
      "source": [
        "#export\n",
        "from collections import OrderedDict\n",
        "\n",
        "def uniqueify(x, sort=False):\n",
        "  res = list(OrderedDict.fromkeys(x).keys())\n",
        "  if sort: res.sort()\n",
        "  return res"
      ],
      "execution_count": 0,
      "outputs": []
    },
    {
      "cell_type": "code",
      "metadata": {
        "id": "0jsFukmQu_r8",
        "colab_type": "code",
        "colab": {}
      },
      "source": [
        "#export\n",
        "class Processor(): \n",
        "    def process(self, items): return items\n",
        "\n",
        "class CategoryProcessor(Processor):\n",
        "    def __init__(self): self.vocab=None\n",
        "    \n",
        "    def __call__(self, items):\n",
        "        #The vocab is defined on the first use.\n",
        "        if self.vocab is None:\n",
        "            self.vocab = uniqueify(items)\n",
        "            self.otoi  = {v:k for k,v in enumerate(self.vocab)}\n",
        "        return [self.proc1(o) for o in items]\n",
        "    def proc1(self, item):  return self.otoi[item]\n",
        "    \n",
        "    def deprocess(self, idxs):\n",
        "        assert self.vocab is not None\n",
        "        return [self.deproc1(idx) for idx in idxs]\n",
        "    def deproc1(self, idx): return self.vocab[idx]"
      ],
      "execution_count": 0,
      "outputs": []
    },
    {
      "cell_type": "code",
      "metadata": {
        "id": "RBQ7bEHUvEvk",
        "colab_type": "code",
        "colab": {}
      },
      "source": [
        "#export\n",
        "def parent_labeler(fn): return fn.parent.name\n",
        "\n",
        "def _label_by_func(ds, f, cls=ItemList): return cls([f(o) for o in ds.items], path=ds.path)\n",
        "\n",
        "#This is a slightly different from what was seen during the lesson,\n",
        "#   we'll discuss the changes in lesson 11\n",
        "class LabeledData():\n",
        "    def process(self, il, proc): return il.new(compose(il.items, proc))\n",
        "\n",
        "    def __init__(self, x, y, proc_x=None, proc_y=None):\n",
        "        self.x,self.y = self.process(x, proc_x),self.process(y, proc_y)\n",
        "        self.proc_x,self.proc_y = proc_x,proc_y\n",
        "        \n",
        "    def __repr__(self): return f'{self.__class__.__name__}\\nx: {self.x}\\ny: {self.y}\\n'\n",
        "    def __getitem__(self,idx): return self.x[idx],self.y[idx]\n",
        "    def __len__(self): return len(self.x)\n",
        "    \n",
        "    def x_obj(self, idx): return self.obj(self.x, idx, self.proc_x)\n",
        "    def y_obj(self, idx): return self.obj(self.y, idx, self.proc_y)\n",
        "    \n",
        "    def obj(self, items, idx, procs):\n",
        "        isint = isinstance(idx, int) or (isinstance(idx,torch.LongTensor) and not idx.ndim)\n",
        "        item = items[idx]\n",
        "        for proc in reversed(listify(procs)):\n",
        "            item = proc.deproc1(item) if isint else proc.deprocess(item)\n",
        "        return item\n",
        "\n",
        "    @classmethod\n",
        "    def label_by_func(cls, il, f, proc_x=None, proc_y=None):\n",
        "        return cls(il, _label_by_func(il, f), proc_x=proc_x, proc_y=proc_y)\n",
        "\n",
        "def label_by_func(sd, f, proc_x=None, proc_y=None):\n",
        "    train = LabeledData.label_by_func(sd.train, f, proc_x=proc_x, proc_y=proc_y)\n",
        "    valid = LabeledData.label_by_func(sd.valid, f, proc_x=proc_x, proc_y=proc_y)\n",
        "    return SplitData(train,valid)"
      ],
      "execution_count": 0,
      "outputs": []
    },
    {
      "cell_type": "code",
      "metadata": {
        "id": "GOTpk7kJyyq_",
        "colab_type": "code",
        "colab": {}
      },
      "source": [
        "ll = label_by_func(sd, parent_labeler, proc_y=CategoryProcessor())"
      ],
      "execution_count": 0,
      "outputs": []
    },
    {
      "cell_type": "code",
      "metadata": {
        "id": "3M2XraaE0xHH",
        "colab_type": "code",
        "colab": {}
      },
      "source": [
        "assert ll.train.proc_y is ll.valid.proc_y"
      ],
      "execution_count": 0,
      "outputs": []
    },
    {
      "cell_type": "code",
      "metadata": {
        "id": "Pl5PMyrW012e",
        "colab_type": "code",
        "colab": {
          "base_uri": "https://localhost:8080/",
          "height": 68
        },
        "outputId": "fb5a3d0d-f6cb-467b-9dd8-8b3705560938"
      },
      "source": [
        "ll.train.y"
      ],
      "execution_count": 84,
      "outputs": [
        {
          "output_type": "execute_result",
          "data": {
            "text/plain": [
              "ItemList (12894 items)\n",
              "[0, 0, 0, 0, 0, 0, 0, 0, 0, 0...]\n",
              "Path: /root/.fastai/data/imagenette-160"
            ]
          },
          "metadata": {
            "tags": []
          },
          "execution_count": 84
        }
      ]
    },
    {
      "cell_type": "code",
      "metadata": {
        "id": "fUwyIlUb1A0a",
        "colab_type": "code",
        "colab": {}
      },
      "source": [
        ""
      ],
      "execution_count": 0,
      "outputs": []
    }
  ]
}