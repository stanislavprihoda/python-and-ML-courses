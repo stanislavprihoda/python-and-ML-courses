{
  "nbformat": 4,
  "nbformat_minor": 0,
  "metadata": {
    "colab": {
      "name": "08_Data_block.ipynb",
      "version": "0.3.2",
      "provenance": []
    },
    "kernelspec": {
      "name": "python3",
      "display_name": "Python 3"
    },
    "accelerator": "GPU"
  },
  "cells": [
    {
      "cell_type": "code",
      "metadata": {
        "id": "CVcsbpbfDOBL",
        "colab_type": "code",
        "colab": {}
      },
      "source": [
        "from google.colab import drive\n",
        "drive.mount('/content/gdrive')\n",
        "import sys\n",
        "sys.path.append('//content/gdrive/My Drive/Colab Notebooks/')"
      ],
      "execution_count": 0,
      "outputs": []
    },
    {
      "cell_type": "code",
      "metadata": {
        "id": "GW-lYoP0FjMu",
        "colab_type": "code",
        "colab": {}
      },
      "source": [
        "#export\n",
        "from exp.nb_07a import *"
      ],
      "execution_count": 0,
      "outputs": []
    },
    {
      "cell_type": "code",
      "metadata": {
        "id": "wn8ZLxWmLaEV",
        "colab_type": "code",
        "colab": {
          "base_uri": "https://localhost:8080/",
          "height": 34
        },
        "outputId": "00244d0f-26fa-4822-df8a-5dde10bd643e"
      },
      "source": [
        "datasets.URLs.IMAGENETTE_160"
      ],
      "execution_count": 3,
      "outputs": [
        {
          "output_type": "execute_result",
          "data": {
            "text/plain": [
              "'https://s3.amazonaws.com/fast-ai-imageclas/imagenette-160'"
            ]
          },
          "metadata": {
            "tags": []
          },
          "execution_count": 3
        }
      ]
    },
    {
      "cell_type": "code",
      "metadata": {
        "id": "Dudszz4mLbf3",
        "colab_type": "code",
        "colab": {
          "base_uri": "https://localhost:8080/",
          "height": 34
        },
        "outputId": "080634f5-63b4-4d65-dda4-06d0f5aa5629"
      },
      "source": [
        "path = datasets.untar_data(datasets.URLs.IMAGENETTE_160)\n",
        "path"
      ],
      "execution_count": 8,
      "outputs": [
        {
          "output_type": "execute_result",
          "data": {
            "text/plain": [
              "PosixPath('/root/.fastai/data/imagenette-160')"
            ]
          },
          "metadata": {
            "tags": []
          },
          "execution_count": 8
        }
      ]
    },
    {
      "cell_type": "code",
      "metadata": {
        "id": "Wpky3Pl-L971",
        "colab_type": "code",
        "colab": {}
      },
      "source": [
        "#export\n",
        "import PIL,os,mimetypes\n",
        "Path.ls = lambda x: list(x.iterdir())"
      ],
      "execution_count": 0,
      "outputs": []
    },
    {
      "cell_type": "code",
      "metadata": {
        "id": "JstH7hNMMVxf",
        "colab_type": "code",
        "colab": {
          "base_uri": "https://localhost:8080/",
          "height": 51
        },
        "outputId": "f452f594-d7a7-4aec-d72b-6115f2063619"
      },
      "source": [
        "path.ls()"
      ],
      "execution_count": 10,
      "outputs": [
        {
          "output_type": "execute_result",
          "data": {
            "text/plain": [
              "[PosixPath('/root/.fastai/data/imagenette-160/train'),\n",
              " PosixPath('/root/.fastai/data/imagenette-160/val')]"
            ]
          },
          "metadata": {
            "tags": []
          },
          "execution_count": 10
        }
      ]
    },
    {
      "cell_type": "code",
      "metadata": {
        "id": "TlBPjck4MkL4",
        "colab_type": "code",
        "colab": {
          "base_uri": "https://localhost:8080/",
          "height": 187
        },
        "outputId": "637aa486-9258-429e-bcee-00769a420473"
      },
      "source": [
        "(path/'val').ls()"
      ],
      "execution_count": 12,
      "outputs": [
        {
          "output_type": "execute_result",
          "data": {
            "text/plain": [
              "[PosixPath('/root/.fastai/data/imagenette-160/val/n03000684'),\n",
              " PosixPath('/root/.fastai/data/imagenette-160/val/n03888257'),\n",
              " PosixPath('/root/.fastai/data/imagenette-160/val/n03394916'),\n",
              " PosixPath('/root/.fastai/data/imagenette-160/val/n02102040'),\n",
              " PosixPath('/root/.fastai/data/imagenette-160/val/n03028079'),\n",
              " PosixPath('/root/.fastai/data/imagenette-160/val/n03417042'),\n",
              " PosixPath('/root/.fastai/data/imagenette-160/val/n03425413'),\n",
              " PosixPath('/root/.fastai/data/imagenette-160/val/n03445777'),\n",
              " PosixPath('/root/.fastai/data/imagenette-160/val/n01440764'),\n",
              " PosixPath('/root/.fastai/data/imagenette-160/val/n02979186')]"
            ]
          },
          "metadata": {
            "tags": []
          },
          "execution_count": 12
        }
      ]
    },
    {
      "cell_type": "code",
      "metadata": {
        "id": "2qUDGABCNVXm",
        "colab_type": "code",
        "colab": {}
      },
      "source": [
        "path_tench = path/'val'/'n01440764'"
      ],
      "execution_count": 0,
      "outputs": []
    },
    {
      "cell_type": "code",
      "metadata": {
        "id": "qbl5JVtFNs-d",
        "colab_type": "code",
        "colab": {
          "base_uri": "https://localhost:8080/",
          "height": 54
        },
        "outputId": "dbf574d7-aef1-4b29-c696-51f7a7174c2b"
      },
      "source": [
        "img_fn = path_tench.ls()[0]\n",
        "img_fn"
      ],
      "execution_count": 14,
      "outputs": [
        {
          "output_type": "execute_result",
          "data": {
            "text/plain": [
              "PosixPath('/root/.fastai/data/imagenette-160/val/n01440764/ILSVRC2012_val_00007197.JPEG')"
            ]
          },
          "metadata": {
            "tags": []
          },
          "execution_count": 14
        }
      ]
    },
    {
      "cell_type": "code",
      "metadata": {
        "id": "xyzIIZIDNxZx",
        "colab_type": "code",
        "colab": {
          "base_uri": "https://localhost:8080/",
          "height": 177
        },
        "outputId": "70608dfe-ce9e-401a-f08e-bed85bc71ed3"
      },
      "source": [
        "img = PIL.Image.open(img_fn)\n",
        "img"
      ],
      "execution_count": 15,
      "outputs": [
        {
          "output_type": "execute_result",
          "data": {
            "image/png": "[encoded data removed]",
            "text/plain": [
              "<PIL.JpegImagePlugin.JpegImageFile image mode=RGB size=213x160 at 0x7F07D9E78438>"
            ]
          },
          "metadata": {
            "tags": []
          },
          "execution_count": 15
        }
      ]
    },
    {
      "cell_type": "code",
      "metadata": {
        "id": "abuyD4ITN3Z5",
        "colab_type": "code",
        "colab": {}
      },
      "source": [
        "import numpy\n",
        "imga = numpy.array(img)"
      ],
      "execution_count": 0,
      "outputs": []
    },
    {
      "cell_type": "code",
      "metadata": {
        "id": "pm5zi5f6OTti",
        "colab_type": "code",
        "colab": {
          "base_uri": "https://localhost:8080/",
          "height": 34
        },
        "outputId": "64253391-b617-476e-e3ba-f4f9eebbfcae"
      },
      "source": [
        "imga.shape"
      ],
      "execution_count": 17,
      "outputs": [
        {
          "output_type": "execute_result",
          "data": {
            "text/plain": [
              "(160, 213, 3)"
            ]
          },
          "metadata": {
            "tags": []
          },
          "execution_count": 17
        }
      ]
    },
    {
      "cell_type": "code",
      "metadata": {
        "id": "0S2PCKuhOVNJ",
        "colab_type": "code",
        "colab": {
          "base_uri": "https://localhost:8080/",
          "height": 170
        },
        "outputId": "24f816ae-b945-455d-ad30-0f29b6765cba"
      },
      "source": [
        "imga[:10,:10,0]"
      ],
      "execution_count": 18,
      "outputs": [
        {
          "output_type": "execute_result",
          "data": {
            "text/plain": [
              "array([[120, 121,  74,  86, ..., 113, 118, 105, 110],\n",
              "       [ 97,  99, 100, 102, ..., 131, 133, 114, 124],\n",
              "       [100,  99, 116, 125, ..., 132, 122, 108, 116],\n",
              "       [108, 105,  92, 123, ..., 130, 108, 127, 127],\n",
              "       ...,\n",
              "       [106, 116, 115,  96, ...,  79,  82, 121, 116],\n",
              "       [ 82, 105,  96, 130, ...,  85, 109, 104, 102],\n",
              "       [ 88, 110,  70, 107, ...,  95,  87, 105, 108],\n",
              "       [117, 124, 114, 107, ...,  86, 107, 100, 116]], dtype=uint8)"
            ]
          },
          "metadata": {
            "tags": []
          },
          "execution_count": 18
        }
      ]
    },
    {
      "cell_type": "code",
      "metadata": {
        "id": "N4EtV7xXOnp0",
        "colab_type": "code",
        "colab": {}
      },
      "source": [
        "#export\n",
        "image_extension = set(k for k,v in mimetypes.types_map.items() if v.startswith('image/'))"
      ],
      "execution_count": 0,
      "outputs": []
    },
    {
      "cell_type": "code",
      "metadata": {
        "id": "EsoAHo4vPl0p",
        "colab_type": "code",
        "colab": {
          "base_uri": "https://localhost:8080/",
          "height": 54
        },
        "outputId": "f81f05b8-8558-4205-e5dd-0997b22bd636"
      },
      "source": [
        "' '.join(image_extension)"
      ],
      "execution_count": 20,
      "outputs": [
        {
          "output_type": "execute_result",
          "data": {
            "text/plain": [
              "'.ras .djv .ppm .orf .png .jng .svgz .tif .ico .cdt .jpg .nef .pcx .gif .pbm .bmp .djvu .cpt .jpe .crw .ief .cr2 .psd .pgm .jpf .pnm .svg .pat .jpg2 .wbmp .erf .art .jpeg .jpm .tiff .xbm .xwd .jp2 .xpm .cdr .jpx .rgb'"
            ]
          },
          "metadata": {
            "tags": []
          },
          "execution_count": 20
        }
      ]
    },
    {
      "cell_type": "code",
      "metadata": {
        "id": "vIkNLoYuPoZd",
        "colab_type": "code",
        "colab": {}
      },
      "source": [
        "#export\n",
        "def setify(o): return o if isinstance(o,set) else set(listify(o))"
      ],
      "execution_count": 0,
      "outputs": []
    },
    {
      "cell_type": "code",
      "metadata": {
        "id": "NPZ2Cw82RYhQ",
        "colab_type": "code",
        "colab": {}
      },
      "source": [
        "#test_eq(setify('aa'), {'aa'})\n",
        "test_eq(setify(['aa',1]), {'aa',1})\n",
        "test_eq(setify(None), set())\n",
        "test_eq(setify(1), {1})\n",
        "test_eq(setify({1}), {1})"
      ],
      "execution_count": 0,
      "outputs": []
    },
    {
      "cell_type": "code",
      "metadata": {
        "id": "V4SP6ZgFTDkC",
        "colab_type": "code",
        "colab": {}
      },
      "source": [
        "#export\n",
        "def _get_files(p, fs, extensions=None):\n",
        "    p = Path(p)\n",
        "    res = [p/f for f in fs if not f.startswith('.')\n",
        "           and ((not extensions) or f'.{f.split(\".\")[-1].lower()}' in extensions)]\n",
        "    return res"
      ],
      "execution_count": 0,
      "outputs": []
    },
    {
      "cell_type": "code",
      "metadata": {
        "id": "xpWZqcftTyKJ",
        "colab_type": "code",
        "colab": {}
      },
      "source": [
        "t = [o.name for o in os.scandir(path_tench)]\n",
        "t = _get_files(path/'val',t,extensions=image_extension)"
      ],
      "execution_count": 0,
      "outputs": []
    },
    {
      "cell_type": "code",
      "metadata": {
        "id": "m2UVRGZkUlq1",
        "colab_type": "code",
        "colab": {
          "base_uri": "https://localhost:8080/",
          "height": 102
        },
        "outputId": "e18fc3a5-fefd-406d-b67c-246e9729953a"
      },
      "source": [
        "t[:5]"
      ],
      "execution_count": 53,
      "outputs": [
        {
          "output_type": "execute_result",
          "data": {
            "text/plain": [
              "[PosixPath('/root/.fastai/data/imagenette-160/val/ILSVRC2012_val_00007197.JPEG'),\n",
              " PosixPath('/root/.fastai/data/imagenette-160/val/ILSVRC2012_val_00017995.JPEG'),\n",
              " PosixPath('/root/.fastai/data/imagenette-160/val/ILSVRC2012_val_00026064.JPEG'),\n",
              " PosixPath('/root/.fastai/data/imagenette-160/val/ILSVRC2012_val_00009191.JPEG'),\n",
              " PosixPath('/root/.fastai/data/imagenette-160/val/ILSVRC2012_val_00011993.JPEG')]"
            ]
          },
          "metadata": {
            "tags": []
          },
          "execution_count": 53
        }
      ]
    },
    {
      "cell_type": "code",
      "metadata": {
        "id": "8EFLwmJJVJca",
        "colab_type": "code",
        "colab": {}
      },
      "source": [
        "#export\n",
        "def get_files(path, extensions=None, recurse=False, include=None):\n",
        "    path = Path(path)\n",
        "    extensions = setify(extensions)\n",
        "    extensions = {e.lower() for e in extensions}\n",
        "    if recurse:\n",
        "        res = []\n",
        "        for i,(p,d,f) in enumerate(os.walk(path)): # returns (dirpath, dirnames, filenames)\n",
        "            if include is not None and i==0: d[:] = [o for o in d if o in include]\n",
        "            else:                            d[:] = [o for o in d if not o.startswith('.')]\n",
        "            res += _get_files(p, f, extensions)\n",
        "        return res\n",
        "    else:\n",
        "        f = [o.name for o in os.scandir(path) if o.is_file()]\n",
        "        return _get_files(path, f, extensions)"
      ],
      "execution_count": 0,
      "outputs": []
    },
    {
      "cell_type": "code",
      "metadata": {
        "id": "JMXYUzWjXsqM",
        "colab_type": "code",
        "colab": {
          "base_uri": "https://localhost:8080/",
          "height": 88
        },
        "outputId": "24c90691-1836-4a56-f61b-ff1ca227fc90"
      },
      "source": [
        "get_files(path_tench,image_extension)[:3]"
      ],
      "execution_count": 56,
      "outputs": [
        {
          "output_type": "execute_result",
          "data": {
            "text/plain": [
              "[PosixPath('/root/.fastai/data/imagenette-160/val/n01440764/ILSVRC2012_val_00007197.JPEG'),\n",
              " PosixPath('/root/.fastai/data/imagenette-160/val/n01440764/ILSVRC2012_val_00017995.JPEG'),\n",
              " PosixPath('/root/.fastai/data/imagenette-160/val/n01440764/ILSVRC2012_val_00026064.JPEG')]"
            ]
          },
          "metadata": {
            "tags": []
          },
          "execution_count": 56
        }
      ]
    },
    {
      "cell_type": "code",
      "metadata": {
        "id": "kxEPOVnCYgqF",
        "colab_type": "code",
        "colab": {
          "base_uri": "https://localhost:8080/",
          "height": 88
        },
        "outputId": "14677392-f601-4e7d-e1c8-6c7d0eda4b0a"
      },
      "source": [
        "get_files(path,image_extension, recurse=True)[:3]"
      ],
      "execution_count": 57,
      "outputs": [
        {
          "output_type": "execute_result",
          "data": {
            "text/plain": [
              "[PosixPath('/root/.fastai/data/imagenette-160/train/n03000684/n03000684_35979.JPEG'),\n",
              " PosixPath('/root/.fastai/data/imagenette-160/train/n03000684/n03000684_7138.JPEG'),\n",
              " PosixPath('/root/.fastai/data/imagenette-160/train/n03000684/n03000684_866.JPEG')]"
            ]
          },
          "metadata": {
            "tags": []
          },
          "execution_count": 57
        }
      ]
    },
    {
      "cell_type": "code",
      "metadata": {
        "id": "cDLnoikNY1bC",
        "colab_type": "code",
        "colab": {
          "base_uri": "https://localhost:8080/",
          "height": 34
        },
        "outputId": "753043bf-8cb8-471f-d53e-fc56fe9357ad"
      },
      "source": [
        "all_fns = get_files(path,image_extension, recurse=True)\n",
        "len(all_fns)"
      ],
      "execution_count": 58,
      "outputs": [
        {
          "output_type": "execute_result",
          "data": {
            "text/plain": [
              "13394"
            ]
          },
          "metadata": {
            "tags": []
          },
          "execution_count": 58
        }
      ]
    },
    {
      "cell_type": "code",
      "metadata": {
        "id": "Na-IyuMpZKaa",
        "colab_type": "code",
        "colab": {
          "base_uri": "https://localhost:8080/",
          "height": 34
        },
        "outputId": "8df57628-5568-48b5-dcca-788dcd2f15d2"
      },
      "source": [
        "%timeit -n 10 get_files(path,image_extension, recurse=True)"
      ],
      "execution_count": 59,
      "outputs": [
        {
          "output_type": "stream",
          "text": [
            "10 loops, best of 3: 94.2 ms per loop\n"
          ],
          "name": "stdout"
        }
      ]
    },
    {
      "cell_type": "code",
      "metadata": {
        "id": "O_mdQ8pKZVkU",
        "colab_type": "code",
        "colab": {}
      },
      "source": [
        ""
      ],
      "execution_count": 0,
      "outputs": []
    }
  ]
}