{
 "cells": [
  {
   "cell_type": "code",
   "execution_count": 14,
   "metadata": {},
   "outputs": [
    {
     "name": "stderr",
     "output_type": "stream",
     "text": [
      "Using TensorFlow backend.\n",
      "/anaconda3/envs/tsa_course/lib/python3.7/importlib/_bootstrap.py:219: RuntimeWarning: numpy.ufunc size changed, may indicate binary incompatibility. Expected 216, got 192\n",
      "  return f(*args, **kwds)\n",
      "/anaconda3/envs/tsa_course/lib/python3.7/importlib/_bootstrap.py:219: RuntimeWarning: numpy.ufunc size changed, may indicate binary incompatibility. Expected 192 from C header, got 216 from PyObject\n",
      "  return f(*args, **kwds)\n",
      "/anaconda3/envs/tsa_course/lib/python3.7/importlib/_bootstrap.py:219: RuntimeWarning: numpy.ufunc size changed, may indicate binary incompatibility. Expected 192 from C header, got 216 from PyObject\n",
      "  return f(*args, **kwds)\n"
     ]
    }
   ],
   "source": [
    "import pandas as pd\n",
    "import numpy as np\n",
    "import matplotlib.pyplot as plt\n",
    "\n",
    "import keras"
   ]
  },
  {
   "cell_type": "markdown",
   "metadata": {},
   "source": [
    "## Keras intro"
   ]
  },
  {
   "cell_type": "code",
   "execution_count": 10,
   "metadata": {},
   "outputs": [],
   "source": [
    "# generating data based on simple lin reg y = ma + b + c (noise)\n",
    "m=2\n",
    "b=3\n",
    "x=np.linspace(0,50,100)\n",
    "np.random.seed(101)\n",
    "noise = np.random.normal(scale=4,size=len(x))\n",
    "\n",
    "y=m*x+b+noise"
   ]
  },
  {
   "cell_type": "code",
   "execution_count": 13,
   "metadata": {},
   "outputs": [
    {
     "data": {
      "text/plain": [
       "[<matplotlib.lines.Line2D at 0x11a72c048>]"
      ]
     },
     "execution_count": 13,
     "metadata": {},
     "output_type": "execute_result"
    },
    {
     "data": {
      "image/png": "[encoded data removed]",
      "text/plain": [
       "<Figure size 432x288 with 1 Axes>"
      ]
     },
     "metadata": {
      "needs_background": "light"
     },
     "output_type": "display_data"
    }
   ],
   "source": [
    "plt.plot(x,y,'.')"
   ]
  },
  {
   "cell_type": "code",
   "execution_count": 16,
   "metadata": {},
   "outputs": [],
   "source": [
    "from keras.models import Sequential\n",
    "from keras.layers import Dense"
   ]
  },
  {
   "cell_type": "code",
   "execution_count": 17,
   "metadata": {},
   "outputs": [
    {
     "name": "stderr",
     "output_type": "stream",
     "text": [
      "WARNING: Logging before flag parsing goes to stderr.\n",
      "W0724 08:39:45.466408 4585838016 deprecation_wrapper.py:119] From /anaconda3/envs/tsa_course/lib/python3.7/site-packages/keras/backend/tensorflow_backend.py:74: The name tf.get_default_graph is deprecated. Please use tf.compat.v1.get_default_graph instead.\n",
      "\n",
      "W0724 08:39:45.506425 4585838016 deprecation_wrapper.py:119] From /anaconda3/envs/tsa_course/lib/python3.7/site-packages/keras/backend/tensorflow_backend.py:517: The name tf.placeholder is deprecated. Please use tf.compat.v1.placeholder instead.\n",
      "\n",
      "W0724 08:39:45.524835 4585838016 deprecation_wrapper.py:119] From /anaconda3/envs/tsa_course/lib/python3.7/site-packages/keras/backend/tensorflow_backend.py:4138: The name tf.random_uniform is deprecated. Please use tf.random.uniform instead.\n",
      "\n",
      "W0724 08:39:45.570390 4585838016 deprecation_wrapper.py:119] From /anaconda3/envs/tsa_course/lib/python3.7/site-packages/keras/optimizers.py:790: The name tf.train.Optimizer is deprecated. Please use tf.compat.v1.train.Optimizer instead.\n",
      "\n"
     ]
    }
   ],
   "source": [
    "model = Sequential()\n",
    "model.add(Dense(4,input_dim=1,activation='relu'))\n",
    "model.add(Dense(4,activation='relu'))\n",
    "model.add(Dense(1,activation='linear'))\n",
    "model.compile(loss='mse',optimizer='adam')"
   ]
  },
  {
   "cell_type": "code",
   "execution_count": 18,
   "metadata": {},
   "outputs": [
    {
     "name": "stdout",
     "output_type": "stream",
     "text": [
      "_________________________________________________________________\n",
      "Layer (type)                 Output Shape              Param #   \n",
      "=================================================================\n",
      "dense_1 (Dense)              (None, 4)                 8         \n",
      "_________________________________________________________________\n",
      "dense_2 (Dense)              (None, 4)                 20        \n",
      "_________________________________________________________________\n",
      "dense_3 (Dense)              (None, 1)                 5         \n",
      "=================================================================\n",
      "Total params: 33\n",
      "Trainable params: 33\n",
      "Non-trainable params: 0\n",
      "_________________________________________________________________\n"
     ]
    }
   ],
   "source": [
    "model.summary()"
   ]
  },
  {
   "cell_type": "code",
   "execution_count": 19,
   "metadata": {},
   "outputs": [
    {
     "name": "stderr",
     "output_type": "stream",
     "text": [
      "W0724 08:43:10.774213 4585838016 deprecation_wrapper.py:119] From /anaconda3/envs/tsa_course/lib/python3.7/site-packages/keras/backend/tensorflow_backend.py:986: The name tf.assign_add is deprecated. Please use tf.compat.v1.assign_add instead.\n",
      "\n",
      "W0724 08:43:10.853745 4585838016 deprecation_wrapper.py:119] From /anaconda3/envs/tsa_course/lib/python3.7/site-packages/keras/backend/tensorflow_backend.py:973: The name tf.assign is deprecated. Please use tf.compat.v1.assign instead.\n",
      "\n"
     ]
    },
    {
     "name": "stdout",
     "output_type": "stream",
     "text": [
      "Epoch 1/200\n",
      "100/100 [==============================] - 0s 3ms/step - loss: 3628.1379\n",
      "Epoch 2/200\n",
      "100/100 [==============================] - 0s 49us/step - loss: 3620.4816\n",
      "Epoch 3/200\n",
      "100/100 [==============================] - 0s 45us/step - loss: 3612.4745\n",
      "Epoch 4/200\n",
      "100/100 [==============================] - 0s 56us/step - loss: 3604.3020\n",
      "Epoch 5/200\n",
      "100/100 [==============================] - 0s 56us/step - loss: 3596.3641\n",
      "Epoch 6/200\n",
      "100/100 [==============================] - 0s 48us/step - loss: 3587.4462\n",
      "Epoch 7/200\n",
      "100/100 [==============================] - 0s 58us/step - loss: 3578.5765\n",
      "Epoch 8/200\n",
      "100/100 [==============================] - 0s 49us/step - loss: 3569.7348\n",
      "Epoch 9/200\n",
      "100/100 [==============================] - 0s 43us/step - loss: 3560.5520\n",
      "Epoch 10/200\n",
      "100/100 [==============================] - 0s 50us/step - loss: 3550.8643\n",
      "Epoch 11/200\n",
      "100/100 [==============================] - 0s 60us/step - loss: 3541.2946\n",
      "Epoch 12/200\n",
      "100/100 [==============================] - 0s 47us/step - loss: 3530.6491\n",
      "Epoch 13/200\n",
      "100/100 [==============================] - 0s 53us/step - loss: 3519.9570\n",
      "Epoch 14/200\n",
      "100/100 [==============================] - 0s 48us/step - loss: 3509.8758\n",
      "Epoch 15/200\n",
      "100/100 [==============================] - 0s 48us/step - loss: 3499.3419\n",
      "Epoch 16/200\n",
      "100/100 [==============================] - 0s 49us/step - loss: 3487.7999\n",
      "Epoch 17/200\n",
      "100/100 [==============================] - 0s 48us/step - loss: 3476.7385\n",
      "Epoch 18/200\n",
      "100/100 [==============================] - 0s 44us/step - loss: 3465.0526\n",
      "Epoch 19/200\n",
      "100/100 [==============================] - 0s 47us/step - loss: 3452.4558\n",
      "Epoch 20/200\n",
      "100/100 [==============================] - 0s 48us/step - loss: 3439.3149\n",
      "Epoch 21/200\n",
      "100/100 [==============================] - 0s 46us/step - loss: 3426.9821\n",
      "Epoch 22/200\n",
      "100/100 [==============================] - 0s 54us/step - loss: 3412.5763\n",
      "Epoch 23/200\n",
      "100/100 [==============================] - 0s 48us/step - loss: 3398.1941\n",
      "Epoch 24/200\n",
      "100/100 [==============================] - 0s 44us/step - loss: 3384.0770\n",
      "Epoch 25/200\n",
      "100/100 [==============================] - 0s 47us/step - loss: 3369.1167\n",
      "Epoch 26/200\n",
      "100/100 [==============================] - 0s 48us/step - loss: 3353.9333\n",
      "Epoch 27/200\n",
      "100/100 [==============================] - 0s 43us/step - loss: 3338.6093\n",
      "Epoch 28/200\n",
      "100/100 [==============================] - 0s 48us/step - loss: 3322.5358\n",
      "Epoch 29/200\n",
      "100/100 [==============================] - 0s 44us/step - loss: 3305.7127\n",
      "Epoch 30/200\n",
      "100/100 [==============================] - 0s 43us/step - loss: 3289.8785\n",
      "Epoch 31/200\n",
      "100/100 [==============================] - 0s 44us/step - loss: 3272.9365\n",
      "Epoch 32/200\n",
      "100/100 [==============================] - 0s 39us/step - loss: 3255.5684\n",
      "Epoch 33/200\n",
      "100/100 [==============================] - 0s 44us/step - loss: 3237.4787\n",
      "Epoch 34/200\n",
      "100/100 [==============================] - 0s 45us/step - loss: 3220.4408\n",
      "Epoch 35/200\n",
      "100/100 [==============================] - 0s 44us/step - loss: 3202.1668\n",
      "Epoch 36/200\n",
      "100/100 [==============================] - 0s 42us/step - loss: 3183.5160\n",
      "Epoch 37/200\n",
      "100/100 [==============================] - 0s 46us/step - loss: 3165.1723\n",
      "Epoch 38/200\n",
      "100/100 [==============================] - 0s 44us/step - loss: 3145.5878\n",
      "Epoch 39/200\n",
      "100/100 [==============================] - 0s 39us/step - loss: 3126.6526\n",
      "Epoch 40/200\n",
      "100/100 [==============================] - 0s 50us/step - loss: 3107.5410\n",
      "Epoch 41/200\n",
      "100/100 [==============================] - 0s 46us/step - loss: 3086.5159\n",
      "Epoch 42/200\n",
      "100/100 [==============================] - 0s 49us/step - loss: 3064.7550\n",
      "Epoch 43/200\n",
      "100/100 [==============================] - 0s 57us/step - loss: 3044.1078\n",
      "Epoch 44/200\n",
      "100/100 [==============================] - 0s 55us/step - loss: 3021.7943\n",
      "Epoch 45/200\n",
      "100/100 [==============================] - 0s 51us/step - loss: 3000.3462\n",
      "Epoch 46/200\n",
      "100/100 [==============================] - 0s 62us/step - loss: 2976.1936\n",
      "Epoch 47/200\n",
      "100/100 [==============================] - 0s 45us/step - loss: 2954.6228\n",
      "Epoch 48/200\n",
      "100/100 [==============================] - 0s 41us/step - loss: 2931.6318\n",
      "Epoch 49/200\n",
      "100/100 [==============================] - 0s 57us/step - loss: 2908.8704\n",
      "Epoch 50/200\n",
      "100/100 [==============================] - 0s 45us/step - loss: 2884.9947\n",
      "Epoch 51/200\n",
      "100/100 [==============================] - 0s 38us/step - loss: 2861.4911\n",
      "Epoch 52/200\n",
      "100/100 [==============================] - 0s 47us/step - loss: 2836.3156\n",
      "Epoch 53/200\n",
      "100/100 [==============================] - 0s 59us/step - loss: 2811.1863\n",
      "Epoch 54/200\n",
      "100/100 [==============================] - 0s 44us/step - loss: 2786.1134\n",
      "Epoch 55/200\n",
      "100/100 [==============================] - 0s 47us/step - loss: 2759.1220\n",
      "Epoch 56/200\n",
      "100/100 [==============================] - 0s 51us/step - loss: 2733.0260\n",
      "Epoch 57/200\n",
      "100/100 [==============================] - 0s 43us/step - loss: 2707.4183\n",
      "Epoch 58/200\n",
      "100/100 [==============================] - 0s 46us/step - loss: 2678.7699\n",
      "Epoch 59/200\n",
      "100/100 [==============================] - 0s 57us/step - loss: 2652.3431\n",
      "Epoch 60/200\n",
      "100/100 [==============================] - 0s 41us/step - loss: 2623.2008\n",
      "Epoch 61/200\n",
      "100/100 [==============================] - 0s 41us/step - loss: 2595.0431\n",
      "Epoch 62/200\n",
      "100/100 [==============================] - 0s 48us/step - loss: 2566.7077\n",
      "Epoch 63/200\n",
      "100/100 [==============================] - 0s 45us/step - loss: 2539.7207\n",
      "Epoch 64/200\n",
      "100/100 [==============================] - 0s 43us/step - loss: 2510.7223\n",
      "Epoch 65/200\n",
      "100/100 [==============================] - 0s 52us/step - loss: 2482.0271\n",
      "Epoch 66/200\n",
      "100/100 [==============================] - 0s 45us/step - loss: 2452.3955\n",
      "Epoch 67/200\n",
      "100/100 [==============================] - 0s 46us/step - loss: 2423.2435\n",
      "Epoch 68/200\n",
      "100/100 [==============================] - 0s 46us/step - loss: 2394.1258\n",
      "Epoch 69/200\n",
      "100/100 [==============================] - 0s 36us/step - loss: 2364.2249\n",
      "Epoch 70/200\n",
      "100/100 [==============================] - 0s 39us/step - loss: 2334.2339\n",
      "Epoch 71/200\n",
      "100/100 [==============================] - 0s 50us/step - loss: 2303.8688\n",
      "Epoch 72/200\n",
      "100/100 [==============================] - 0s 44us/step - loss: 2271.8192\n",
      "Epoch 73/200\n",
      "100/100 [==============================] - 0s 35us/step - loss: 2238.5738\n",
      "Epoch 74/200\n",
      "100/100 [==============================] - 0s 40us/step - loss: 2205.4436\n",
      "Epoch 75/200\n",
      "100/100 [==============================] - 0s 47us/step - loss: 2171.8037\n",
      "Epoch 76/200\n",
      "100/100 [==============================] - 0s 51us/step - loss: 2138.3888\n",
      "Epoch 77/200\n",
      "100/100 [==============================] - 0s 39us/step - loss: 2107.8932\n",
      "Epoch 78/200\n",
      "100/100 [==============================] - 0s 49us/step - loss: 2074.2934\n",
      "Epoch 79/200\n",
      "100/100 [==============================] - 0s 39us/step - loss: 2042.7174\n",
      "Epoch 80/200\n",
      "100/100 [==============================] - 0s 37us/step - loss: 2009.6760\n",
      "Epoch 81/200\n",
      "100/100 [==============================] - 0s 51us/step - loss: 1977.9905\n",
      "Epoch 82/200\n",
      "100/100 [==============================] - 0s 41us/step - loss: 1943.0903\n",
      "Epoch 83/200\n",
      "100/100 [==============================] - 0s 36us/step - loss: 1908.5181\n",
      "Epoch 84/200\n",
      "100/100 [==============================] - 0s 36us/step - loss: 1872.7693\n",
      "Epoch 85/200\n",
      "100/100 [==============================] - 0s 47us/step - loss: 1838.6397\n",
      "Epoch 86/200\n",
      "100/100 [==============================] - 0s 45us/step - loss: 1803.8222\n",
      "Epoch 87/200\n",
      "100/100 [==============================] - 0s 50us/step - loss: 1769.1530\n",
      "Epoch 88/200\n",
      "100/100 [==============================] - 0s 46us/step - loss: 1736.5766\n",
      "Epoch 89/200\n",
      "100/100 [==============================] - 0s 35us/step - loss: 1701.8279\n",
      "Epoch 90/200\n",
      "100/100 [==============================] - 0s 37us/step - loss: 1669.3235\n",
      "Epoch 91/200\n",
      "100/100 [==============================] - 0s 48us/step - loss: 1634.8188\n",
      "Epoch 92/200\n",
      "100/100 [==============================] - 0s 51us/step - loss: 1600.5206\n",
      "Epoch 93/200\n",
      "100/100 [==============================] - 0s 50us/step - loss: 1566.2834\n",
      "Epoch 94/200\n",
      "100/100 [==============================] - 0s 44us/step - loss: 1532.6203\n",
      "Epoch 95/200\n",
      "100/100 [==============================] - 0s 50us/step - loss: 1500.5220\n",
      "Epoch 96/200\n",
      "100/100 [==============================] - 0s 39us/step - loss: 1466.1365\n",
      "Epoch 97/200\n",
      "100/100 [==============================] - 0s 42us/step - loss: 1434.1533\n",
      "Epoch 98/200\n",
      "100/100 [==============================] - 0s 55us/step - loss: 1402.4198\n",
      "Epoch 99/200\n",
      "100/100 [==============================] - 0s 42us/step - loss: 1370.0490\n",
      "Epoch 100/200\n",
      "100/100 [==============================] - 0s 38us/step - loss: 1336.7409\n",
      "Epoch 101/200\n",
      "100/100 [==============================] - 0s 48us/step - loss: 1304.0427\n",
      "Epoch 102/200\n",
      "100/100 [==============================] - 0s 39us/step - loss: 1273.1927\n",
      "Epoch 103/200\n",
      "100/100 [==============================] - 0s 39us/step - loss: 1240.7346\n",
      "Epoch 104/200\n",
      "100/100 [==============================] - 0s 47us/step - loss: 1209.7166\n",
      "Epoch 105/200\n",
      "100/100 [==============================] - 0s 46us/step - loss: 1177.5870\n",
      "Epoch 106/200\n",
      "100/100 [==============================] - 0s 42us/step - loss: 1147.2375\n",
      "Epoch 107/200\n",
      "100/100 [==============================] - 0s 45us/step - loss: 1118.0336\n",
      "Epoch 108/200\n",
      "100/100 [==============================] - 0s 54us/step - loss: 1088.4406\n",
      "Epoch 109/200\n",
      "100/100 [==============================] - 0s 39us/step - loss: 1061.3244\n",
      "Epoch 110/200\n",
      "100/100 [==============================] - 0s 43us/step - loss: 1032.4202\n",
      "Epoch 111/200\n",
      "100/100 [==============================] - 0s 50us/step - loss: 1003.5099\n",
      "Epoch 112/200\n",
      "100/100 [==============================] - 0s 44us/step - loss: 975.9597\n",
      "Epoch 113/200\n",
      "100/100 [==============================] - 0s 36us/step - loss: 946.6783\n",
      "Epoch 114/200\n",
      "100/100 [==============================] - 0s 77us/step - loss: 918.6089\n",
      "Epoch 115/200\n",
      "100/100 [==============================] - 0s 57us/step - loss: 891.1542\n",
      "Epoch 116/200\n",
      "100/100 [==============================] - 0s 69us/step - loss: 862.2127\n",
      "Epoch 117/200\n",
      "100/100 [==============================] - 0s 70us/step - loss: 834.4097\n",
      "Epoch 118/200\n",
      "100/100 [==============================] - 0s 74us/step - loss: 807.2936\n",
      "Epoch 119/200\n",
      "100/100 [==============================] - 0s 58us/step - loss: 781.1220\n",
      "Epoch 120/200\n",
      "100/100 [==============================] - 0s 86us/step - loss: 753.3356\n",
      "Epoch 121/200\n",
      "100/100 [==============================] - 0s 61us/step - loss: 725.6089\n",
      "Epoch 122/200\n",
      "100/100 [==============================] - 0s 67us/step - loss: 697.8293\n",
      "Epoch 123/200\n",
      "100/100 [==============================] - 0s 57us/step - loss: 672.1083\n",
      "Epoch 124/200\n",
      "100/100 [==============================] - 0s 43us/step - loss: 646.4914\n",
      "Epoch 125/200\n",
      "100/100 [==============================] - 0s 52us/step - loss: 621.6974\n",
      "Epoch 126/200\n",
      "100/100 [==============================] - 0s 44us/step - loss: 596.1783\n",
      "Epoch 127/200\n",
      "100/100 [==============================] - 0s 48us/step - loss: 571.6708\n",
      "Epoch 128/200\n",
      "100/100 [==============================] - 0s 62us/step - loss: 548.6063\n",
      "Epoch 129/200\n",
      "100/100 [==============================] - 0s 41us/step - loss: 526.3404\n",
      "Epoch 130/200\n",
      "100/100 [==============================] - 0s 41us/step - loss: 504.8726\n",
      "Epoch 131/200\n",
      "100/100 [==============================] - 0s 51us/step - loss: 484.8770\n",
      "Epoch 132/200\n",
      "100/100 [==============================] - 0s 39us/step - loss: 465.7387\n",
      "Epoch 133/200\n",
      "100/100 [==============================] - 0s 39us/step - loss: 446.1500\n",
      "Epoch 134/200\n",
      "100/100 [==============================] - 0s 46us/step - loss: 427.3813\n",
      "Epoch 135/200\n",
      "100/100 [==============================] - 0s 41us/step - loss: 408.6866\n",
      "Epoch 136/200\n",
      "100/100 [==============================] - 0s 36us/step - loss: 390.9911\n",
      "Epoch 137/200\n",
      "100/100 [==============================] - 0s 38us/step - loss: 373.8939\n",
      "Epoch 138/200\n",
      "100/100 [==============================] - 0s 52us/step - loss: 356.2983\n",
      "Epoch 139/200\n",
      "100/100 [==============================] - 0s 40us/step - loss: 340.1585\n",
      "Epoch 140/200\n",
      "100/100 [==============================] - 0s 43us/step - loss: 325.0940\n",
      "Epoch 141/200\n",
      "100/100 [==============================] - 0s 54us/step - loss: 311.4414\n",
      "Epoch 142/200\n",
      "100/100 [==============================] - 0s 44us/step - loss: 298.0043\n",
      "Epoch 143/200\n",
      "100/100 [==============================] - 0s 41us/step - loss: 285.3510\n",
      "Epoch 144/200\n",
      "100/100 [==============================] - 0s 66us/step - loss: 272.5556\n",
      "Epoch 145/200\n",
      "100/100 [==============================] - 0s 53us/step - loss: 261.2847\n",
      "Epoch 146/200\n",
      "100/100 [==============================] - 0s 52us/step - loss: 249.4271\n",
      "Epoch 147/200\n",
      "100/100 [==============================] - 0s 45us/step - loss: 237.2630\n",
      "Epoch 148/200\n",
      "100/100 [==============================] - 0s 42us/step - loss: 225.4134\n",
      "Epoch 149/200\n",
      "100/100 [==============================] - 0s 38us/step - loss: 214.4373\n",
      "Epoch 150/200\n",
      "100/100 [==============================] - 0s 52us/step - loss: 203.5130\n",
      "Epoch 151/200\n",
      "100/100 [==============================] - 0s 42us/step - loss: 192.8569\n",
      "Epoch 152/200\n",
      "100/100 [==============================] - 0s 42us/step - loss: 182.6699\n",
      "Epoch 153/200\n",
      "100/100 [==============================] - 0s 58us/step - loss: 173.6099\n",
      "Epoch 154/200\n",
      "100/100 [==============================] - 0s 39us/step - loss: 165.4193\n",
      "Epoch 155/200\n",
      "100/100 [==============================] - 0s 38us/step - loss: 157.2370\n",
      "Epoch 156/200\n",
      "100/100 [==============================] - 0s 46us/step - loss: 149.6494\n",
      "Epoch 157/200\n",
      "100/100 [==============================] - 0s 42us/step - loss: 142.2064\n",
      "Epoch 158/200\n",
      "100/100 [==============================] - 0s 43us/step - loss: 135.5699\n",
      "Epoch 159/200\n",
      "100/100 [==============================] - 0s 40us/step - loss: 129.0717\n",
      "Epoch 160/200\n",
      "100/100 [==============================] - 0s 49us/step - loss: 122.7459\n",
      "Epoch 161/200\n",
      "100/100 [==============================] - 0s 38us/step - loss: 116.2082\n",
      "Epoch 162/200\n",
      "100/100 [==============================] - 0s 41us/step - loss: 110.1388\n",
      "Epoch 163/200\n",
      "100/100 [==============================] - 0s 44us/step - loss: 104.4050\n",
      "Epoch 164/200\n",
      "100/100 [==============================] - 0s 40us/step - loss: 98.7456\n",
      "Epoch 165/200\n",
      "100/100 [==============================] - 0s 38us/step - loss: 93.3989\n",
      "Epoch 166/200\n",
      "100/100 [==============================] - 0s 40us/step - loss: 88.7389\n",
      "Epoch 167/200\n",
      "100/100 [==============================] - 0s 42us/step - loss: 83.9748\n",
      "Epoch 168/200\n",
      "100/100 [==============================] - 0s 49us/step - loss: 79.5412\n",
      "Epoch 169/200\n",
      "100/100 [==============================] - 0s 45us/step - loss: 75.2458\n",
      "Epoch 170/200\n",
      "100/100 [==============================] - 0s 53us/step - loss: 71.1903\n",
      "Epoch 171/200\n",
      "100/100 [==============================] - 0s 40us/step - loss: 67.3985\n",
      "Epoch 172/200\n",
      "100/100 [==============================] - 0s 37us/step - loss: 63.9667\n",
      "Epoch 173/200\n",
      "100/100 [==============================] - 0s 50us/step - loss: 60.4311\n",
      "Epoch 174/200\n",
      "100/100 [==============================] - 0s 39us/step - loss: 57.3253\n",
      "Epoch 175/200\n",
      "100/100 [==============================] - 0s 38us/step - loss: 54.2771\n",
      "Epoch 176/200\n",
      "100/100 [==============================] - 0s 40us/step - loss: 51.4454\n",
      "Epoch 177/200\n",
      "100/100 [==============================] - 0s 46us/step - loss: 48.7762\n",
      "Epoch 178/200\n",
      "100/100 [==============================] - 0s 40us/step - loss: 46.4969\n",
      "Epoch 179/200\n",
      "100/100 [==============================] - 0s 40us/step - loss: 44.2897\n",
      "Epoch 180/200\n",
      "100/100 [==============================] - 0s 47us/step - loss: 42.3980\n",
      "Epoch 181/200\n",
      "100/100 [==============================] - 0s 53us/step - loss: 40.4583\n",
      "Epoch 182/200\n",
      "100/100 [==============================] - 0s 46us/step - loss: 38.6868\n",
      "Epoch 183/200\n",
      "100/100 [==============================] - 0s 57us/step - loss: 37.0504\n",
      "Epoch 184/200\n",
      "100/100 [==============================] - 0s 41us/step - loss: 35.5497\n",
      "Epoch 185/200\n",
      "100/100 [==============================] - 0s 38us/step - loss: 34.1059\n",
      "Epoch 186/200\n",
      "100/100 [==============================] - 0s 40us/step - loss: 32.8661\n",
      "Epoch 187/200\n",
      "100/100 [==============================] - 0s 39us/step - loss: 31.7302\n",
      "Epoch 188/200\n",
      "100/100 [==============================] - 0s 38us/step - loss: 30.6869\n",
      "Epoch 189/200\n",
      "100/100 [==============================] - 0s 37us/step - loss: 29.7211\n",
      "Epoch 190/200\n",
      "100/100 [==============================] - 0s 47us/step - loss: 28.7776\n",
      "Epoch 191/200\n",
      "100/100 [==============================] - 0s 35us/step - loss: 27.9277\n",
      "Epoch 192/200\n",
      "100/100 [==============================] - 0s 38us/step - loss: 27.1217\n",
      "Epoch 193/200\n",
      "100/100 [==============================] - 0s 33us/step - loss: 26.2970\n",
      "Epoch 194/200\n",
      "100/100 [==============================] - 0s 54us/step - loss: 25.5448\n",
      "Epoch 195/200\n",
      "100/100 [==============================] - 0s 48us/step - loss: 24.8544\n",
      "Epoch 196/200\n",
      "100/100 [==============================] - 0s 40us/step - loss: 24.2501\n",
      "Epoch 197/200\n",
      "100/100 [==============================] - 0s 49us/step - loss: 23.7028\n",
      "Epoch 198/200\n",
      "100/100 [==============================] - 0s 39us/step - loss: 23.1916\n",
      "Epoch 199/200\n",
      "100/100 [==============================] - 0s 38us/step - loss: 22.7768\n",
      "Epoch 200/200\n",
      "100/100 [==============================] - 0s 52us/step - loss: 22.4002\n"
     ]
    },
    {
     "data": {
      "text/plain": [
       "<keras.callbacks.History at 0xb3026b390>"
      ]
     },
     "execution_count": 19,
     "metadata": {},
     "output_type": "execute_result"
    }
   ],
   "source": [
    "model.fit(x,y,epochs=200)"
   ]
  },
  {
   "cell_type": "code",
   "execution_count": 27,
   "metadata": {},
   "outputs": [
    {
     "data": {
      "text/plain": [
       "[<matplotlib.lines.Line2D at 0xb3161aef0>]"
      ]
     },
     "execution_count": 27,
     "metadata": {},
     "output_type": "execute_result"
    },
    {
     "data": {
      "image/png": "[encoded data removed]",
      "text/plain": [
       "<Figure size 432x288 with 1 Axes>"
      ]
     },
     "metadata": {
      "needs_background": "light"
     },
     "output_type": "display_data"
    }
   ],
   "source": [
    "loss = model.history.history['loss']\n",
    "epochs = range(len(loss))\n",
    "plt.plot(epochs,loss)"
   ]
  },
  {
   "cell_type": "code",
   "execution_count": 28,
   "metadata": {},
   "outputs": [
    {
     "name": "stdout",
     "output_type": "stream",
     "text": [
      "Epoch 1/20\n",
      "100/100 [==============================] - 0s 52us/step - loss: 21.9872\n",
      "Epoch 2/20\n",
      "100/100 [==============================] - 0s 45us/step - loss: 21.6116\n",
      "Epoch 3/20\n",
      "100/100 [==============================] - 0s 47us/step - loss: 21.2805\n",
      "Epoch 4/20\n",
      "100/100 [==============================] - 0s 45us/step - loss: 20.9466\n",
      "Epoch 5/20\n",
      "100/100 [==============================] - 0s 59us/step - loss: 20.7167\n",
      "Epoch 6/20\n",
      "100/100 [==============================] - 0s 78us/step - loss: 20.4703\n",
      "Epoch 7/20\n",
      "100/100 [==============================] - 0s 90us/step - loss: 20.2817\n",
      "Epoch 8/20\n",
      "100/100 [==============================] - 0s 74us/step - loss: 20.1063\n",
      "Epoch 9/20\n",
      "100/100 [==============================] - 0s 61us/step - loss: 19.9529\n",
      "Epoch 10/20\n",
      "100/100 [==============================] - 0s 77us/step - loss: 19.7902\n",
      "Epoch 11/20\n",
      "100/100 [==============================] - 0s 73us/step - loss: 19.6435\n",
      "Epoch 12/20\n",
      "100/100 [==============================] - 0s 81us/step - loss: 19.5281\n",
      "Epoch 13/20\n",
      "100/100 [==============================] - 0s 58us/step - loss: 19.4232\n",
      "Epoch 14/20\n",
      "100/100 [==============================] - 0s 49us/step - loss: 19.2966\n",
      "Epoch 15/20\n",
      "100/100 [==============================] - 0s 47us/step - loss: 19.1742\n",
      "Epoch 16/20\n",
      "100/100 [==============================] - 0s 44us/step - loss: 19.0794\n",
      "Epoch 17/20\n",
      "100/100 [==============================] - 0s 39us/step - loss: 18.9890\n",
      "Epoch 18/20\n",
      "100/100 [==============================] - 0s 39us/step - loss: 18.8813\n",
      "Epoch 19/20\n",
      "100/100 [==============================] - 0s 42us/step - loss: 18.8288\n",
      "Epoch 20/20\n",
      "100/100 [==============================] - 0s 39us/step - loss: 18.7254\n"
     ]
    },
    {
     "data": {
      "text/plain": [
       "<keras.callbacks.History at 0xb316c7400>"
      ]
     },
     "execution_count": 28,
     "metadata": {},
     "output_type": "execute_result"
    }
   ],
   "source": [
    "model.fit(x,y,epochs=20)"
   ]
  },
  {
   "cell_type": "code",
   "execution_count": 29,
   "metadata": {},
   "outputs": [],
   "source": [
    "x_for_predictions = np.linspace(0,50,100)\n",
    "y_pred = model.predict(x_for_predictions)"
   ]
  },
  {
   "cell_type": "code",
   "execution_count": 31,
   "metadata": {},
   "outputs": [
    {
     "data": {
      "text/plain": [
       "[<matplotlib.lines.Line2D at 0xb31707470>]"
      ]
     },
     "execution_count": 31,
     "metadata": {},
     "output_type": "execute_result"
    },
    {
     "data": {
      "image/png": "[encoded data removed]",
      "text/plain": [
       "<Figure size 432x288 with 1 Axes>"
      ]
     },
     "metadata": {
      "needs_background": "light"
     },
     "output_type": "display_data"
    }
   ],
   "source": [
    "plt.plot(x,y,'.')\n",
    "plt.plot(x_for_predictions,y_pred,'r')"
   ]
  },
  {
   "cell_type": "code",
   "execution_count": 36,
   "metadata": {},
   "outputs": [
    {
     "data": {
      "text/plain": [
       "18.705421708179635"
      ]
     },
     "execution_count": 36,
     "metadata": {},
     "output_type": "execute_result"
    }
   ],
   "source": [
    "from sklearn.metrics import mean_squared_error\n",
    "mean_squared_error(y,y_pred)"
   ]
  },
  {
   "cell_type": "code",
   "execution_count": null,
   "metadata": {},
   "outputs": [],
   "source": []
  }
 ],
 "metadata": {
  "kernelspec": {
   "display_name": "Python 3",
   "language": "python",
   "name": "python3"
  },
  "language_info": {
   "codemirror_mode": {
    "name": "ipython",
    "version": 3
   },
   "file_extension": ".py",
   "mimetype": "text/x-python",
   "name": "python",
   "nbconvert_exporter": "python",
   "pygments_lexer": "ipython3",
   "version": "3.7.2"
  }
 },
 "nbformat": 4,
 "nbformat_minor": 2
}
