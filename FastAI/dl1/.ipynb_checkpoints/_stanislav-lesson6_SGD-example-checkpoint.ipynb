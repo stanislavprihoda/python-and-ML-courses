{
 "cells": [
  {
   "cell_type": "code",
   "execution_count": 4,
   "metadata": {},
   "outputs": [
    {
     "name": "stderr",
     "output_type": "stream",
     "text": [
      "/home/paperspace/anaconda3/envs/fastai/lib/python3.6/site-packages/sklearn/ensemble/weight_boosting.py:29: DeprecationWarning: numpy.core.umath_tests is an internal NumPy module and should not be imported. It will be removed in a future NumPy release.\n",
      "  from numpy.core.umath_tests import inner1d\n"
     ]
    }
   ],
   "source": [
    "from fastai.learner import *"
   ]
  },
  {
   "cell_type": "code",
   "execution_count": 5,
   "metadata": {},
   "outputs": [],
   "source": [
    "#data gen\n",
    "def lin(a,b,x): return a*x+b"
   ]
  },
  {
   "cell_type": "code",
   "execution_count": 6,
   "metadata": {},
   "outputs": [],
   "source": [
    "def gen_fake_data(n,a,b):\n",
    "    x=np.random.uniform(0,1,n)\n",
    "    y=lin(a,b,x)+0.1*np.random.normal(0,3,n)\n",
    "    return x,y\n",
    "\n",
    "x,y = gen_fake_data(50, 3., 8.)"
   ]
  },
  {
   "cell_type": "code",
   "execution_count": 7,
   "metadata": {},
   "outputs": [
    {
     "data": {
      "text/plain": [
       "Text(0, 0.5, 'y')"
      ]
     },
     "execution_count": 7,
     "metadata": {},
     "output_type": "execute_result"
    },
    {
     "data": {
      "image/png": "[encoded data removed]",
      "text/plain": [
       "<Figure size 432x288 with 1 Axes>"
      ]
     },
     "metadata": {
      "needs_background": "light"
     },
     "output_type": "display_data"
    }
   ],
   "source": [
    "plt.scatter(x,y,s=8);plt.xlabel('x');plt.ylabel('y')"
   ]
  },
  {
   "cell_type": "code",
   "execution_count": 8,
   "metadata": {},
   "outputs": [],
   "source": [
    "def mse(y_hat,y): return ((y_hat-y)**2).mean()\n",
    "def mse_loss(a,b,x,y): return mse(lin(a,b,x),y)"
   ]
  },
  {
   "cell_type": "code",
   "execution_count": 9,
   "metadata": {},
   "outputs": [
    {
     "data": {
      "text/plain": [
       "5.29926454946663"
      ]
     },
     "execution_count": 9,
     "metadata": {},
     "output_type": "execute_result"
    }
   ],
   "source": [
    "mse_loss(10,5,x,y)"
   ]
  },
  {
   "cell_type": "markdown",
   "metadata": {},
   "source": [
    "### Example gradient descent with PyTorch"
   ]
  },
  {
   "cell_type": "code",
   "execution_count": 12,
   "metadata": {},
   "outputs": [
    {
     "data": {
      "text/plain": [
       "((10000,), (10000,))"
      ]
     },
     "execution_count": 12,
     "metadata": {},
     "output_type": "execute_result"
    }
   ],
   "source": [
    "x,y = gen_fake_data(10000, 3., 8.)\n",
    "x.shape,y.shape"
   ]
  },
  {
   "cell_type": "code",
   "execution_count": 14,
   "metadata": {},
   "outputs": [],
   "source": [
    "x,y = V(x),V(y)"
   ]
  },
  {
   "cell_type": "code",
   "execution_count": 15,
   "metadata": {},
   "outputs": [
    {
     "data": {
      "text/plain": [
       "(Variable containing:\n",
       "  1.0551\n",
       " [torch.cuda.FloatTensor of size 1 (GPU 0)], Variable containing:\n",
       " -1.1583\n",
       " [torch.cuda.FloatTensor of size 1 (GPU 0)])"
      ]
     },
     "execution_count": 15,
     "metadata": {},
     "output_type": "execute_result"
    }
   ],
   "source": [
    "# create random weights a and b, wrap them in variables\n",
    "a=V(np.random.randn(1),requires_grad=True)\n",
    "b=V(np.random.randn(1),requires_grad=True)\n",
    "a,b"
   ]
  },
  {
   "cell_type": "code",
   "execution_count": 16,
   "metadata": {},
   "outputs": [
    {
     "name": "stdout",
     "output_type": "stream",
     "text": [
      "103.09209442138672\n",
      "1.068007230758667\n",
      "0.35920658707618713\n",
      "0.29488712549209595\n",
      "0.2482401430606842\n",
      "0.21226443350315094\n",
      "0.18450407683849335\n",
      "0.16308312118053436\n",
      "0.14655360579490662\n",
      "0.13379915058612823\n"
     ]
    }
   ],
   "source": [
    "learning_rate = 1e-3\n",
    "for t in range(10000):\n",
    "    # Forward pass: compute predicted y using operations on Variables\n",
    "    loss = mse_loss(a,b,x,y)\n",
    "    if t%1000 == 0: print(loss.data[0])\n",
    "    \n",
    "    # Computes the gradient of loss with respect to all Variables with requires_grad=True.\n",
    "    # After this call a.grad and b.grad will be Variables holding the gradient\n",
    "    # of the loss with respect to a and b respectively\n",
    "    loss.backward()\n",
    "    \n",
    "    # Update a and b using gradient descent; a.data and b.data are Tensors,\n",
    "    # a.grad and b.grad are Variables and a.grad.data and b.grad.data are Tensors\n",
    "    a.data -= learning_rate * a.grad.data\n",
    "    b.data -= learning_rate * b.grad.data\n",
    "    \n",
    "    # Zero the gradients\n",
    "    a.grad.data.zero_()\n",
    "    b.grad.data.zero_()"
   ]
  },
  {
   "cell_type": "markdown",
   "metadata": {},
   "source": [
    "### Example gradient descent only with NumPy: "
   ]
  },
  {
   "cell_type": "code",
   "execution_count": 17,
   "metadata": {},
   "outputs": [],
   "source": [
    "x, y = gen_fake_data(50, 3., 8.)"
   ]
  },
  {
   "cell_type": "code",
   "execution_count": 18,
   "metadata": {},
   "outputs": [
    {
     "data": {
      "text/plain": [
       "84.59695827471086"
      ]
     },
     "execution_count": 18,
     "metadata": {},
     "output_type": "execute_result"
    }
   ],
   "source": [
    "a_guess,b_guess = -1., 1.\n",
    "mse_loss(a_guess, b_guess, x, y)"
   ]
  },
  {
   "cell_type": "code",
   "execution_count": 19,
   "metadata": {},
   "outputs": [],
   "source": [
    "lr=0.01\n",
    "def upd():\n",
    "    global a_guess, b_guess\n",
    "    y_pred = lin(a_guess, b_guess, x)\n",
    "    dydb = 2 * (y_pred - y)\n",
    "    dyda = x*dydb\n",
    "    a_guess -= lr*dyda.mean()\n",
    "    b_guess -= lr*dydb.mean()"
   ]
  },
  {
   "cell_type": "code",
   "execution_count": 20,
   "metadata": {},
   "outputs": [
    {
     "name": "stdout",
     "output_type": "stream",
     "text": [
      "80.30115382753415\n",
      "76.2237207335474\n",
      "72.35355838031697\n",
      "68.68013044003857\n",
      "65.19343618489056\n",
      "61.88398326053285\n",
      "58.74276184362815\n",
      "55.76122011303043\n",
      "52.93124096786277\n",
      "50.24511992909991\n",
      "47.69554416449412\n",
      "45.27557257974072\n",
      "42.97861692168201\n",
      "40.79842384210465\n",
      "38.72905787329932\n",
      "36.76488526903499\n",
      "34.90055866695543\n",
      "33.131002530641915\n",
      "31.451399331709144\n",
      "29.857176434315594\n",
      "28.343993646381996\n",
      "26.907731403626908\n",
      "25.544479554250785\n",
      "24.250526713735493\n",
      "23.022350160778252\n",
      "21.856606246852007\n",
      "20.750121293282973\n",
      "19.699882951062854\n",
      "18.70303199987335\n",
      "17.75685456399615\n",
      "16.858774723916664\n",
      "16.006347503506863\n",
      "15.197252213695197\n",
      "14.429286134502066\n",
      "13.700358518240483\n",
      "13.008484897555922\n",
      "12.351781682809257\n",
      "11.728461034094444\n",
      "11.136825993930263\n",
      "10.575265867375096\n",
      "10.042251836987298\n",
      "9.53633280069316\n",
      "9.056131421231239\n",
      "8.600340376417796\n",
      "8.167718800024964\n",
      "7.757088903582074\n",
      "7.367332769903092\n",
      "6.997389309610809\n",
      "6.646251372371977\n",
      "6.312963004978923\n",
      "5.996616848812854\n",
      "5.696351669603628\n",
      "5.411350012760831\n",
      "5.140835977892916\n",
      "4.884073106455684\n",
      "4.6403623767792705\n",
      "4.40904030101526\n",
      "4.189477118822874\n",
      "3.981075082876728\n",
      "3.7832668315284574\n",
      "3.59551384419189\n",
      "3.4173049752466373\n",
      "3.2481550624687117\n",
      "3.0876036061996803\n",
      "2.9352135156584906\n",
      "2.7905699189828215\n",
      "2.6532790337603847\n",
      "2.52296709497524\n",
      "2.399279337450502\n",
      "2.281879030017204\n",
      "2.1704465587798873\n",
      "2.06467855698313\n",
      "1.9642870791101494\n",
      "1.8689988169649785\n",
      "1.7785543556040448\n",
      "1.6927074670914664\n",
      "1.611224440155338\n",
      "1.5338834439200395\n",
      "1.4604739239823443\n",
      "1.3907960291871913\n",
      "1.3246600675425306\n",
      "1.2618859897920027\n",
      "1.2023028992395017\n",
      "1.1457485864911532\n",
      "1.09206908784804\n",
      "1.0411182661474485\n",
      "0.9927574129114789\n",
      "0.9468548707198969\n",
      "0.9032856747791438\n",
      "0.8619312127117088\n",
      "0.8226789016396446\n",
      "0.7854218816831096\n",
      "0.7500587250394914\n",
      "0.7164931598511086\n",
      "0.6846338081097153\n",
      "0.6543939368842814\n",
      "0.6256912221947747\n",
      "0.5984475248890913\n",
      "0.5725886779129895\n",
      "0.5480442843938641\n",
      "0.5247475259886568\n",
      "0.5026349809741464\n",
      "0.4816464515843695\n",
      "0.46172480012511324\n",
      "0.44281579341930405\n",
      "0.42486795515980463\n",
      "0.40783242576765893\n",
      "0.3916628293742522\n",
      "0.37631514756525375\n",
      "0.3617475995426142\n",
      "0.34792052837836857\n",
      "0.334796293050572\n",
      "0.322339165967442\n",
      "0.3105152357007234\n",
      "0.29929231466347067\n",
      "0.28863985148090565\n",
      "0.27852884781578535\n",
      "0.2689317794218375\n",
      "0.2598225212103401\n",
      "0.2511762761258383\n",
      "0.24296950763736966\n",
      "0.23517987566140672\n",
      "0.2277861757420687\n",
      "0.22076828132302556\n",
      "0.2141070889539321\n",
      "0.2077844662822205\n",
      "0.20178320268865493\n",
      "0.19608696243226784\n",
      "0.1906802401771039\n",
      "0.18554831877970535\n",
      "0.18067722922241167\n",
      "0.17605371258339836\n",
      "0.17166518393991315\n",
      "0.16749969810644758\n",
      "0.16354591711455835\n",
      "0.15979307934580814\n",
      "0.15623097023379498\n",
      "0.15284989445550123\n",
      "0.1496406495362583\n",
      "0.14659450079646874\n",
      "0.1437031575718757\n",
      "0.14095875064264474\n",
      "0.13835381080980666\n",
      "0.13588124856073855\n",
      "0.13353433476832235\n",
      "0.1313066823712347\n",
      "0.12919222898549687\n",
      "0.12718522039993993\n",
      "0.12528019491065806\n",
      "0.12347196845179834\n",
      "0.12175562048220526\n",
      "0.12012648058950078\n",
      "0.11858011577512582\n",
      "0.11711231838573101\n",
      "0.11571909465805783\n",
      "0.11439665384612618\n",
      "0.11314139790112547\n",
      "0.11194991167591636\n",
      "0.11081895362747024\n",
      "0.1097454469919418\n",
      "0.10872647140834168\n",
      "0.10775925496800952\n",
      "0.10684116666824059\n",
      "0.10596970924952416\n",
      "0.10514251239688799\n",
      "0.10435732628684612\n",
      "0.1036120154623779\n",
      "0.10290455301926334\n",
      "0.10223301508794905\n",
      "0.10159557559592101\n",
      "0.10099050129632527\n",
      "0.10041614704930131\n",
      "0.09987095134318297\n",
      "0.09935343204337309\n",
      "0.09886218235731759\n",
      "0.09839586700459634\n",
      "0.09795321858169981\n",
      "0.09753303411160014\n",
      "0.09713417176871719\n",
      "0.0967555477703695\n",
      "0.09639613342624223\n",
      "0.0960549523378412\n",
      "0.0957310777403107\n",
      "0.09542362997937415\n",
      "0.09513177411653234\n",
      "0.09485471765599891\n",
      "0.09459170838718194\n",
      "0.09434203233684223\n",
      "0.09410501182534899\n",
      "0.0938800036217447\n",
      "0.09366639719259333\n",
      "0.09346361303984718\n",
      "0.09327110112320577\n",
      "0.09308833936267083\n",
      "0.09291483221722369\n",
      "0.09275010933575231\n",
      "0.09259372427655724\n",
      "0.09244525329194975\n",
      "0.09230429417463287\n",
      "0.09217046516272547\n",
      "0.09204340390044759\n",
      "0.09192276645163895\n",
      "0.09180822636342217\n",
      "0.0916994737774648\n",
      "0.09159621458641874\n",
      "0.09149816963324092\n",
      "0.09140507395121521\n",
      "0.09131667604260704\n",
      "0.09123273719398683\n",
      "0.09115303082635735\n",
      "0.09107734187831713\n",
      "0.09100546622057966\n",
      "0.0909372101002546\n",
      "0.09087238961337862\n",
      "0.09081083020425881\n",
      "0.09075236619026722\n",
      "0.09069684031079034\n",
      "0.09064410329910844\n",
      "0.0905940134760377\n",
      "0.0905464363642284\n",
      "0.09050124432206978\n",
      "0.09045831619620585\n",
      "0.09041753699171348\n",
      "0.09037879755904835\n",
      "0.09034199429690247\n",
      "0.0903070288701687\n",
      "0.0902738079422411\n",
      "0.09024224292092246\n",
      "0.09021224971725067\n",
      "0.0901837485165826\n",
      "0.09015666356131578\n",
      "0.09013092294465448\n",
      "0.09010645841486044\n",
      "0.09008320518945301\n",
      "0.0900611017788547\n",
      "0.09004008981900181\n",
      "0.09002011391246366\n",
      "0.09000112147763845\n",
      "0.08998306260561467\n",
      "0.08996588992430947\n",
      "0.08994955846951301\n",
      "0.08993402556248763\n",
      "0.08991925069378988\n",
      "0.08990519541299845\n",
      "0.08989182322404618\n",
      "0.08987909948587385\n",
      "0.08986699131813519\n",
      "0.089855467511692\n",
      "0.08984449844366313\n",
      "0.0898340559967879\n",
      "0.08982411348289238\n",
      "0.08981464557024278\n",
      "0.08980562821459374\n",
      "0.08979703859374176\n",
      "0.08978885504540378\n",
      "0.08978105700825571\n",
      "0.08977362496596676\n",
      "0.08976654039407941\n",
      "0.08975978570958933\n",
      "0.08975334422308827\n",
      "0.08974720009334025\n",
      "0.08974133828416622\n",
      "0.08973574452352057\n",
      "0.08973040526464797\n",
      "0.08972530764921512\n",
      "0.08972043947231566\n",
      "0.08971578914925576\n",
      "0.08971134568402535\n",
      "0.08970709863937543\n",
      "0.08970303810841368\n",
      "0.08969915468764526\n",
      "0.08969543945138407\n",
      "0.08969188392746412\n",
      "0.08968848007418682\n",
      "0.08968522025843795\n",
      "0.08968209723491977\n",
      "0.0896791041264361\n",
      "0.08967623440518242\n",
      "0.08967348187498421\n",
      "0.08967084065444003\n",
      "0.08966830516092114\n",
      "0.08966587009538438\n",
      "0.08966353042795633\n",
      "0.08966128138425156\n",
      "0.08965911843238615\n",
      "0.08965703727064987\n",
      "0.08965503381580707\n",
      "0.08965310419199078\n",
      "0.08965124472016245\n",
      "0.08964945190810626\n",
      "0.08964772244093364\n",
      "0.08964605317206889\n",
      "0.0896444411146938\n",
      "0.08964288343362746\n",
      "0.08964137743761841\n",
      "0.0896399205720284\n",
      "0.08963851041188858\n",
      "0.08963714465530857\n",
      "0.08963582111721992\n",
      "0.08963453772343896\n"
     ]
    }
   ],
   "source": [
    "for i in range(300): \n",
    "    upd()\n",
    "    print(mse_loss(a_guess, b_guess, x, y))"
   ]
  },
  {
   "cell_type": "code",
   "execution_count": null,
   "metadata": {},
   "outputs": [],
   "source": []
  }
 ],
 "metadata": {
  "kernelspec": {
   "display_name": "Python 3",
   "language": "python",
   "name": "python3"
  }
 },
 "nbformat": 4,
 "nbformat_minor": 2
}
