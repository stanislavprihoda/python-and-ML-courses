{
  "nbformat": 4,
  "nbformat_minor": 0,
  "metadata": {
    "kernelspec": {
      "name": "python3",
      "display_name": "Python 3"
    },
    "language_info": {
      "codemirror_mode": {
        "name": "ipython",
        "version": 3
      },
      "file_extension": ".py",
      "mimetype": "text/x-python",
      "name": "python",
      "nbconvert_exporter": "python",
      "pygments_lexer": "ipython3",
      "version": "3.7.3"
    },
    "colab": {
      "name": "07_Batchnorm.ipynb",
      "version": "0.3.2",
      "provenance": []
    },
    "accelerator": "GPU"
  },
  "cells": [
    {
      "cell_type": "code",
      "metadata": {
        "id": "9sFg12f5wXtD",
        "colab_type": "code",
        "colab": {}
      },
      "source": [
        "from google.colab import drive\n",
        "drive.mount('/content/gdrive')\n",
        "import sys\n",
        "sys.path.append('//content/gdrive/My Drive/Colab Notebooks/')"
      ],
      "execution_count": 0,
      "outputs": []
    },
    {
      "cell_type": "code",
      "metadata": {
        "id": "1Cd2FQvTv6Pd",
        "colab_type": "code",
        "colab": {}
      },
      "source": [
        "#export\n",
        "from exp.nb_06 import *"
      ],
      "execution_count": 0,
      "outputs": []
    },
    {
      "cell_type": "code",
      "metadata": {
        "id": "5HIj2nr2v6Pg",
        "colab_type": "code",
        "colab": {}
      },
      "source": [
        "x_train,y_train,x_valid,y_valid = get_data()\n",
        "\n",
        "x_train,x_valid = normalize_to(x_train,x_valid)\n",
        "train_ds,valid_ds = Dataset(x_train, y_train),Dataset(x_valid, y_valid)\n",
        "\n",
        "nh,bs = 50,512\n",
        "c = y_train.max().item()+1\n",
        "loss_func = F.cross_entropy\n",
        "\n",
        "data = DataBunch(*get_dls(train_ds, valid_ds, bs), c)"
      ],
      "execution_count": 0,
      "outputs": []
    },
    {
      "cell_type": "code",
      "metadata": {
        "id": "zjc140ZXyuT-",
        "colab_type": "code",
        "colab": {}
      },
      "source": [
        "mnist_view = view_tfm(1,28,28)\n",
        "cbfs = [Recorder,\n",
        "        partial(AvgStatsCallback,accuracy),\n",
        "        CudaCallback,\n",
        "        partial(BatchTransformXCallback, mnist_view)]"
      ],
      "execution_count": 0,
      "outputs": []
    },
    {
      "cell_type": "code",
      "metadata": {
        "id": "qfp8yaixywKg",
        "colab_type": "code",
        "colab": {}
      },
      "source": [
        "nfs = [8,16,32,64,64]"
      ],
      "execution_count": 0,
      "outputs": []
    },
    {
      "cell_type": "code",
      "metadata": {
        "id": "7SFzi-llyxdf",
        "colab_type": "code",
        "colab": {}
      },
      "source": [
        "learn,run = get_learn_run(nfs, data, 0.4, conv_layer, cbs=cbfs)"
      ],
      "execution_count": 0,
      "outputs": []
    },
    {
      "cell_type": "code",
      "metadata": {
        "id": "VcczayBgyyzG",
        "colab_type": "code",
        "colab": {
          "base_uri": "https://localhost:8080/",
          "height": 119
        },
        "outputId": "290acba6-3c2b-44ce-d37c-27a6e71b0d23"
      },
      "source": [
        "%time run.fit(2, learn)"
      ],
      "execution_count": 8,
      "outputs": [
        {
          "output_type": "stream",
          "text": [
            "train: [1.5743460114469234, tensor(0.4772, device='cuda:0')]\n",
            "valid: [0.335583056640625, tensor(0.8987, device='cuda:0')]\n",
            "train: [0.2614898485006745, tensor(0.9199, device='cuda:0')]\n",
            "valid: [0.14514320068359374, tensor(0.9565, device='cuda:0')]\n",
            "CPU times: user 4.37 s, sys: 1.68 s, total: 6.05 s\n",
            "Wall time: 8.46 s\n"
          ],
          "name": "stdout"
        }
      ]
    },
    {
      "cell_type": "markdown",
      "metadata": {
        "id": "Oxgaq5gpzBxA",
        "colab_type": "text"
      },
      "source": [
        "## BATCH NORM"
      ]
    },
    {
      "cell_type": "markdown",
      "metadata": {
        "id": "cUfJCMCLzKB2",
        "colab_type": "text"
      },
      "source": [
        "### custom"
      ]
    },
    {
      "cell_type": "code",
      "metadata": {
        "id": "x4nbUGFny0oa",
        "colab_type": "code",
        "colab": {}
      },
      "source": [
        "class BatchNorm(nn.Module):\n",
        "    def __init__(self, nf, mom=0.1, eps=1e-5):\n",
        "        super().__init__()\n",
        "        # NB: pytorch bn mom is opposite of what you'd expect\n",
        "        self.mom,self.eps = mom,eps\n",
        "        self.mults = nn.Parameter(torch.ones (nf,1,1))\n",
        "        self.adds  = nn.Parameter(torch.zeros(nf,1,1))\n",
        "        self.register_buffer('vars',  torch.ones(1,nf,1,1))\n",
        "        self.register_buffer('means', torch.zeros(1,nf,1,1))\n",
        "\n",
        "    def update_stats(self, x):\n",
        "        m = x.mean((0,2,3), keepdim=True)\n",
        "        v = x.var ((0,2,3), keepdim=True)\n",
        "        self.means.lerp_(m, self.mom)\n",
        "        self.vars.lerp_ (v, self.mom)\n",
        "        return m,v\n",
        "        \n",
        "    def forward(self, x):\n",
        "        if self.training:\n",
        "            with torch.no_grad(): m,v = self.update_stats(x)\n",
        "        else: m,v = self.means,self.vars\n",
        "        x = (x-m) / (v+self.eps).sqrt()\n",
        "        return x*self.mults + self.adds"
      ],
      "execution_count": 0,
      "outputs": []
    },
    {
      "cell_type": "code",
      "metadata": {
        "id": "-tnrspHg6Igk",
        "colab_type": "code",
        "colab": {}
      },
      "source": [
        ""
      ],
      "execution_count": 0,
      "outputs": []
    }
  ]
}