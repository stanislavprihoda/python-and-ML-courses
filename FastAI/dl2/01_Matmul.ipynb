{
 "cells": [
  {
   "cell_type": "markdown",
   "metadata": {
    "colab": {
     "base_uri": "https://localhost:8080/",
     "height": 102
    },
    "colab_type": "code",
    "executionInfo": {
     "elapsed": 13734,
     "status": "ok",
     "timestamp": 1564549600417,
     "user": {
      "displayName": "Stanislav Příhoda",
      "photoUrl": "https://lh4.googleusercontent.com/-C41FRhLmuzo/AAAAAAAAAAI/AAAAAAAAGAA/iQXx9RUkid0/s64/photo.jpg",
      "userId": "04503141710385573309"
     },
     "user_tz": -120
    },
    "id": "7FgjuJpBqA3g",
    "outputId": "3fe51105-5371-4e8a-b4f0-28f8478d7c14"
   },
   "source": [
    "!curl https://course.fast.ai/setup/colab | bash"
   ]
  },
  {
   "cell_type": "markdown",
   "metadata": {},
   "source": [
    "pip install fastai"
   ]
  },
  {
   "cell_type": "markdown",
   "metadata": {},
   "source": [
    "pip install fire"
   ]
  },
  {
   "cell_type": "markdown",
   "metadata": {},
   "source": [
    "https://github.com/fastai/course-v3/blob/ca36c02484fec3bd3ed29dc137b26924b8fe4c3a/nbs/dl2/01_matmul.ipynb"
   ]
  },
  {
   "cell_type": "code",
   "execution_count": 1,
   "metadata": {
    "colab": {},
    "colab_type": "code",
    "id": "WXHKqTwhSuwA"
   },
   "outputs": [],
   "source": [
    "#export\n",
    "import operator\n",
    "\n",
    "def test(a,b,cmp,cname=None):\n",
    "    if cname is None: cname=cmp.__name__\n",
    "    assert cmp(a,b),f\"{cname}:\\n{a}\\n{b}\"\n",
    "\n",
    "def test_eq(a,b): test(a,b,operator.eq,'==')"
   ]
  },
  {
   "cell_type": "code",
   "execution_count": 2,
   "metadata": {
    "colab": {},
    "colab_type": "code",
    "id": "M6f7VKptSzAS"
   },
   "outputs": [],
   "source": [
    "#export\n",
    "from pathlib import Path\n",
    "from IPython.core.debugger import set_trace\n",
    "from fastai import datasets\n",
    "import pickle, gzip, math, torch, matplotlib as mpl\n",
    "import matplotlib.pyplot as plt\n",
    "from torch import tensor\n",
    "\n",
    "MNIST_URL='http://deeplearning.net/data/mnist/mnist.pkl'"
   ]
  },
  {
   "cell_type": "markdown",
   "metadata": {
    "colab_type": "text",
    "id": "BLocwF1WU3Pz"
   },
   "source": [
    "**Data prep**"
   ]
  },
  {
   "cell_type": "code",
   "execution_count": 3,
   "metadata": {
    "colab": {
     "base_uri": "https://localhost:8080/",
     "height": 34
    },
    "colab_type": "code",
    "executionInfo": {
     "elapsed": 4,
     "status": "ok",
     "timestamp": 1564551154628,
     "user": {
      "displayName": "Stanislav Příhoda",
      "photoUrl": "https://lh4.googleusercontent.com/-C41FRhLmuzo/AAAAAAAAAAI/AAAAAAAAGAA/iQXx9RUkid0/s64/photo.jpg",
      "userId": "04503141710385573309"
     },
     "user_tz": -120
    },
    "id": "K0LnMOULS454",
    "outputId": "e1e83bfe-e483-4378-8c21-abcbf661a560"
   },
   "outputs": [
    {
     "data": {
      "text/plain": [
       "PosixPath('/Users/stanislavprihoda/.fastai/data/mnist.pkl.gz')"
      ]
     },
     "execution_count": 3,
     "metadata": {},
     "output_type": "execute_result"
    }
   ],
   "source": [
    "path = datasets.download_data(MNIST_URL, ext='.gz'); path"
   ]
  },
  {
   "cell_type": "code",
   "execution_count": 4,
   "metadata": {
    "colab": {},
    "colab_type": "code",
    "id": "xo2uoLaWTctX"
   },
   "outputs": [],
   "source": [
    "with gzip.open(path, 'rb') as f:\n",
    "    ((x_train, y_train), (x_valid, y_valid), _) = pickle.load(f, encoding='latin-1')"
   ]
  },
  {
   "cell_type": "code",
   "execution_count": 5,
   "metadata": {
    "colab": {
     "base_uri": "https://localhost:8080/",
     "height": 221
    },
    "colab_type": "code",
    "executionInfo": {
     "elapsed": 541,
     "status": "ok",
     "timestamp": 1564551158368,
     "user": {
      "displayName": "Stanislav Příhoda",
      "photoUrl": "https://lh4.googleusercontent.com/-C41FRhLmuzo/AAAAAAAAAAI/AAAAAAAAGAA/iQXx9RUkid0/s64/photo.jpg",
      "userId": "04503141710385573309"
     },
     "user_tz": -120
    },
    "id": "0LjELQw9T7f_",
    "outputId": "8d1f472d-0bea-45e6-8fd1-723d0fb93373"
   },
   "outputs": [
    {
     "data": {
      "text/plain": [
       "(tensor([[0., 0., 0.,  ..., 0., 0., 0.],\n",
       "         [0., 0., 0.,  ..., 0., 0., 0.],\n",
       "         [0., 0., 0.,  ..., 0., 0., 0.],\n",
       "         ...,\n",
       "         [0., 0., 0.,  ..., 0., 0., 0.],\n",
       "         [0., 0., 0.,  ..., 0., 0., 0.],\n",
       "         [0., 0., 0.,  ..., 0., 0., 0.]]),\n",
       " torch.Size([50000, 784]),\n",
       " tensor([5, 0, 4,  ..., 8, 4, 8]),\n",
       " torch.Size([50000]),\n",
       " tensor(0),\n",
       " tensor(9))"
      ]
     },
     "execution_count": 5,
     "metadata": {},
     "output_type": "execute_result"
    }
   ],
   "source": [
    "x_train,y_train,x_valid,y_valid = map(tensor, (x_train,y_train,x_valid,y_valid))\n",
    "n,c = x_train.shape\n",
    "x_train, x_train.shape, y_train, y_train.shape, y_train.min(), y_train.max()"
   ]
  },
  {
   "cell_type": "code",
   "execution_count": 6,
   "metadata": {
    "colab": {},
    "colab_type": "code",
    "id": "ta3lr6baT9uB"
   },
   "outputs": [],
   "source": [
    "assert n==y_train.shape[0]==50000\n",
    "test_eq(c,28*28)\n",
    "test_eq(y_train.min(),0)\n",
    "test_eq(y_train.max(),9)"
   ]
  },
  {
   "cell_type": "code",
   "execution_count": 7,
   "metadata": {
    "colab": {},
    "colab_type": "code",
    "id": "Vg29Rr22UD8E"
   },
   "outputs": [],
   "source": [
    "mpl.rcParams['image.cmap'] = 'gray'"
   ]
  },
  {
   "cell_type": "code",
   "execution_count": 8,
   "metadata": {
    "colab": {},
    "colab_type": "code",
    "id": "mSwq3DwVUT1Q"
   },
   "outputs": [],
   "source": [
    "img = x_train[0]"
   ]
  },
  {
   "cell_type": "code",
   "execution_count": 9,
   "metadata": {
    "colab": {
     "base_uri": "https://localhost:8080/",
     "height": 34
    },
    "colab_type": "code",
    "executionInfo": {
     "elapsed": 617,
     "status": "ok",
     "timestamp": 1564551161938,
     "user": {
      "displayName": "Stanislav Příhoda",
      "photoUrl": "https://lh4.googleusercontent.com/-C41FRhLmuzo/AAAAAAAAAAI/AAAAAAAAGAA/iQXx9RUkid0/s64/photo.jpg",
      "userId": "04503141710385573309"
     },
     "user_tz": -120
    },
    "id": "PicVd9pZUVjG",
    "outputId": "8b526230-9048-48be-92ab-8436d429ce85"
   },
   "outputs": [
    {
     "data": {
      "text/plain": [
       "torch.Size([50000, 784])"
      ]
     },
     "execution_count": 9,
     "metadata": {},
     "output_type": "execute_result"
    }
   ],
   "source": [
    "x_train.shape"
   ]
  },
  {
   "cell_type": "code",
   "execution_count": 10,
   "metadata": {
    "colab": {
     "base_uri": "https://localhost:8080/",
     "height": 34
    },
    "colab_type": "code",
    "executionInfo": {
     "elapsed": 477,
     "status": "ok",
     "timestamp": 1564551162237,
     "user": {
      "displayName": "Stanislav Příhoda",
      "photoUrl": "https://lh4.googleusercontent.com/-C41FRhLmuzo/AAAAAAAAAAI/AAAAAAAAGAA/iQXx9RUkid0/s64/photo.jpg",
      "userId": "04503141710385573309"
     },
     "user_tz": -120
    },
    "id": "A_MaOyE7UYCp",
    "outputId": "7f3063b4-c022-4d99-e1de-daa60fdcdd8c"
   },
   "outputs": [
    {
     "data": {
      "text/plain": [
       "torch.Size([50000])"
      ]
     },
     "execution_count": 10,
     "metadata": {},
     "output_type": "execute_result"
    }
   ],
   "source": [
    "y_train.shape"
   ]
  },
  {
   "cell_type": "code",
   "execution_count": 11,
   "metadata": {
    "colab": {
     "base_uri": "https://localhost:8080/",
     "height": 34
    },
    "colab_type": "code",
    "executionInfo": {
     "elapsed": 599,
     "status": "ok",
     "timestamp": 1564551162514,
     "user": {
      "displayName": "Stanislav Příhoda",
      "photoUrl": "https://lh4.googleusercontent.com/-C41FRhLmuzo/AAAAAAAAAAI/AAAAAAAAGAA/iQXx9RUkid0/s64/photo.jpg",
      "userId": "04503141710385573309"
     },
     "user_tz": -120
    },
    "id": "D5HkLKn7UagW",
    "outputId": "043b124b-7f80-41f4-a850-02f10671c18c"
   },
   "outputs": [
    {
     "data": {
      "text/plain": [
       "torch.Size([10000, 784])"
      ]
     },
     "execution_count": 11,
     "metadata": {},
     "output_type": "execute_result"
    }
   ],
   "source": [
    "x_valid.shape"
   ]
  },
  {
   "cell_type": "code",
   "execution_count": 12,
   "metadata": {
    "colab": {
     "base_uri": "https://localhost:8080/",
     "height": 34
    },
    "colab_type": "code",
    "executionInfo": {
     "elapsed": 434,
     "status": "ok",
     "timestamp": 1564551162515,
     "user": {
      "displayName": "Stanislav Příhoda",
      "photoUrl": "https://lh4.googleusercontent.com/-C41FRhLmuzo/AAAAAAAAAAI/AAAAAAAAGAA/iQXx9RUkid0/s64/photo.jpg",
      "userId": "04503141710385573309"
     },
     "user_tz": -120
    },
    "id": "RHMxwndUVaN6",
    "outputId": "29ef9bdf-adae-4769-8e94-5e019c523093"
   },
   "outputs": [
    {
     "data": {
      "text/plain": [
       "torch.Size([784])"
      ]
     },
     "execution_count": 12,
     "metadata": {},
     "output_type": "execute_result"
    }
   ],
   "source": [
    "x_train[0].shape"
   ]
  },
  {
   "cell_type": "code",
   "execution_count": 13,
   "metadata": {
    "colab": {
     "base_uri": "https://localhost:8080/",
     "height": 286
    },
    "colab_type": "code",
    "executionInfo": {
     "elapsed": 810,
     "status": "ok",
     "timestamp": 1564551163042,
     "user": {
      "displayName": "Stanislav Příhoda",
      "photoUrl": "https://lh4.googleusercontent.com/-C41FRhLmuzo/AAAAAAAAAAI/AAAAAAAAGAA/iQXx9RUkid0/s64/photo.jpg",
      "userId": "04503141710385573309"
     },
     "user_tz": -120
    },
    "id": "biFGJ6JeUc8n",
    "outputId": "aa903f19-5f6e-461a-8897-0a41613a08a4"
   },
   "outputs": [
    {
     "data": {
      "text/plain": [
       "<matplotlib.image.AxesImage at 0x13e4bb208>"
      ]
     },
     "execution_count": 13,
     "metadata": {},
     "output_type": "execute_result"
    },
    {
     "data": {
      "image/png": "[encoded data removed]",
      "text/plain": [
       "<Figure size 432x288 with 1 Axes>"
      ]
     },
     "metadata": {
      "needs_background": "light"
     },
     "output_type": "display_data"
    }
   ],
   "source": [
    "plt.imshow(img.view((28,28)))"
   ]
  },
  {
   "cell_type": "markdown",
   "metadata": {
    "colab_type": "text",
    "id": "xf77UY6TVF1P"
   },
   "source": [
    "**Model prep**"
   ]
  },
  {
   "cell_type": "code",
   "execution_count": 14,
   "metadata": {
    "colab": {},
    "colab_type": "code",
    "id": "LPCTstcuVKMf"
   },
   "outputs": [],
   "source": [
    "weights = torch.randn(784,10)"
   ]
  },
  {
   "cell_type": "code",
   "execution_count": 15,
   "metadata": {
    "colab": {
     "base_uri": "https://localhost:8080/",
     "height": 34
    },
    "colab_type": "code",
    "executionInfo": {
     "elapsed": 480,
     "status": "ok",
     "timestamp": 1564551164780,
     "user": {
      "displayName": "Stanislav Příhoda",
      "photoUrl": "https://lh4.googleusercontent.com/-C41FRhLmuzo/AAAAAAAAAAI/AAAAAAAAGAA/iQXx9RUkid0/s64/photo.jpg",
      "userId": "04503141710385573309"
     },
     "user_tz": -120
    },
    "id": "jhPsAQWAWM4Y",
    "outputId": "5bf29af1-ea73-41ea-f206-298dcde0f243"
   },
   "outputs": [
    {
     "data": {
      "text/plain": [
       "torch.Size([784, 10])"
      ]
     },
     "execution_count": 15,
     "metadata": {},
     "output_type": "execute_result"
    }
   ],
   "source": [
    "weights.shape"
   ]
  },
  {
   "cell_type": "code",
   "execution_count": 16,
   "metadata": {
    "colab": {},
    "colab_type": "code",
    "id": "tvYkHkImWO0b"
   },
   "outputs": [],
   "source": [
    "bias = torch.zeros(10)"
   ]
  },
  {
   "cell_type": "code",
   "execution_count": 17,
   "metadata": {
    "colab": {},
    "colab_type": "code",
    "id": "EEiFi9WOWyDj"
   },
   "outputs": [],
   "source": [
    "def matmul(a,b):\n",
    "  ar,ac = a.shape\n",
    "  br,bc = b.shape\n",
    "  assert ac==br\n",
    "  c = torch.zeros(ar,bc)\n",
    "  for i in range(ar):\n",
    "    for j in range(bc):\n",
    "      for k in range(ac):\n",
    "        c[i,j]+=a[i,k]*b[k,j]\n",
    "  return c"
   ]
  },
  {
   "cell_type": "code",
   "execution_count": 18,
   "metadata": {
    "colab": {},
    "colab_type": "code",
    "id": "1yi7ZA1Ycwtz"
   },
   "outputs": [],
   "source": [
    "m1 = x_valid[:5]\n",
    "m2 = weights"
   ]
  },
  {
   "cell_type": "code",
   "execution_count": 19,
   "metadata": {
    "colab": {
     "base_uri": "https://localhost:8080/",
     "height": 34
    },
    "colab_type": "code",
    "executionInfo": {
     "elapsed": 673,
     "status": "ok",
     "timestamp": 1564551167071,
     "user": {
      "displayName": "Stanislav Příhoda",
      "photoUrl": "https://lh4.googleusercontent.com/-C41FRhLmuzo/AAAAAAAAAAI/AAAAAAAAGAA/iQXx9RUkid0/s64/photo.jpg",
      "userId": "04503141710385573309"
     },
     "user_tz": -120
    },
    "id": "gzW2BrPnfVg6",
    "outputId": "00ebac13-ea1a-47f4-99fc-83fd44f4a291"
   },
   "outputs": [
    {
     "data": {
      "text/plain": [
       "(torch.Size([5, 784]), torch.Size([784, 10]))"
      ]
     },
     "execution_count": 19,
     "metadata": {},
     "output_type": "execute_result"
    }
   ],
   "source": [
    "m1.shape,m2.shape"
   ]
  },
  {
   "cell_type": "code",
   "execution_count": 20,
   "metadata": {
    "colab": {
     "base_uri": "https://localhost:8080/",
     "height": 34
    },
    "colab_type": "code",
    "executionInfo": {
     "elapsed": 25311,
     "status": "ok",
     "timestamp": 1564551191891,
     "user": {
      "displayName": "Stanislav Příhoda",
      "photoUrl": "https://lh4.googleusercontent.com/-C41FRhLmuzo/AAAAAAAAAAI/AAAAAAAAGAA/iQXx9RUkid0/s64/photo.jpg",
      "userId": "04503141710385573309"
     },
     "user_tz": -120
    },
    "id": "jRajd-NxfXVj",
    "outputId": "f8db0382-289d-4de6-d2f5-5f2200a985e3"
   },
   "outputs": [
    {
     "name": "stdout",
     "output_type": "stream",
     "text": [
      "864 ms ± 23.6 ms per loop (mean ± std. dev. of 7 runs, 10 loops each)\n"
     ]
    }
   ],
   "source": [
    "%timeit -n 10 t1 = matmul(m1,m2)"
   ]
  },
  {
   "cell_type": "code",
   "execution_count": 21,
   "metadata": {},
   "outputs": [],
   "source": [
    "t1 = matmul(m1,m2)"
   ]
  },
  {
   "cell_type": "markdown",
   "metadata": {
    "colab_type": "text",
    "id": "HQelZqediG10"
   },
   "source": [
    "**Elementwise ops**"
   ]
  },
  {
   "cell_type": "code",
   "execution_count": 22,
   "metadata": {
    "colab": {
     "base_uri": "https://localhost:8080/",
     "height": 34
    },
    "colab_type": "code",
    "executionInfo": {
     "elapsed": 522,
     "status": "ok",
     "timestamp": 1564551108882,
     "user": {
      "displayName": "Stanislav Příhoda",
      "photoUrl": "https://lh4.googleusercontent.com/-C41FRhLmuzo/AAAAAAAAAAI/AAAAAAAAGAA/iQXx9RUkid0/s64/photo.jpg",
      "userId": "04503141710385573309"
     },
     "user_tz": -120
    },
    "id": "P_SN13rWiIuE",
    "outputId": "be5c5626-13b3-4582-e336-17a3cc275f65"
   },
   "outputs": [
    {
     "data": {
      "text/plain": [
       "tensor([21., 11.,  9.])"
      ]
     },
     "execution_count": 22,
     "metadata": {},
     "output_type": "execute_result"
    }
   ],
   "source": [
    "a=tensor([10.,8,4])\n",
    "b=tensor([11.,3,5])\n",
    "a+b"
   ]
  },
  {
   "cell_type": "code",
   "execution_count": 23,
   "metadata": {
    "colab": {
     "base_uri": "https://localhost:8080/",
     "height": 34
    },
    "colab_type": "code",
    "executionInfo": {
     "elapsed": 655,
     "status": "ok",
     "timestamp": 1564469563356,
     "user": {
      "displayName": "Stanislav Příhoda",
      "photoUrl": "https://lh4.googleusercontent.com/-C41FRhLmuzo/AAAAAAAAAAI/AAAAAAAAGAA/iQXx9RUkid0/s64/photo.jpg",
      "userId": "04503141710385573309"
     },
     "user_tz": -120
    },
    "id": "70k_LYrZkBOf",
    "outputId": "0a357a2d-ab58-4dde-91c8-dcea492d582e"
   },
   "outputs": [
    {
     "data": {
      "text/plain": [
       "tensor(0.6667)"
      ]
     },
     "execution_count": 23,
     "metadata": {},
     "output_type": "execute_result"
    }
   ],
   "source": [
    "(a<b).float().mean()"
   ]
  },
  {
   "cell_type": "code",
   "execution_count": 24,
   "metadata": {
    "colab": {
     "base_uri": "https://localhost:8080/",
     "height": 68
    },
    "colab_type": "code",
    "executionInfo": {
     "elapsed": 744,
     "status": "ok",
     "timestamp": 1564469564021,
     "user": {
      "displayName": "Stanislav Příhoda",
      "photoUrl": "https://lh4.googleusercontent.com/-C41FRhLmuzo/AAAAAAAAAAI/AAAAAAAAGAA/iQXx9RUkid0/s64/photo.jpg",
      "userId": "04503141710385573309"
     },
     "user_tz": -120
    },
    "id": "VEoGK32KkPsM",
    "outputId": "d7113194-05cd-4d7f-8001-dc0c71c77f79"
   },
   "outputs": [
    {
     "data": {
      "text/plain": [
       "tensor([[19., 30., 12.],\n",
       "        [ 3.,  4.,  1.],\n",
       "        [32.,  3.,  1.]])"
      ]
     },
     "execution_count": 24,
     "metadata": {},
     "output_type": "execute_result"
    }
   ],
   "source": [
    "m = tensor([[19.,30,12],[3,4,1],[32,3,1]]);m"
   ]
  },
  {
   "cell_type": "code",
   "execution_count": 25,
   "metadata": {
    "colab": {
     "base_uri": "https://localhost:8080/",
     "height": 34
    },
    "colab_type": "code",
    "executionInfo": {
     "elapsed": 644,
     "status": "ok",
     "timestamp": 1564469564708,
     "user": {
      "displayName": "Stanislav Příhoda",
      "photoUrl": "https://lh4.googleusercontent.com/-C41FRhLmuzo/AAAAAAAAAAI/AAAAAAAAGAA/iQXx9RUkid0/s64/photo.jpg",
      "userId": "04503141710385573309"
     },
     "user_tz": -120
    },
    "id": "TNrxLAuaklT3",
    "outputId": "051639d7-2ab6-4c63-975e-99958e400256"
   },
   "outputs": [
    {
     "data": {
      "text/plain": [
       "tensor(49.6488)"
      ]
     },
     "execution_count": 25,
     "metadata": {},
     "output_type": "execute_result"
    }
   ],
   "source": [
    "(m*m).sum().sqrt()"
   ]
  },
  {
   "cell_type": "code",
   "execution_count": 26,
   "metadata": {
    "colab": {},
    "colab_type": "code",
    "id": "oTBB7INdlIFi"
   },
   "outputs": [],
   "source": [
    "def matmul(a,b):\n",
    "  ar,ac = a.shape\n",
    "  br,bc = b.shape\n",
    "  assert ac==br\n",
    "  c = torch.zeros(ar,bc)\n",
    "  for i in range(ar):\n",
    "    for j in range(bc):\n",
    "      c[i,j]=(a[i,:]*b[:,j]).sum()\n",
    "  return c"
   ]
  },
  {
   "cell_type": "code",
   "execution_count": 27,
   "metadata": {
    "colab": {
     "base_uri": "https://localhost:8080/",
     "height": 34
    },
    "colab_type": "code",
    "executionInfo": {
     "elapsed": 629,
     "status": "ok",
     "timestamp": 1564469567002,
     "user": {
      "displayName": "Stanislav Příhoda",
      "photoUrl": "https://lh4.googleusercontent.com/-C41FRhLmuzo/AAAAAAAAAAI/AAAAAAAAGAA/iQXx9RUkid0/s64/photo.jpg",
      "userId": "04503141710385573309"
     },
     "user_tz": -120
    },
    "id": "BMim2eWjnYJY",
    "outputId": "660e1193-d983-441e-e23a-3e7666770385"
   },
   "outputs": [
    {
     "name": "stdout",
     "output_type": "stream",
     "text": [
      "1.52 ms ± 177 µs per loop (mean ± std. dev. of 7 runs, 10 loops each)\n"
     ]
    }
   ],
   "source": [
    "%timeit -n 10 _ = matmul(m1,m2)"
   ]
  },
  {
   "cell_type": "code",
   "execution_count": 28,
   "metadata": {
    "colab": {
     "base_uri": "https://localhost:8080/",
     "height": 34
    },
    "colab_type": "code",
    "executionInfo": {
     "elapsed": 548,
     "status": "ok",
     "timestamp": 1564469569180,
     "user": {
      "displayName": "Stanislav Příhoda",
      "photoUrl": "https://lh4.googleusercontent.com/-C41FRhLmuzo/AAAAAAAAAAI/AAAAAAAAGAA/iQXx9RUkid0/s64/photo.jpg",
      "userId": "04503141710385573309"
     },
     "user_tz": -120
    },
    "id": "MnUOZv5Tnhdx",
    "outputId": "3114ab75-caa8-4931-a0d9-cb7f84be0c91"
   },
   "outputs": [
    {
     "data": {
      "text/plain": [
       "612.1212121212121"
      ]
     },
     "execution_count": 28,
     "metadata": {},
     "output_type": "execute_result"
    }
   ],
   "source": [
    "808/1.32"
   ]
  },
  {
   "cell_type": "code",
   "execution_count": 29,
   "metadata": {
    "colab": {},
    "colab_type": "code",
    "id": "cXDAyFmHoaEx"
   },
   "outputs": [],
   "source": [
    "#export\n",
    "def near(a,b): return torch.allclose(a,b,rtol=1e-3,atol=1e-5)\n",
    "def test_near(a,b): test(a,b,near)"
   ]
  },
  {
   "cell_type": "code",
   "execution_count": 30,
   "metadata": {
    "colab": {},
    "colab_type": "code",
    "id": "cF8Itvk8pOdg"
   },
   "outputs": [],
   "source": [
    "test_near(t1,matmul(m1,m2))"
   ]
  },
  {
   "cell_type": "markdown",
   "metadata": {
    "colab_type": "text",
    "id": "HdK-PAh6rZai"
   },
   "source": [
    "**Broadcasting**"
   ]
  },
  {
   "cell_type": "code",
   "execution_count": 31,
   "metadata": {
    "colab": {
     "base_uri": "https://localhost:8080/",
     "height": 34
    },
    "colab_type": "code",
    "executionInfo": {
     "elapsed": 539,
     "status": "ok",
     "timestamp": 1564469983756,
     "user": {
      "displayName": "Stanislav Příhoda",
      "photoUrl": "https://lh4.googleusercontent.com/-C41FRhLmuzo/AAAAAAAAAAI/AAAAAAAAGAA/iQXx9RUkid0/s64/photo.jpg",
      "userId": "04503141710385573309"
     },
     "user_tz": -120
    },
    "id": "gSddF3J1pT_5",
    "outputId": "875988ec-4afd-432b-d910-fcbf1c194a99"
   },
   "outputs": [
    {
     "data": {
      "text/plain": [
       "tensor([10.,  8.,  4.])"
      ]
     },
     "execution_count": 31,
     "metadata": {},
     "output_type": "execute_result"
    }
   ],
   "source": [
    "a"
   ]
  },
  {
   "cell_type": "code",
   "execution_count": 32,
   "metadata": {
    "colab": {
     "base_uri": "https://localhost:8080/",
     "height": 34
    },
    "colab_type": "code",
    "executionInfo": {
     "elapsed": 627,
     "status": "ok",
     "timestamp": 1564470001443,
     "user": {
      "displayName": "Stanislav Příhoda",
      "photoUrl": "https://lh4.googleusercontent.com/-C41FRhLmuzo/AAAAAAAAAAI/AAAAAAAAGAA/iQXx9RUkid0/s64/photo.jpg",
      "userId": "04503141710385573309"
     },
     "user_tz": -120
    },
    "id": "Kdty24M5rXez",
    "outputId": "3d5f024b-a633-479a-f9c8-01df8ec06209"
   },
   "outputs": [
    {
     "data": {
      "text/plain": [
       "tensor([1, 1, 1], dtype=torch.uint8)"
      ]
     },
     "execution_count": 32,
     "metadata": {},
     "output_type": "execute_result"
    }
   ],
   "source": [
    "a>0"
   ]
  },
  {
   "cell_type": "code",
   "execution_count": 33,
   "metadata": {
    "colab": {
     "base_uri": "https://localhost:8080/",
     "height": 34
    },
    "colab_type": "code",
    "executionInfo": {
     "elapsed": 541,
     "status": "ok",
     "timestamp": 1564550007470,
     "user": {
      "displayName": "Stanislav Příhoda",
      "photoUrl": "https://lh4.googleusercontent.com/-C41FRhLmuzo/AAAAAAAAAAI/AAAAAAAAGAA/iQXx9RUkid0/s64/photo.jpg",
      "userId": "04503141710385573309"
     },
     "user_tz": -120
    },
    "id": "tJhsdaXJrbx1",
    "outputId": "035b64d1-c920-4438-dd2b-5766b9b803dd"
   },
   "outputs": [
    {
     "data": {
      "text/plain": [
       "tensor([10., 20., 30.])"
      ]
     },
     "execution_count": 33,
     "metadata": {},
     "output_type": "execute_result"
    }
   ],
   "source": [
    "c=tensor([10.,20,30]);c"
   ]
  },
  {
   "cell_type": "code",
   "execution_count": 34,
   "metadata": {
    "colab": {
     "base_uri": "https://localhost:8080/",
     "height": 34
    },
    "colab_type": "code",
    "executionInfo": {
     "elapsed": 577,
     "status": "ok",
     "timestamp": 1564470171127,
     "user": {
      "displayName": "Stanislav Příhoda",
      "photoUrl": "https://lh4.googleusercontent.com/-C41FRhLmuzo/AAAAAAAAAAI/AAAAAAAAGAA/iQXx9RUkid0/s64/photo.jpg",
      "userId": "04503141710385573309"
     },
     "user_tz": -120
    },
    "id": "Ikr4CCkVr_-d",
    "outputId": "7dfd1b2a-1e1a-4e35-f81b-980560b3a2ca"
   },
   "outputs": [
    {
     "data": {
      "text/plain": [
       "(torch.Size([3, 3]), torch.Size([3]))"
      ]
     },
     "execution_count": 34,
     "metadata": {},
     "output_type": "execute_result"
    }
   ],
   "source": [
    "m.shape,c.shape"
   ]
  },
  {
   "cell_type": "code",
   "execution_count": 35,
   "metadata": {
    "colab": {
     "base_uri": "https://localhost:8080/",
     "height": 68
    },
    "colab_type": "code",
    "executionInfo": {
     "elapsed": 592,
     "status": "ok",
     "timestamp": 1564470179202,
     "user": {
      "displayName": "Stanislav Příhoda",
      "photoUrl": "https://lh4.googleusercontent.com/-C41FRhLmuzo/AAAAAAAAAAI/AAAAAAAAGAA/iQXx9RUkid0/s64/photo.jpg",
      "userId": "04503141710385573309"
     },
     "user_tz": -120
    },
    "id": "wba12VMnsFN_",
    "outputId": "43c34ff0-94a9-4ab8-e63f-e41e5a0d31f3"
   },
   "outputs": [
    {
     "data": {
      "text/plain": [
       "tensor([[29., 50., 42.],\n",
       "        [13., 24., 31.],\n",
       "        [42., 23., 31.]])"
      ]
     },
     "execution_count": 35,
     "metadata": {},
     "output_type": "execute_result"
    }
   ],
   "source": [
    "m+c"
   ]
  },
  {
   "cell_type": "code",
   "execution_count": 36,
   "metadata": {
    "colab": {
     "base_uri": "https://localhost:8080/",
     "height": 68
    },
    "colab_type": "code",
    "executionInfo": {
     "elapsed": 685,
     "status": "ok",
     "timestamp": 1564470422866,
     "user": {
      "displayName": "Stanislav Příhoda",
      "photoUrl": "https://lh4.googleusercontent.com/-C41FRhLmuzo/AAAAAAAAAAI/AAAAAAAAGAA/iQXx9RUkid0/s64/photo.jpg",
      "userId": "04503141710385573309"
     },
     "user_tz": -120
    },
    "id": "UUWvL_-usHL9",
    "outputId": "77f3d55c-6124-4963-d802-777e8c2c8888"
   },
   "outputs": [
    {
     "data": {
      "text/plain": [
       "tensor([[10., 20., 30.],\n",
       "        [10., 20., 30.],\n",
       "        [10., 20., 30.]])"
      ]
     },
     "execution_count": 36,
     "metadata": {},
     "output_type": "execute_result"
    }
   ],
   "source": [
    "t=c.expand_as(m);t"
   ]
  },
  {
   "cell_type": "code",
   "execution_count": 37,
   "metadata": {
    "colab": {
     "base_uri": "https://localhost:8080/",
     "height": 85
    },
    "colab_type": "code",
    "executionInfo": {
     "elapsed": 819,
     "status": "ok",
     "timestamp": 1564470424284,
     "user": {
      "displayName": "Stanislav Příhoda",
      "photoUrl": "https://lh4.googleusercontent.com/-C41FRhLmuzo/AAAAAAAAAAI/AAAAAAAAGAA/iQXx9RUkid0/s64/photo.jpg",
      "userId": "04503141710385573309"
     },
     "user_tz": -120
    },
    "id": "PdOzvkfFsutE",
    "outputId": "91545469-0d9c-4661-f97d-09c67cf7c844"
   },
   "outputs": [
    {
     "data": {
      "text/plain": [
       " 10.0\n",
       " 20.0\n",
       " 30.0\n",
       "[torch.FloatStorage of size 3]"
      ]
     },
     "execution_count": 37,
     "metadata": {},
     "output_type": "execute_result"
    }
   ],
   "source": [
    "t.storage()"
   ]
  },
  {
   "cell_type": "code",
   "execution_count": 38,
   "metadata": {
    "colab": {
     "base_uri": "https://localhost:8080/",
     "height": 34
    },
    "colab_type": "code",
    "executionInfo": {
     "elapsed": 671,
     "status": "ok",
     "timestamp": 1564470535160,
     "user": {
      "displayName": "Stanislav Příhoda",
      "photoUrl": "https://lh4.googleusercontent.com/-C41FRhLmuzo/AAAAAAAAAAI/AAAAAAAAGAA/iQXx9RUkid0/s64/photo.jpg",
      "userId": "04503141710385573309"
     },
     "user_tz": -120
    },
    "id": "8Mh3NBv0tZpZ",
    "outputId": "aec1ca29-cc63-4e18-baaa-fe3b8cbea5d0"
   },
   "outputs": [
    {
     "data": {
      "text/plain": [
       "((0, 1), torch.Size([3, 3]))"
      ]
     },
     "execution_count": 38,
     "metadata": {},
     "output_type": "execute_result"
    }
   ],
   "source": [
    "t.stride(),t.shape"
   ]
  },
  {
   "cell_type": "code",
   "execution_count": 39,
   "metadata": {
    "colab": {
     "base_uri": "https://localhost:8080/",
     "height": 34
    },
    "colab_type": "code",
    "executionInfo": {
     "elapsed": 625,
     "status": "ok",
     "timestamp": 1564470714488,
     "user": {
      "displayName": "Stanislav Příhoda",
      "photoUrl": "https://lh4.googleusercontent.com/-C41FRhLmuzo/AAAAAAAAAAI/AAAAAAAAGAA/iQXx9RUkid0/s64/photo.jpg",
      "userId": "04503141710385573309"
     },
     "user_tz": -120
    },
    "id": "uI-FZEnltASn",
    "outputId": "43e4f14a-9cc5-4b1d-e929-0b5570da7762"
   },
   "outputs": [
    {
     "data": {
      "text/plain": [
       "tensor([10., 20., 30.])"
      ]
     },
     "execution_count": 39,
     "metadata": {},
     "output_type": "execute_result"
    }
   ],
   "source": [
    "c"
   ]
  },
  {
   "cell_type": "code",
   "execution_count": 40,
   "metadata": {
    "colab": {
     "base_uri": "https://localhost:8080/",
     "height": 68
    },
    "colab_type": "code",
    "executionInfo": {
     "elapsed": 941,
     "status": "ok",
     "timestamp": 1564470721070,
     "user": {
      "displayName": "Stanislav Příhoda",
      "photoUrl": "https://lh4.googleusercontent.com/-C41FRhLmuzo/AAAAAAAAAAI/AAAAAAAAGAA/iQXx9RUkid0/s64/photo.jpg",
      "userId": "04503141710385573309"
     },
     "user_tz": -120
    },
    "id": "9EpjWjW_uJ3L",
    "outputId": "3d8e5d88-fd18-4a0a-f552-302ea69a36d6"
   },
   "outputs": [
    {
     "data": {
      "text/plain": [
       "tensor([[10.],\n",
       "        [20.],\n",
       "        [30.]])"
      ]
     },
     "execution_count": 40,
     "metadata": {},
     "output_type": "execute_result"
    }
   ],
   "source": [
    "c.unsqueeze(1)"
   ]
  },
  {
   "cell_type": "code",
   "execution_count": 41,
   "metadata": {
    "colab": {
     "base_uri": "https://localhost:8080/",
     "height": 34
    },
    "colab_type": "code",
    "executionInfo": {
     "elapsed": 1911,
     "status": "ok",
     "timestamp": 1564470871245,
     "user": {
      "displayName": "Stanislav Příhoda",
      "photoUrl": "https://lh4.googleusercontent.com/-C41FRhLmuzo/AAAAAAAAAAI/AAAAAAAAGAA/iQXx9RUkid0/s64/photo.jpg",
      "userId": "04503141710385573309"
     },
     "user_tz": -120
    },
    "id": "vJjzY3YruLZI",
    "outputId": "d438f9bd-c217-47c3-eb74-2728c0770ce1"
   },
   "outputs": [
    {
     "data": {
      "text/plain": [
       "(torch.Size([3]), torch.Size([1, 3]), torch.Size([3, 1]))"
      ]
     },
     "execution_count": 41,
     "metadata": {},
     "output_type": "execute_result"
    }
   ],
   "source": [
    "c.shape,c.unsqueeze(0).shape,c.unsqueeze(1).shape"
   ]
  },
  {
   "cell_type": "code",
   "execution_count": 42,
   "metadata": {
    "colab": {
     "base_uri": "https://localhost:8080/",
     "height": 34
    },
    "colab_type": "code",
    "executionInfo": {
     "elapsed": 568,
     "status": "ok",
     "timestamp": 1564471015617,
     "user": {
      "displayName": "Stanislav Příhoda",
      "photoUrl": "https://lh4.googleusercontent.com/-C41FRhLmuzo/AAAAAAAAAAI/AAAAAAAAGAA/iQXx9RUkid0/s64/photo.jpg",
      "userId": "04503141710385573309"
     },
     "user_tz": -120
    },
    "id": "6rJfIc26uO-S",
    "outputId": "49b8543a-7179-4997-aa93-fe1c988b68b7"
   },
   "outputs": [
    {
     "data": {
      "text/plain": [
       "(torch.Size([3]), torch.Size([1, 3]), torch.Size([3, 1]))"
      ]
     },
     "execution_count": 42,
     "metadata": {},
     "output_type": "execute_result"
    }
   ],
   "source": [
    "c.shape,c[None,:].shape,c[:,None].shape"
   ]
  },
  {
   "cell_type": "code",
   "execution_count": 43,
   "metadata": {
    "colab": {
     "base_uri": "https://localhost:8080/",
     "height": 34
    },
    "colab_type": "code",
    "executionInfo": {
     "elapsed": 575,
     "status": "ok",
     "timestamp": 1564471169313,
     "user": {
      "displayName": "Stanislav Příhoda",
      "photoUrl": "https://lh4.googleusercontent.com/-C41FRhLmuzo/AAAAAAAAAAI/AAAAAAAAGAA/iQXx9RUkid0/s64/photo.jpg",
      "userId": "04503141710385573309"
     },
     "user_tz": -120
    },
    "id": "t5BP9wXqvP1B",
    "outputId": "79245434-105c-4ffb-c4ea-6f1ece508704"
   },
   "outputs": [
    {
     "data": {
      "text/plain": [
       "tensor([10., 20., 30.])"
      ]
     },
     "execution_count": 43,
     "metadata": {},
     "output_type": "execute_result"
    }
   ],
   "source": [
    "c"
   ]
  },
  {
   "cell_type": "code",
   "execution_count": 44,
   "metadata": {
    "colab": {
     "base_uri": "https://localhost:8080/",
     "height": 68
    },
    "colab_type": "code",
    "executionInfo": {
     "elapsed": 808,
     "status": "ok",
     "timestamp": 1564471215361,
     "user": {
      "displayName": "Stanislav Příhoda",
      "photoUrl": "https://lh4.googleusercontent.com/-C41FRhLmuzo/AAAAAAAAAAI/AAAAAAAAGAA/iQXx9RUkid0/s64/photo.jpg",
      "userId": "04503141710385573309"
     },
     "user_tz": -120
    },
    "id": "AxI_O9Q-wChT",
    "outputId": "d934a04a-eea7-4f03-f2bc-65da823a14c0"
   },
   "outputs": [
    {
     "data": {
      "text/plain": [
       "tensor([[10., 20., 30.],\n",
       "        [10., 20., 30.],\n",
       "        [10., 20., 30.]])"
      ]
     },
     "execution_count": 44,
     "metadata": {},
     "output_type": "execute_result"
    }
   ],
   "source": [
    "c.expand_as(m)"
   ]
  },
  {
   "cell_type": "code",
   "execution_count": 45,
   "metadata": {
    "colab": {
     "base_uri": "https://localhost:8080/",
     "height": 34
    },
    "colab_type": "code",
    "executionInfo": {
     "elapsed": 553,
     "status": "ok",
     "timestamp": 1564471179530,
     "user": {
      "displayName": "Stanislav Příhoda",
      "photoUrl": "https://lh4.googleusercontent.com/-C41FRhLmuzo/AAAAAAAAAAI/AAAAAAAAGAA/iQXx9RUkid0/s64/photo.jpg",
      "userId": "04503141710385573309"
     },
     "user_tz": -120
    },
    "id": "RqxbdvEMv46m",
    "outputId": "fa3de000-f523-4b45-b826-8b1a2f0e45c1"
   },
   "outputs": [
    {
     "data": {
      "text/plain": [
       "tensor([[10.],\n",
       "        [20.],\n",
       "        [30.]])"
      ]
     },
     "execution_count": 45,
     "metadata": {},
     "output_type": "execute_result"
    }
   ],
   "source": [
    "c[:,None]"
   ]
  },
  {
   "cell_type": "code",
   "execution_count": 46,
   "metadata": {
    "colab": {
     "base_uri": "https://localhost:8080/",
     "height": 68
    },
    "colab_type": "code",
    "executionInfo": {
     "elapsed": 683,
     "status": "ok",
     "timestamp": 1564471244223,
     "user": {
      "displayName": "Stanislav Příhoda",
      "photoUrl": "https://lh4.googleusercontent.com/-C41FRhLmuzo/AAAAAAAAAAI/AAAAAAAAGAA/iQXx9RUkid0/s64/photo.jpg",
      "userId": "04503141710385573309"
     },
     "user_tz": -120
    },
    "id": "a0XSFN61v7ak",
    "outputId": "6e0de20a-2a84-4a41-e921-4f0923e8358f"
   },
   "outputs": [
    {
     "data": {
      "text/plain": [
       "tensor([[10., 10., 10.],\n",
       "        [20., 20., 20.],\n",
       "        [30., 30., 30.]])"
      ]
     },
     "execution_count": 46,
     "metadata": {},
     "output_type": "execute_result"
    }
   ],
   "source": [
    "c[:,None].expand_as(m)"
   ]
  },
  {
   "cell_type": "code",
   "execution_count": 47,
   "metadata": {
    "colab": {
     "base_uri": "https://localhost:8080/",
     "height": 68
    },
    "colab_type": "code",
    "executionInfo": {
     "elapsed": 587,
     "status": "ok",
     "timestamp": 1564471362878,
     "user": {
      "displayName": "Stanislav Příhoda",
      "photoUrl": "https://lh4.googleusercontent.com/-C41FRhLmuzo/AAAAAAAAAAI/AAAAAAAAGAA/iQXx9RUkid0/s64/photo.jpg",
      "userId": "04503141710385573309"
     },
     "user_tz": -120
    },
    "id": "JD1mV-nZv_T9",
    "outputId": "f310e25d-549c-4e4e-adc2-a7b2668521eb"
   },
   "outputs": [
    {
     "data": {
      "text/plain": [
       "tensor([[29., 40., 22.],\n",
       "        [23., 24., 21.],\n",
       "        [62., 33., 31.]])"
      ]
     },
     "execution_count": 47,
     "metadata": {},
     "output_type": "execute_result"
    }
   ],
   "source": [
    "m+c[:,None].expand_as(m)"
   ]
  },
  {
   "cell_type": "code",
   "execution_count": 48,
   "metadata": {
    "colab": {
     "base_uri": "https://localhost:8080/",
     "height": 68
    },
    "colab_type": "code",
    "executionInfo": {
     "elapsed": 993,
     "status": "ok",
     "timestamp": 1564471376509,
     "user": {
      "displayName": "Stanislav Příhoda",
      "photoUrl": "https://lh4.googleusercontent.com/-C41FRhLmuzo/AAAAAAAAAAI/AAAAAAAAGAA/iQXx9RUkid0/s64/photo.jpg",
      "userId": "04503141710385573309"
     },
     "user_tz": -120
    },
    "id": "j1_8fTwWwjnN",
    "outputId": "83d6a893-fca0-4967-f320-a28026bfad5d"
   },
   "outputs": [
    {
     "data": {
      "text/plain": [
       "tensor([[19., 30., 12.],\n",
       "        [ 3.,  4.,  1.],\n",
       "        [32.,  3.,  1.]])"
      ]
     },
     "execution_count": 48,
     "metadata": {},
     "output_type": "execute_result"
    }
   ],
   "source": [
    "m"
   ]
  },
  {
   "cell_type": "code",
   "execution_count": 49,
   "metadata": {
    "colab": {},
    "colab_type": "code",
    "id": "w50BaUyCwrZd"
   },
   "outputs": [],
   "source": [
    "def matmul(a,b):\n",
    "  ar,ac = a.shape\n",
    "  br,bc = b.shape\n",
    "  assert ac==br\n",
    "  c = torch.zeros(ar,bc)\n",
    "  for i in range(ar):\n",
    "    # c[i,j]=(a[i,:]       *b[:,j]).sum()\n",
    "    c[i] = (a[i].unsqueeze(-1)*b).sum(dim=0)\n",
    "  return c"
   ]
  },
  {
   "cell_type": "code",
   "execution_count": 50,
   "metadata": {
    "colab": {
     "base_uri": "https://localhost:8080/",
     "height": 34
    },
    "colab_type": "code",
    "executionInfo": {
     "elapsed": 614,
     "status": "ok",
     "timestamp": 1564471739980,
     "user": {
      "displayName": "Stanislav Příhoda",
      "photoUrl": "https://lh4.googleusercontent.com/-C41FRhLmuzo/AAAAAAAAAAI/AAAAAAAAGAA/iQXx9RUkid0/s64/photo.jpg",
      "userId": "04503141710385573309"
     },
     "user_tz": -120
    },
    "id": "22eVEjL8x07g",
    "outputId": "0424c1c9-7ed9-4053-fb3e-a595f1468a37"
   },
   "outputs": [
    {
     "name": "stdout",
     "output_type": "stream",
     "text": [
      "327 µs ± 53.3 µs per loop (mean ± std. dev. of 7 runs, 10 loops each)\n"
     ]
    }
   ],
   "source": [
    "%timeit -n 10 _ = matmul(m1,m2)"
   ]
  },
  {
   "cell_type": "code",
   "execution_count": 51,
   "metadata": {
    "colab": {
     "base_uri": "https://localhost:8080/",
     "height": 34
    },
    "colab_type": "code",
    "executionInfo": {
     "elapsed": 605,
     "status": "ok",
     "timestamp": 1564471848246,
     "user": {
      "displayName": "Stanislav Příhoda",
      "photoUrl": "https://lh4.googleusercontent.com/-C41FRhLmuzo/AAAAAAAAAAI/AAAAAAAAGAA/iQXx9RUkid0/s64/photo.jpg",
      "userId": "04503141710385573309"
     },
     "user_tz": -120
    },
    "id": "OEO-4D9Vx-wZ",
    "outputId": "b52214bd-8115-4495-d734-c16c5a9b85e3"
   },
   "outputs": [
    {
     "data": {
      "text/plain": [
       "2301.994301994302"
      ]
     },
     "execution_count": 51,
     "metadata": {},
     "output_type": "execute_result"
    }
   ],
   "source": [
    "808000/351"
   ]
  },
  {
   "cell_type": "markdown",
   "metadata": {
    "colab_type": "text",
    "id": "CZyTGXAccV_E"
   },
   "source": [
    "**Broadcasting rules**"
   ]
  },
  {
   "cell_type": "code",
   "execution_count": 52,
   "metadata": {
    "colab": {
     "base_uri": "https://localhost:8080/",
     "height": 34
    },
    "colab_type": "code",
    "executionInfo": {
     "elapsed": 521,
     "status": "ok",
     "timestamp": 1564550065633,
     "user": {
      "displayName": "Stanislav Příhoda",
      "photoUrl": "https://lh4.googleusercontent.com/-C41FRhLmuzo/AAAAAAAAAAI/AAAAAAAAGAA/iQXx9RUkid0/s64/photo.jpg",
      "userId": "04503141710385573309"
     },
     "user_tz": -120
    },
    "id": "WkCfG4l60QfO",
    "outputId": "c278f8bc-84df-44d1-a6d3-18f1feeb1706"
   },
   "outputs": [
    {
     "data": {
      "text/plain": [
       "torch.Size([1, 3])"
      ]
     },
     "execution_count": 52,
     "metadata": {},
     "output_type": "execute_result"
    }
   ],
   "source": [
    "# proceeding axis\n",
    "c[None,:].shape"
   ]
  },
  {
   "cell_type": "code",
   "execution_count": 53,
   "metadata": {
    "colab": {
     "base_uri": "https://localhost:8080/",
     "height": 34
    },
    "colab_type": "code",
    "executionInfo": {
     "elapsed": 517,
     "status": "ok",
     "timestamp": 1564550067208,
     "user": {
      "displayName": "Stanislav Příhoda",
      "photoUrl": "https://lh4.googleusercontent.com/-C41FRhLmuzo/AAAAAAAAAAI/AAAAAAAAGAA/iQXx9RUkid0/s64/photo.jpg",
      "userId": "04503141710385573309"
     },
     "user_tz": -120
    },
    "id": "rZ753fqAcqNj",
    "outputId": "e2ab856a-a19e-4487-a56f-86f1f77e5762"
   },
   "outputs": [
    {
     "data": {
      "text/plain": [
       "torch.Size([3, 1])"
      ]
     },
     "execution_count": 53,
     "metadata": {},
     "output_type": "execute_result"
    }
   ],
   "source": [
    "# trailing axis\n",
    "c[:,None].shape"
   ]
  },
  {
   "cell_type": "code",
   "execution_count": 54,
   "metadata": {
    "colab": {
     "base_uri": "https://localhost:8080/",
     "height": 68
    },
    "colab_type": "code",
    "executionInfo": {
     "elapsed": 548,
     "status": "ok",
     "timestamp": 1564550252198,
     "user": {
      "displayName": "Stanislav Příhoda",
      "photoUrl": "https://lh4.googleusercontent.com/-C41FRhLmuzo/AAAAAAAAAAI/AAAAAAAAGAA/iQXx9RUkid0/s64/photo.jpg",
      "userId": "04503141710385573309"
     },
     "user_tz": -120
    },
    "id": "P3fcJdzNc3HI",
    "outputId": "2b31ad30-1ebc-46a1-a916-5b7823c6569e"
   },
   "outputs": [
    {
     "data": {
      "text/plain": [
       "tensor([[100., 200., 300.],\n",
       "        [200., 400., 600.],\n",
       "        [300., 600., 900.]])"
      ]
     },
     "execution_count": 54,
     "metadata": {},
     "output_type": "execute_result"
    }
   ],
   "source": [
    "c[None,:] * c[:,None]"
   ]
  },
  {
   "cell_type": "markdown",
   "metadata": {
    "colab_type": "text",
    "id": "Ehp3yfeCfxjk"
   },
   "source": [
    "**Einsum**"
   ]
  },
  {
   "cell_type": "code",
   "execution_count": 55,
   "metadata": {
    "colab": {},
    "colab_type": "code",
    "id": "3a5628vPdmmk"
   },
   "outputs": [],
   "source": [
    "#c[i,j] += a[i,k]*b[k,j]\n",
    "#einsum notation: ik,kj->ij\n",
    "def matmul(a,b): torch.einsum('ik,kj->ij',a,b)"
   ]
  },
  {
   "cell_type": "code",
   "execution_count": 56,
   "metadata": {
    "colab": {
     "base_uri": "https://localhost:8080/",
     "height": 34
    },
    "colab_type": "code",
    "executionInfo": {
     "elapsed": 566,
     "status": "ok",
     "timestamp": 1564551257385,
     "user": {
      "displayName": "Stanislav Příhoda",
      "photoUrl": "https://lh4.googleusercontent.com/-C41FRhLmuzo/AAAAAAAAAAI/AAAAAAAAGAA/iQXx9RUkid0/s64/photo.jpg",
      "userId": "04503141710385573309"
     },
     "user_tz": -120
    },
    "id": "u9yt3ig6gH6R",
    "outputId": "635d254a-74c9-4a23-c83e-a98829c6f752"
   },
   "outputs": [
    {
     "name": "stdout",
     "output_type": "stream",
     "text": [
      "The slowest run took 10.42 times longer than the fastest. This could mean that an intermediate result is being cached.\n",
      "133 µs ± 178 µs per loop (mean ± std. dev. of 7 runs, 10 loops each)\n"
     ]
    }
   ],
   "source": [
    "%timeit -n 10 _=matmul(m1,m2)"
   ]
  },
  {
   "cell_type": "code",
   "execution_count": 57,
   "metadata": {
    "colab": {
     "base_uri": "https://localhost:8080/",
     "height": 34
    },
    "colab_type": "code",
    "executionInfo": {
     "elapsed": 470,
     "status": "ok",
     "timestamp": 1564551272651,
     "user": {
      "displayName": "Stanislav Příhoda",
      "photoUrl": "https://lh4.googleusercontent.com/-C41FRhLmuzo/AAAAAAAAAAI/AAAAAAAAGAA/iQXx9RUkid0/s64/photo.jpg",
      "userId": "04503141710385573309"
     },
     "user_tz": -120
    },
    "id": "hmEsSRi3guv4",
    "outputId": "e7b8539c-0669-491c-adce-1deb2ef0e92d"
   },
   "outputs": [
    {
     "data": {
      "text/plain": [
       "8977.777777777777"
      ]
     },
     "execution_count": 57,
     "metadata": {},
     "output_type": "execute_result"
    }
   ],
   "source": [
    "808000/90"
   ]
  },
  {
   "cell_type": "markdown",
   "metadata": {
    "colab_type": "text",
    "id": "_IvzNl_QjOES"
   },
   "source": [
    "**Pytorch**"
   ]
  },
  {
   "cell_type": "code",
   "execution_count": 58,
   "metadata": {
    "colab": {
     "base_uri": "https://localhost:8080/",
     "height": 71
    },
    "colab_type": "code",
    "executionInfo": {
     "elapsed": 547,
     "status": "ok",
     "timestamp": 1564552224206,
     "user": {
      "displayName": "Stanislav Příhoda",
      "photoUrl": "https://lh4.googleusercontent.com/-C41FRhLmuzo/AAAAAAAAAAI/AAAAAAAAGAA/iQXx9RUkid0/s64/photo.jpg",
      "userId": "04503141710385573309"
     },
     "user_tz": -120
    },
    "id": "P3728nGHhdaq",
    "outputId": "2d6cb2c9-87fd-481d-e6bf-ee79e38be88f"
   },
   "outputs": [
    {
     "name": "stdout",
     "output_type": "stream",
     "text": [
      "The slowest run took 7.46 times longer than the fastest. This could mean that an intermediate result is being cached.\n",
      "28.1 µs ± 28.2 µs per loop (mean ± std. dev. of 7 runs, 10 loops each)\n"
     ]
    }
   ],
   "source": [
    "%timeit -n 10 t2=m1.matmul(m2)"
   ]
  },
  {
   "cell_type": "code",
   "execution_count": 59,
   "metadata": {
    "colab": {
     "base_uri": "https://localhost:8080/",
     "height": 34
    },
    "colab_type": "code",
    "executionInfo": {
     "elapsed": 529,
     "status": "ok",
     "timestamp": 1564552227310,
     "user": {
      "displayName": "Stanislav Příhoda",
      "photoUrl": "https://lh4.googleusercontent.com/-C41FRhLmuzo/AAAAAAAAAAI/AAAAAAAAGAA/iQXx9RUkid0/s64/photo.jpg",
      "userId": "04503141710385573309"
     },
     "user_tz": -120
    },
    "id": "5S5waKL8jThR",
    "outputId": "0f2fea2d-65ad-4f63-9d1a-7e19a23592eb"
   },
   "outputs": [
    {
     "data": {
      "text/plain": [
       "35130.434782608696"
      ]
     },
     "execution_count": 59,
     "metadata": {},
     "output_type": "execute_result"
    }
   ],
   "source": [
    "808000/23"
   ]
  },
  {
   "cell_type": "code",
   "execution_count": 60,
   "metadata": {
    "colab": {
     "base_uri": "https://localhost:8080/",
     "height": 71
    },
    "colab_type": "code",
    "executionInfo": {
     "elapsed": 496,
     "status": "ok",
     "timestamp": 1564552264723,
     "user": {
      "displayName": "Stanislav Příhoda",
      "photoUrl": "https://lh4.googleusercontent.com/-C41FRhLmuzo/AAAAAAAAAAI/AAAAAAAAGAA/iQXx9RUkid0/s64/photo.jpg",
      "userId": "04503141710385573309"
     },
     "user_tz": -120
    },
    "id": "JJ1vxaUijgBM",
    "outputId": "eab7246d-9628-48c1-b9c0-f71aa940569f"
   },
   "outputs": [
    {
     "name": "stdout",
     "output_type": "stream",
     "text": [
      "The slowest run took 6.77 times longer than the fastest. This could mean that an intermediate result is being cached.\n",
      "27.4 µs ± 25.8 µs per loop (mean ± std. dev. of 7 runs, 10 loops each)\n"
     ]
    }
   ],
   "source": [
    "%timeit -n 10 t2 = m1@m2"
   ]
  },
  {
   "cell_type": "code",
   "execution_count": 61,
   "metadata": {},
   "outputs": [],
   "source": [
    "t2 = m1@m2"
   ]
  },
  {
   "cell_type": "code",
   "execution_count": 62,
   "metadata": {
    "colab": {},
    "colab_type": "code",
    "id": "Gal1Oxssk7ZG"
   },
   "outputs": [],
   "source": [
    "test_near(t1,t2)"
   ]
  },
  {
   "cell_type": "code",
   "execution_count": null,
   "metadata": {},
   "outputs": [],
   "source": []
  },
  {
   "cell_type": "code",
   "execution_count": null,
   "metadata": {},
   "outputs": [],
   "source": []
  },
  {
   "cell_type": "markdown",
   "metadata": {
    "colab": {},
    "colab_type": "code",
    "id": "wkU-2mPqlMlQ"
   },
   "source": [
    "## Export"
   ]
  },
  {
   "cell_type": "code",
   "execution_count": 63,
   "metadata": {},
   "outputs": [
    {
     "name": "stdout",
     "output_type": "stream",
     "text": [
      "Converted 01_Matmul.ipynb to exp/nb_01.py\n"
     ]
    }
   ],
   "source": [
    "!python3 notebook2script.py 01_Matmul.ipynb"
   ]
  },
  {
   "cell_type": "code",
   "execution_count": null,
   "metadata": {},
   "outputs": [],
   "source": []
  }
 ],
 "metadata": {
  "colab": {
   "collapsed_sections": [],
   "name": "01_Matmul.ipynb",
   "provenance": [],
   "version": "0.3.2"
  },
  "kernelspec": {
   "display_name": "Python 3",
   "language": "python",
   "name": "python3"
  },
  "language_info": {
   "codemirror_mode": {
    "name": "ipython",
    "version": 3
   },
   "file_extension": ".py",
   "mimetype": "text/x-python",
   "name": "python",
   "nbconvert_exporter": "python",
   "pygments_lexer": "ipython3",
   "version": "3.7.3"
  }
 },
 "nbformat": 4,
 "nbformat_minor": 4
}
