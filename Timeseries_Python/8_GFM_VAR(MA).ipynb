{
 "cells": [
  {
   "cell_type": "code",
   "execution_count": 1,
   "metadata": {},
   "outputs": [
    {
     "name": "stderr",
     "output_type": "stream",
     "text": [
      "/anaconda3/envs/tsa_course/lib/python3.7/importlib/_bootstrap.py:219: RuntimeWarning: numpy.ufunc size changed, may indicate binary incompatibility. Expected 216, got 192\n",
      "  return f(*args, **kwds)\n"
     ]
    }
   ],
   "source": [
    "import pandas as pd\n",
    "import numpy as np\n",
    "import matplotlib.pyplot as plt"
   ]
  },
  {
   "cell_type": "code",
   "execution_count": 2,
   "metadata": {},
   "outputs": [],
   "source": [
    "from statsmodels.tsa.api import VAR\n",
    "from statsmodels.tsa.stattools import adfuller\n",
    "from statsmodels.tools.eval_measures import rmse"
   ]
  },
  {
   "cell_type": "code",
   "execution_count": 3,
   "metadata": {},
   "outputs": [],
   "source": [
    "import warnings\n",
    "warnings.filterwarnings(\"ignore\")"
   ]
  },
  {
   "cell_type": "code",
   "execution_count": 4,
   "metadata": {},
   "outputs": [],
   "source": [
    "df = pd.read_csv('_sources/TSA_COURSE_NOTEBOOKS/Data/M2SLMoneyStock.csv',index_col=0,parse_dates=True)\n",
    "df.index.freq='MS'\n",
    "sp = pd.read_csv('_sources/TSA_COURSE_NOTEBOOKS/Data/PCEPersonalSpending.csv',index_col=0,parse_dates=True)\n",
    "sp.index.freq='MS'"
   ]
  },
  {
   "cell_type": "code",
   "execution_count": 5,
   "metadata": {},
   "outputs": [
    {
     "data": {
      "text/html": [
       "<div>\n",
       "<style scoped>\n",
       "    .dataframe tbody tr th:only-of-type {\n",
       "        vertical-align: middle;\n",
       "    }\n",
       "\n",
       "    .dataframe tbody tr th {\n",
       "        vertical-align: top;\n",
       "    }\n",
       "\n",
       "    .dataframe thead th {\n",
       "        text-align: right;\n",
       "    }\n",
       "</style>\n",
       "<table border=\"1\" class=\"dataframe\">\n",
       "  <thead>\n",
       "    <tr style=\"text-align: right;\">\n",
       "      <th></th>\n",
       "      <th>Money</th>\n",
       "    </tr>\n",
       "    <tr>\n",
       "      <th>Date</th>\n",
       "      <th></th>\n",
       "    </tr>\n",
       "  </thead>\n",
       "  <tbody>\n",
       "    <tr>\n",
       "      <th>1995-01-01</th>\n",
       "      <td>3492.4</td>\n",
       "    </tr>\n",
       "    <tr>\n",
       "      <th>1995-02-01</th>\n",
       "      <td>3489.9</td>\n",
       "    </tr>\n",
       "    <tr>\n",
       "      <th>1995-03-01</th>\n",
       "      <td>3491.1</td>\n",
       "    </tr>\n",
       "  </tbody>\n",
       "</table>\n",
       "</div>"
      ],
      "text/plain": [
       "             Money\n",
       "Date              \n",
       "1995-01-01  3492.4\n",
       "1995-02-01  3489.9\n",
       "1995-03-01  3491.1"
      ]
     },
     "execution_count": 5,
     "metadata": {},
     "output_type": "execute_result"
    }
   ],
   "source": [
    "df.head(3)"
   ]
  },
  {
   "cell_type": "code",
   "execution_count": 6,
   "metadata": {},
   "outputs": [],
   "source": [
    "df = df.join(sp)"
   ]
  },
  {
   "cell_type": "code",
   "execution_count": 9,
   "metadata": {},
   "outputs": [
    {
     "data": {
      "text/plain": [
       "(252, 2)"
      ]
     },
     "execution_count": 9,
     "metadata": {},
     "output_type": "execute_result"
    }
   ],
   "source": [
    "df.shape"
   ]
  },
  {
   "cell_type": "code",
   "execution_count": 7,
   "metadata": {},
   "outputs": [],
   "source": [
    "df = df.dropna()"
   ]
  },
  {
   "cell_type": "code",
   "execution_count": 8,
   "metadata": {},
   "outputs": [
    {
     "data": {
      "text/plain": [
       "(252, 2)"
      ]
     },
     "execution_count": 8,
     "metadata": {},
     "output_type": "execute_result"
    }
   ],
   "source": [
    "df.shape"
   ]
  },
  {
   "cell_type": "code",
   "execution_count": 10,
   "metadata": {},
   "outputs": [
    {
     "data": {
      "text/plain": [
       "<matplotlib.axes._subplots.AxesSubplot at 0x1c28c57470>"
      ]
     },
     "execution_count": 10,
     "metadata": {},
     "output_type": "execute_result"
    },
    {
     "data": {
      "image/png": "[encoded data removed]",
      "text/plain": [
       "<Figure size 432x288 with 1 Axes>"
      ]
     },
     "metadata": {
      "needs_background": "light"
     },
     "output_type": "display_data"
    }
   ],
   "source": [
    "df.plot()"
   ]
  },
  {
   "cell_type": "code",
   "execution_count": 11,
   "metadata": {},
   "outputs": [],
   "source": [
    "# predefined function\n",
    "from statsmodels.tsa.stattools import adfuller\n",
    "\n",
    "def adf_test(series,title=''):\n",
    "    \"\"\"\n",
    "    Pass in a time series and an optional title, returns an ADF report\n",
    "    \"\"\"\n",
    "    print(f'Augmented Dickey-Fuller Test: {title}')\n",
    "    result = adfuller(series.dropna(),autolag='AIC') # .dropna() handles differenced data\n",
    "    \n",
    "    labels = ['ADF test statistic','p-value','# lags used','# observations']\n",
    "    out = pd.Series(result[0:4],index=labels)\n",
    "\n",
    "    for key,val in result[4].items():\n",
    "        out[f'critical value ({key})']=val\n",
    "        \n",
    "    print(out.to_string())          # .to_string() removes the line \"dtype: float64\"\n",
    "    \n",
    "    if result[1] <= 0.05:\n",
    "        print(\"Strong evidence against the null hypothesis\")\n",
    "        print(\"Reject the null hypothesis\")\n",
    "        print(\"Data has no unit root and is stationary\")\n",
    "    else:\n",
    "        print(\"Weak evidence against the null hypothesis\")\n",
    "        print(\"Fail to reject the null hypothesis\")\n",
    "        print(\"Data has a unit root and is non-stationary\")\n"
   ]
  },
  {
   "cell_type": "code",
   "execution_count": 14,
   "metadata": {},
   "outputs": [
    {
     "name": "stdout",
     "output_type": "stream",
     "text": [
      "Augmented Dickey-Fuller Test: \n",
      "ADF test statistic        4.239022\n",
      "p-value                   1.000000\n",
      "# lags used               4.000000\n",
      "# observations          247.000000\n",
      "critical value (1%)      -3.457105\n",
      "critical value (5%)      -2.873314\n",
      "critical value (10%)     -2.573044\n",
      "Weak evidence against the null hypothesis\n",
      "Fail to reject the null hypothesis\n",
      "Data has a unit root and is non-stationary\n"
     ]
    }
   ],
   "source": [
    "adf_test(df['Money'])"
   ]
  },
  {
   "cell_type": "code",
   "execution_count": 13,
   "metadata": {},
   "outputs": [
    {
     "name": "stdout",
     "output_type": "stream",
     "text": [
      "Augmented Dickey-Fuller Test: \n",
      "ADF test statistic        0.149796\n",
      "p-value                   0.969301\n",
      "# lags used               3.000000\n",
      "# observations          248.000000\n",
      "critical value (1%)      -3.456996\n",
      "critical value (5%)      -2.873266\n",
      "critical value (10%)     -2.573019\n",
      "Weak evidence against the null hypothesis\n",
      "Fail to reject the null hypothesis\n",
      "Data has a unit root and is non-stationary\n"
     ]
    }
   ],
   "source": [
    "adf_test(df['Spending'])"
   ]
  },
  {
   "cell_type": "code",
   "execution_count": 21,
   "metadata": {},
   "outputs": [],
   "source": [
    "df_transformed = df.diff()"
   ]
  },
  {
   "cell_type": "code",
   "execution_count": 22,
   "metadata": {},
   "outputs": [
    {
     "data": {
      "text/plain": [
       "<matplotlib.axes._subplots.AxesSubplot at 0x1c28e62828>"
      ]
     },
     "execution_count": 22,
     "metadata": {},
     "output_type": "execute_result"
    },
    {
     "data": {
      "image/png": "[encoded data removed]",
      "text/plain": [
       "<Figure size 432x288 with 1 Axes>"
      ]
     },
     "metadata": {
      "needs_background": "light"
     },
     "output_type": "display_data"
    }
   ],
   "source": [
    "df_transformed.plot()"
   ]
  },
  {
   "cell_type": "code",
   "execution_count": 24,
   "metadata": {},
   "outputs": [
    {
     "name": "stdout",
     "output_type": "stream",
     "text": [
      "Augmented Dickey-Fuller Test: \n",
      "ADF test statistic       -2.057404\n",
      "p-value                   0.261984\n",
      "# lags used              15.000000\n",
      "# observations          235.000000\n",
      "critical value (1%)      -3.458487\n",
      "critical value (5%)      -2.873919\n",
      "critical value (10%)     -2.573367\n",
      "Weak evidence against the null hypothesis\n",
      "Fail to reject the null hypothesis\n",
      "Data has a unit root and is non-stationary\n"
     ]
    }
   ],
   "source": [
    "adf_test(df_transformed['Money'])"
   ]
  },
  {
   "cell_type": "code",
   "execution_count": 25,
   "metadata": {},
   "outputs": [
    {
     "name": "stdout",
     "output_type": "stream",
     "text": [
      "Augmented Dickey-Fuller Test: \n",
      "ADF test statistic     -7.226974e+00\n",
      "p-value                 2.041027e-10\n",
      "# lags used             2.000000e+00\n",
      "# observations          2.480000e+02\n",
      "critical value (1%)    -3.456996e+00\n",
      "critical value (5%)    -2.873266e+00\n",
      "critical value (10%)   -2.573019e+00\n",
      "Strong evidence against the null hypothesis\n",
      "Reject the null hypothesis\n",
      "Data has no unit root and is stationary\n"
     ]
    }
   ],
   "source": [
    "adf_test(df_transformed['Spending'])"
   ]
  },
  {
   "cell_type": "code",
   "execution_count": 28,
   "metadata": {},
   "outputs": [],
   "source": [
    "df_transformed = df_transformed.diff().dropna()"
   ]
  },
  {
   "cell_type": "code",
   "execution_count": 27,
   "metadata": {},
   "outputs": [
    {
     "name": "stdout",
     "output_type": "stream",
     "text": [
      "Augmented Dickey-Fuller Test: \n",
      "ADF test statistic     -7.077471e+00\n",
      "p-value                 4.760675e-10\n",
      "# lags used             1.400000e+01\n",
      "# observations          2.350000e+02\n",
      "critical value (1%)    -3.458487e+00\n",
      "critical value (5%)    -2.873919e+00\n",
      "critical value (10%)   -2.573367e+00\n",
      "Strong evidence against the null hypothesis\n",
      "Reject the null hypothesis\n",
      "Data has no unit root and is stationary\n"
     ]
    }
   ],
   "source": [
    "adf_test(df_transformed['Money'])"
   ]
  },
  {
   "cell_type": "code",
   "execution_count": 50,
   "metadata": {},
   "outputs": [],
   "source": [
    "nobs = 12\n",
    "train = df_transformed[:-nobs]\n",
    "test = df_transformed[-nobs:]"
   ]
  },
  {
   "cell_type": "markdown",
   "metadata": {},
   "source": [
    "# VAR"
   ]
  },
  {
   "cell_type": "markdown",
   "metadata": {},
   "source": [
    "### grid search for order p"
   ]
  },
  {
   "cell_type": "code",
   "execution_count": 34,
   "metadata": {},
   "outputs": [
    {
     "name": "stdout",
     "output_type": "stream",
     "text": [
      "ORDER: 1\n",
      "AIC: 15.796135308776922\n",
      "ORDER: 2\n",
      "AIC: 15.114477556763626\n",
      "ORDER: 3\n",
      "AIC: 14.738769101218226\n",
      "ORDER: 4\n",
      "AIC: 14.620770001897682\n",
      "ORDER: 5\n",
      "AIC: 14.491207086701195\n",
      "ORDER: 6\n",
      "AIC: 14.407601002813859\n",
      "ORDER: 7\n",
      "AIC: 14.400431369101309\n",
      "ORDER: 8\n",
      "AIC: 14.315332595867506\n",
      "ORDER: 9\n",
      "AIC: 14.254519689253156\n",
      "ORDER: 10\n",
      "AIC: 14.200965338195436\n",
      "ORDER: 11\n",
      "AIC: 14.179882624285682\n",
      "ORDER: 12\n",
      "AIC: 14.201894192206668\n",
      "ORDER: 13\n",
      "AIC: 14.198123325497248\n",
      "ORDER: 14\n",
      "AIC: 14.231118015997335\n"
     ]
    }
   ],
   "source": [
    "model = VAR(train)\n",
    "for p in range(1,15):\n",
    "    results = model.fit(p)\n",
    "    print(f'ORDER: {p}')\n",
    "    print(f'AIC: {results.aic}')"
   ]
  },
  {
   "cell_type": "code",
   "execution_count": 35,
   "metadata": {},
   "outputs": [],
   "source": [
    "results = model.fit(11) # 5 in course"
   ]
  },
  {
   "cell_type": "code",
   "execution_count": 36,
   "metadata": {},
   "outputs": [
    {
     "data": {
      "text/plain": [
       "  Summary of Regression Results   \n",
       "==================================\n",
       "Model:                         VAR\n",
       "Method:                        OLS\n",
       "Date:           Tue, 23, Jul, 2019\n",
       "Time:                     08:06:00\n",
       "--------------------------------------------------------------------\n",
       "No. of Equations:         2.00000    BIC:                    14.8761\n",
       "Nobs:                     226.000    HQIC:                   14.4608\n",
       "Log likelihood:          -2197.69    FPE:                1.44165e+06\n",
       "AIC:                      14.1799    Det(Omega_mle):     1.18762e+06\n",
       "--------------------------------------------------------------------\n",
       "Results for equation Money\n",
       "===============================================================================\n",
       "                  coefficient       std. error           t-stat            prob\n",
       "-------------------------------------------------------------------------------\n",
       "const               -0.015975         1.964202           -0.008           0.994\n",
       "L1.Money            -1.545475         0.071560          -21.597           0.000\n",
       "L1.Spending         -0.110163         0.055817           -1.974           0.048\n",
       "L2.Money            -1.867831         0.126474          -14.769           0.000\n",
       "L2.Spending         -0.308779         0.114169           -2.705           0.007\n",
       "L3.Money            -1.874360         0.172666          -10.855           0.000\n",
       "L3.Spending         -0.497619         0.165372           -3.009           0.003\n",
       "L4.Money            -1.925626         0.201032           -9.579           0.000\n",
       "L4.Spending         -0.554588         0.201414           -2.753           0.006\n",
       "L5.Money            -1.857027         0.221531           -8.383           0.000\n",
       "L5.Spending         -0.638447         0.220784           -2.892           0.004\n",
       "L6.Money            -1.650114         0.229100           -7.203           0.000\n",
       "L6.Spending         -0.628929         0.228339           -2.754           0.006\n",
       "L7.Money            -1.411578         0.219899           -6.419           0.000\n",
       "L7.Spending         -0.524267         0.221109           -2.371           0.018\n",
       "L8.Money            -1.146478         0.198406           -5.778           0.000\n",
       "L8.Spending         -0.379784         0.201007           -1.889           0.059\n",
       "L9.Money            -0.865105         0.168260           -5.141           0.000\n",
       "L9.Spending         -0.192872         0.164856           -1.170           0.242\n",
       "L10.Money           -0.522691         0.123691           -4.226           0.000\n",
       "L10.Spending        -0.068863         0.113650           -0.606           0.545\n",
       "L11.Money           -0.217066         0.070516           -3.078           0.002\n",
       "L11.Spending        -0.019941         0.055190           -0.361           0.718\n",
       "===============================================================================\n",
       "\n",
       "Results for equation Spending\n",
       "===============================================================================\n",
       "                  coefficient       std. error           t-stat            prob\n",
       "-------------------------------------------------------------------------------\n",
       "const               -0.245737         2.548146           -0.096           0.923\n",
       "L1.Money             0.181831         0.092835            1.959           0.050\n",
       "L1.Spending         -1.774934         0.072411          -24.512           0.000\n",
       "L2.Money             0.236114         0.164073            1.439           0.150\n",
       "L2.Spending         -2.158270         0.148111          -14.572           0.000\n",
       "L3.Money             0.228777         0.223998            1.021           0.307\n",
       "L3.Spending         -2.214494         0.214536          -10.322           0.000\n",
       "L4.Money             0.075761         0.260798            0.290           0.771\n",
       "L4.Spending         -2.079363         0.261293           -7.958           0.000\n",
       "L5.Money             0.015788         0.287391            0.055           0.956\n",
       "L5.Spending         -1.941778         0.286421           -6.779           0.000\n",
       "L6.Money             0.155197         0.297209            0.522           0.602\n",
       "L6.Spending         -1.722380         0.296222           -5.814           0.000\n",
       "L7.Money             0.399082         0.285273            1.399           0.162\n",
       "L7.Spending         -1.484016         0.286843           -5.174           0.000\n",
       "L8.Money             0.534523         0.257390            2.077           0.038\n",
       "L8.Spending         -1.195649         0.260765           -4.585           0.000\n",
       "L9.Money             0.438920         0.218282            2.011           0.044\n",
       "L9.Spending         -0.791915         0.213866           -3.703           0.000\n",
       "L10.Money            0.336736         0.160463            2.099           0.036\n",
       "L10.Spending        -0.400841         0.147438           -2.719           0.007\n",
       "L11.Money            0.166038         0.091480            1.815           0.070\n",
       "L11.Spending        -0.107090         0.071597           -1.496           0.135\n",
       "===============================================================================\n",
       "\n",
       "Correlation matrix of residuals\n",
       "               Money  Spending\n",
       "Money       1.000000 -0.267161\n",
       "Spending   -0.267161  1.000000\n",
       "\n"
      ]
     },
     "execution_count": 36,
     "metadata": {},
     "output_type": "execute_result"
    }
   ],
   "source": [
    "results.summary()"
   ]
  },
  {
   "cell_type": "markdown",
   "metadata": {},
   "source": [
    "### forecasting"
   ]
  },
  {
   "cell_type": "code",
   "execution_count": 43,
   "metadata": {},
   "outputs": [],
   "source": [
    "lagged_values = train.values[-11:]"
   ]
  },
  {
   "cell_type": "code",
   "execution_count": 52,
   "metadata": {},
   "outputs": [],
   "source": [
    "fcast_input = results.forecast(y=lagged_values,steps=12)"
   ]
  },
  {
   "cell_type": "code",
   "execution_count": 58,
   "metadata": {},
   "outputs": [],
   "source": [
    "df_forecast = pd.DataFrame(data=fcast_input,index=test.index,columns=['Money_2d','Spending_2d'])"
   ]
  },
  {
   "cell_type": "code",
   "execution_count": 59,
   "metadata": {},
   "outputs": [
    {
     "data": {
      "text/plain": [
       "<matplotlib.axes._subplots.AxesSubplot at 0x1c4073e400>"
      ]
     },
     "execution_count": 59,
     "metadata": {},
     "output_type": "execute_result"
    },
    {
     "data": {
      "image/png": "[encoded data removed]",
      "text/plain": [
       "<Figure size 432x288 with 1 Axes>"
      ]
     },
     "metadata": {
      "needs_background": "light"
     },
     "output_type": "display_data"
    }
   ],
   "source": [
    "df_forecast.plot()"
   ]
  },
  {
   "cell_type": "markdown",
   "metadata": {},
   "source": [
    "### inverting the transformation/differencing"
   ]
  },
  {
   "cell_type": "code",
   "execution_count": 60,
   "metadata": {},
   "outputs": [],
   "source": [
    "# Add the most recent first difference from the training side of the original dataset to the forecast cumulative sum\n",
    "df_forecast['Money1d'] = (df['Money'].iloc[-nobs-1]-df['Money'].iloc[-nobs-2]) + df_forecast['Money_2d'].cumsum()\n",
    "\n",
    "# Now build the forecast values from the first difference set\n",
    "df_forecast['MoneyForecast'] = df['Money'].iloc[-nobs-1] + df_forecast['Money1d'].cumsum()"
   ]
  },
  {
   "cell_type": "code",
   "execution_count": 61,
   "metadata": {},
   "outputs": [],
   "source": [
    "# Add the most recent first difference from the training side of the original dataset to the forecast cumulative sum\n",
    "df_forecast['Spending1d'] = (df['Spending'].iloc[-nobs-1]-df['Spending'].iloc[-nobs-2]) + df_forecast['Spending_2d'].cumsum()\n",
    "\n",
    "# Now build the forecast values from the first difference set\n",
    "df_forecast['SpendingForecast'] = df['Spending'].iloc[-nobs-1] + df_forecast['Spending1d'].cumsum()"
   ]
  },
  {
   "cell_type": "code",
   "execution_count": 63,
   "metadata": {},
   "outputs": [
    {
     "data": {
      "text/html": [
       "<div>\n",
       "<style scoped>\n",
       "    .dataframe tbody tr th:only-of-type {\n",
       "        vertical-align: middle;\n",
       "    }\n",
       "\n",
       "    .dataframe tbody tr th {\n",
       "        vertical-align: top;\n",
       "    }\n",
       "\n",
       "    .dataframe thead th {\n",
       "        text-align: right;\n",
       "    }\n",
       "</style>\n",
       "<table border=\"1\" class=\"dataframe\">\n",
       "  <thead>\n",
       "    <tr style=\"text-align: right;\">\n",
       "      <th></th>\n",
       "      <th>Money_2d</th>\n",
       "      <th>Spending_2d</th>\n",
       "      <th>Money1d</th>\n",
       "      <th>MoneyForecast</th>\n",
       "      <th>Spending1d</th>\n",
       "      <th>SpendingForecast</th>\n",
       "    </tr>\n",
       "    <tr>\n",
       "      <th>Date</th>\n",
       "      <th></th>\n",
       "      <th></th>\n",
       "      <th></th>\n",
       "      <th></th>\n",
       "      <th></th>\n",
       "      <th></th>\n",
       "    </tr>\n",
       "  </thead>\n",
       "  <tbody>\n",
       "    <tr>\n",
       "      <th>2015-01-01</th>\n",
       "      <td>-56.298243</td>\n",
       "      <td>55.434108</td>\n",
       "      <td>22.301757</td>\n",
       "      <td>11692.401757</td>\n",
       "      <td>66.034108</td>\n",
       "      <td>12128.034108</td>\n",
       "    </tr>\n",
       "    <tr>\n",
       "      <th>2015-02-01</th>\n",
       "      <td>14.558191</td>\n",
       "      <td>-60.779144</td>\n",
       "      <td>36.859948</td>\n",
       "      <td>11729.261705</td>\n",
       "      <td>5.254965</td>\n",
       "      <td>12133.289073</td>\n",
       "    </tr>\n",
       "    <tr>\n",
       "      <th>2015-03-01</th>\n",
       "      <td>0.773593</td>\n",
       "      <td>16.624612</td>\n",
       "      <td>37.633541</td>\n",
       "      <td>11766.895246</td>\n",
       "      <td>21.879577</td>\n",
       "      <td>12155.168650</td>\n",
       "    </tr>\n",
       "    <tr>\n",
       "      <th>2015-04-01</th>\n",
       "      <td>0.025267</td>\n",
       "      <td>1.640196</td>\n",
       "      <td>37.658808</td>\n",
       "      <td>11804.554054</td>\n",
       "      <td>23.519773</td>\n",
       "      <td>12178.688422</td>\n",
       "    </tr>\n",
       "    <tr>\n",
       "      <th>2015-05-01</th>\n",
       "      <td>6.988978</td>\n",
       "      <td>17.277037</td>\n",
       "      <td>44.647787</td>\n",
       "      <td>11849.201841</td>\n",
       "      <td>40.796810</td>\n",
       "      <td>12219.485232</td>\n",
       "    </tr>\n",
       "  </tbody>\n",
       "</table>\n",
       "</div>"
      ],
      "text/plain": [
       "             Money_2d  Spending_2d    Money1d  MoneyForecast  Spending1d  \\\n",
       "Date                                                                       \n",
       "2015-01-01 -56.298243    55.434108  22.301757   11692.401757   66.034108   \n",
       "2015-02-01  14.558191   -60.779144  36.859948   11729.261705    5.254965   \n",
       "2015-03-01   0.773593    16.624612  37.633541   11766.895246   21.879577   \n",
       "2015-04-01   0.025267     1.640196  37.658808   11804.554054   23.519773   \n",
       "2015-05-01   6.988978    17.277037  44.647787   11849.201841   40.796810   \n",
       "\n",
       "            SpendingForecast  \n",
       "Date                          \n",
       "2015-01-01      12128.034108  \n",
       "2015-02-01      12133.289073  \n",
       "2015-03-01      12155.168650  \n",
       "2015-04-01      12178.688422  \n",
       "2015-05-01      12219.485232  "
      ]
     },
     "execution_count": 63,
     "metadata": {},
     "output_type": "execute_result"
    }
   ],
   "source": [
    "df_forecast.head()"
   ]
  },
  {
   "cell_type": "code",
   "execution_count": 75,
   "metadata": {},
   "outputs": [
    {
     "data": {
      "text/plain": [
       "<matplotlib.axes._subplots.AxesSubplot at 0x1c40a4d630>"
      ]
     },
     "execution_count": 75,
     "metadata": {},
     "output_type": "execute_result"
    },
    {
     "data": {
      "image/png": "[encoded data removed]",
      "text/plain": [
       "<Figure size 432x288 with 1 Axes>"
      ]
     },
     "metadata": {
      "needs_background": "light"
     },
     "output_type": "display_data"
    }
   ],
   "source": [
    "df[-nobs:].plot()"
   ]
  },
  {
   "cell_type": "code",
   "execution_count": 69,
   "metadata": {},
   "outputs": [
    {
     "data": {
      "text/plain": [
       "Index(['Money_2d', 'Spending_2d', 'Money1d', 'MoneyForecast', 'Spending1d',\n",
       "       'SpendingForecast'],\n",
       "      dtype='object')"
      ]
     },
     "execution_count": 69,
     "metadata": {},
     "output_type": "execute_result"
    }
   ],
   "source": [
    "df_forecast.columns"
   ]
  },
  {
   "cell_type": "code",
   "execution_count": 71,
   "metadata": {},
   "outputs": [
    {
     "data": {
      "text/plain": [
       "<matplotlib.axes._subplots.AxesSubplot at 0x1c3f7c83c8>"
      ]
     },
     "execution_count": 71,
     "metadata": {},
     "output_type": "execute_result"
    },
    {
     "data": {
      "image/png": "[encoded data removed]",
      "text/plain": [
       "<Figure size 432x288 with 1 Axes>"
      ]
     },
     "metadata": {
      "needs_background": "light"
     },
     "output_type": "display_data"
    }
   ],
   "source": [
    "df_forecast[['MoneyForecast','SpendingForecast']].plot()"
   ]
  },
  {
   "cell_type": "code",
   "execution_count": 81,
   "metadata": {},
   "outputs": [
    {
     "data": {
      "text/plain": [
       "<matplotlib.axes._subplots.AxesSubplot at 0x1c419172b0>"
      ]
     },
     "execution_count": 81,
     "metadata": {},
     "output_type": "execute_result"
    },
    {
     "data": {
      "image/png": "[encoded data removed]",
      "text/plain": [
       "<Figure size 864x576 with 1 Axes>"
      ]
     },
     "metadata": {
      "needs_background": "light"
     },
     "output_type": "display_data"
    }
   ],
   "source": [
    "df[-nobs:]['Money'].plot(legend=True,figsize=(12,8))\n",
    "df_forecast['MoneyForecast'].plot(legend=True)"
   ]
  },
  {
   "cell_type": "code",
   "execution_count": 82,
   "metadata": {},
   "outputs": [
    {
     "data": {
      "text/plain": [
       "<matplotlib.axes._subplots.AxesSubplot at 0x1c41a17240>"
      ]
     },
     "execution_count": 82,
     "metadata": {},
     "output_type": "execute_result"
    },
    {
     "data": {
      "image/png": "[encoded data removed]",
      "text/plain": [
       "<Figure size 864x576 with 1 Axes>"
      ]
     },
     "metadata": {
      "needs_background": "light"
     },
     "output_type": "display_data"
    }
   ],
   "source": [
    "df[-nobs:]['Spending'].plot(legend=True,figsize=(12,8))\n",
    "df_forecast['SpendingForecast'].plot(legend=True)"
   ]
  },
  {
   "cell_type": "code",
   "execution_count": 83,
   "metadata": {},
   "outputs": [
    {
     "data": {
      "text/plain": [
       "134.3255580726628"
      ]
     },
     "execution_count": 83,
     "metadata": {},
     "output_type": "execute_result"
    }
   ],
   "source": [
    "rmse(df[-nobs:]['Money'],df_forecast['MoneyForecast'])"
   ]
  },
  {
   "cell_type": "code",
   "execution_count": 84,
   "metadata": {},
   "outputs": [
    {
     "data": {
      "text/plain": [
       "12034.008333333333"
      ]
     },
     "execution_count": 84,
     "metadata": {},
     "output_type": "execute_result"
    }
   ],
   "source": [
    "df[-nobs:]['Money'].mean()"
   ]
  },
  {
   "cell_type": "code",
   "execution_count": 85,
   "metadata": {},
   "outputs": [
    {
     "data": {
      "text/plain": [
       "74.57640272399209"
      ]
     },
     "execution_count": 85,
     "metadata": {},
     "output_type": "execute_result"
    }
   ],
   "source": [
    "rmse(df[-nobs:]['Spending'],df_forecast['SpendingForecast'])"
   ]
  },
  {
   "cell_type": "code",
   "execution_count": 87,
   "metadata": {},
   "outputs": [
    {
     "data": {
      "text/plain": [
       "12294.533333333335"
      ]
     },
     "execution_count": 87,
     "metadata": {},
     "output_type": "execute_result"
    }
   ],
   "source": [
    "df[-nobs:]['Spending'].mean()"
   ]
  },
  {
   "cell_type": "markdown",
   "metadata": {},
   "source": [
    "### VARMA"
   ]
  },
  {
   "cell_type": "code",
   "execution_count": 88,
   "metadata": {},
   "outputs": [],
   "source": [
    "from statsmodels.tsa.statespace.varmax import VARMAX, VARMAXResults"
   ]
  },
  {
   "cell_type": "code",
   "execution_count": 89,
   "metadata": {},
   "outputs": [],
   "source": [
    "from pmdarima import auto_arima"
   ]
  },
  {
   "cell_type": "code",
   "execution_count": 90,
   "metadata": {},
   "outputs": [
    {
     "data": {
      "text/plain": [
       "ARIMA(callback=None, disp=0, maxiter=1000, method=None, order=(1, 2, 2),\n",
       "   out_of_sample_size=0, scoring='mse', scoring_args={},\n",
       "   seasonal_order=(0, 0, 0, 1), solver='lbfgs', start_params=None,\n",
       "   suppress_warnings=False, transparams=True, trend=None,\n",
       "   with_intercept=True)"
      ]
     },
     "execution_count": 90,
     "metadata": {},
     "output_type": "execute_result"
    }
   ],
   "source": [
    "auto_arima(df['Money'],maxiter=1000)"
   ]
  },
  {
   "cell_type": "code",
   "execution_count": 91,
   "metadata": {},
   "outputs": [
    {
     "data": {
      "text/plain": [
       "ARIMA(callback=None, disp=0, maxiter=1000, method=None, order=(1, 1, 2),\n",
       "   out_of_sample_size=0, scoring='mse', scoring_args={},\n",
       "   seasonal_order=(0, 0, 0, 1), solver='lbfgs', start_params=None,\n",
       "   suppress_warnings=False, transparams=True, trend=None,\n",
       "   with_intercept=True)"
      ]
     },
     "execution_count": 91,
     "metadata": {},
     "output_type": "execute_result"
    }
   ],
   "source": [
    "auto_arima(df['Spending'],maxiter=1000)"
   ]
  },
  {
   "cell_type": "code",
   "execution_count": 92,
   "metadata": {},
   "outputs": [
    {
     "data": {
      "text/html": [
       "<div>\n",
       "<style scoped>\n",
       "    .dataframe tbody tr th:only-of-type {\n",
       "        vertical-align: middle;\n",
       "    }\n",
       "\n",
       "    .dataframe tbody tr th {\n",
       "        vertical-align: top;\n",
       "    }\n",
       "\n",
       "    .dataframe thead th {\n",
       "        text-align: right;\n",
       "    }\n",
       "</style>\n",
       "<table border=\"1\" class=\"dataframe\">\n",
       "  <thead>\n",
       "    <tr style=\"text-align: right;\">\n",
       "      <th></th>\n",
       "      <th>Money</th>\n",
       "      <th>Spending</th>\n",
       "    </tr>\n",
       "    <tr>\n",
       "      <th>Date</th>\n",
       "      <th></th>\n",
       "      <th></th>\n",
       "    </tr>\n",
       "  </thead>\n",
       "  <tbody>\n",
       "    <tr>\n",
       "      <th>1995-04-01</th>\n",
       "      <td>3.2</td>\n",
       "      <td>-64.8</td>\n",
       "    </tr>\n",
       "    <tr>\n",
       "      <th>1995-05-01</th>\n",
       "      <td>10.0</td>\n",
       "      <td>67.9</td>\n",
       "    </tr>\n",
       "    <tr>\n",
       "      <th>1995-06-01</th>\n",
       "      <td>-17.2</td>\n",
       "      <td>-36.6</td>\n",
       "    </tr>\n",
       "    <tr>\n",
       "      <th>1995-07-01</th>\n",
       "      <td>-5.9</td>\n",
       "      <td>-53.2</td>\n",
       "    </tr>\n",
       "    <tr>\n",
       "      <th>1995-08-01</th>\n",
       "      <td>9.3</td>\n",
       "      <td>94.1</td>\n",
       "    </tr>\n",
       "  </tbody>\n",
       "</table>\n",
       "</div>"
      ],
      "text/plain": [
       "            Money  Spending\n",
       "Date                       \n",
       "1995-04-01    3.2     -64.8\n",
       "1995-05-01   10.0      67.9\n",
       "1995-06-01  -17.2     -36.6\n",
       "1995-07-01   -5.9     -53.2\n",
       "1995-08-01    9.3      94.1"
      ]
     },
     "execution_count": 92,
     "metadata": {},
     "output_type": "execute_result"
    }
   ],
   "source": [
    "df_transformed.head()"
   ]
  },
  {
   "cell_type": "code",
   "execution_count": 93,
   "metadata": {},
   "outputs": [],
   "source": [
    "nobs=12\n",
    "train, test = df_transformed[:-nobs],df_transformed[-nobs:]"
   ]
  },
  {
   "cell_type": "markdown",
   "metadata": {},
   "source": [
    "### fitting model"
   ]
  },
  {
   "cell_type": "code",
   "execution_count": 101,
   "metadata": {},
   "outputs": [
    {
     "data": {
      "text/html": [
       "<table class=\"simpletable\">\n",
       "<caption>Statespace Model Results</caption>\n",
       "<tr>\n",
       "  <th>Dep. Variable:</th>   <td>['Money', 'Spending']</td> <th>  No. Observations:  </th>    <td>237</td>   \n",
       "</tr>\n",
       "<tr>\n",
       "  <th>Model:</th>                <td>VARMA(1,2)</td>       <th>  Log Likelihood     </th> <td>-2390.016</td>\n",
       "</tr>\n",
       "<tr>\n",
       "  <th></th>                      <td>+ intercept</td>      <th>  AIC                </th> <td>4814.031</td> \n",
       "</tr>\n",
       "<tr>\n",
       "  <th>Date:</th>              <td>Tue, 23 Jul 2019</td>    <th>  BIC                </th> <td>4872.988</td> \n",
       "</tr>\n",
       "<tr>\n",
       "  <th>Time:</th>                  <td>09:15:51</td>        <th>  HQIC               </th> <td>4837.795</td> \n",
       "</tr>\n",
       "<tr>\n",
       "  <th>Sample:</th>               <td>04-01-1995</td>       <th>                     </th>     <td> </td>    \n",
       "</tr>\n",
       "<tr>\n",
       "  <th></th>                     <td>- 12-01-2014</td>      <th>                     </th>     <td> </td>    \n",
       "</tr>\n",
       "<tr>\n",
       "  <th>Covariance Type:</th>          <td>opg</td>          <th>                     </th>     <td> </td>    \n",
       "</tr>\n",
       "</table>\n",
       "<table class=\"simpletable\">\n",
       "<tr>\n",
       "  <th>Ljung-Box (Q):</th>          <td>97.97, 101.98</td> <th>  Jarque-Bera (JB):  </th> <td>386.04, 106.47</td>\n",
       "</tr>\n",
       "<tr>\n",
       "  <th>Prob(Q):</th>                 <td>0.00, 0.00</td>   <th>  Prob(JB):          </th>   <td>0.00, 0.00</td>  \n",
       "</tr>\n",
       "<tr>\n",
       "  <th>Heteroskedasticity (H):</th>  <td>3.61, 1.52</td>   <th>  Skew:              </th>   <td>-1.06, 0.33</td> \n",
       "</tr>\n",
       "<tr>\n",
       "  <th>Prob(H) (two-sided):</th>     <td>0.00, 0.07</td>   <th>  Kurtosis:          </th>   <td>8.88, 6.21</td>  \n",
       "</tr>\n",
       "</table>\n",
       "<table class=\"simpletable\">\n",
       "<caption>Results for equation Money</caption>\n",
       "<tr>\n",
       "         <td></td>           <th>coef</th>     <th>std err</th>      <th>z</th>      <th>P>|z|</th>  <th>[0.025</th>    <th>0.975]</th>  \n",
       "</tr>\n",
       "<tr>\n",
       "  <th>const</th>          <td>   -3.0965</td> <td>    1.544</td> <td>   -2.006</td> <td> 0.045</td> <td>   -6.122</td> <td>   -0.071</td>\n",
       "</tr>\n",
       "<tr>\n",
       "  <th>L1.Money</th>       <td>   -0.4902</td> <td>    0.228</td> <td>   -2.155</td> <td> 0.031</td> <td>   -0.936</td> <td>   -0.044</td>\n",
       "</tr>\n",
       "<tr>\n",
       "  <th>L1.Spending</th>    <td>   -0.1126</td> <td>    0.121</td> <td>   -0.930</td> <td> 0.353</td> <td>   -0.350</td> <td>    0.125</td>\n",
       "</tr>\n",
       "<tr>\n",
       "  <th>L1.e(Money)</th>    <td>   -1.0250</td> <td>    0.213</td> <td>   -4.803</td> <td> 0.000</td> <td>   -1.443</td> <td>   -0.607</td>\n",
       "</tr>\n",
       "<tr>\n",
       "  <th>L1.e(Spending)</th> <td>   -0.1466</td> <td>    0.118</td> <td>   -1.242</td> <td> 0.214</td> <td>   -0.378</td> <td>    0.085</td>\n",
       "</tr>\n",
       "<tr>\n",
       "  <th>L2.e(Money)</th>    <td>   -0.0124</td> <td>    0.256</td> <td>   -0.049</td> <td> 0.961</td> <td>   -0.514</td> <td>    0.489</td>\n",
       "</tr>\n",
       "<tr>\n",
       "  <th>L2.e(Spending)</th> <td>   -0.1058</td> <td>    0.121</td> <td>   -0.872</td> <td> 0.383</td> <td>   -0.344</td> <td>    0.132</td>\n",
       "</tr>\n",
       "</table>\n",
       "<table class=\"simpletable\">\n",
       "<caption>Results for equation Spending</caption>\n",
       "<tr>\n",
       "         <td></td>           <th>coef</th>     <th>std err</th>      <th>z</th>      <th>P>|z|</th>  <th>[0.025</th>    <th>0.975]</th>  \n",
       "</tr>\n",
       "<tr>\n",
       "  <th>const</th>          <td>    0.7048</td> <td>    1.232</td> <td>    0.572</td> <td> 0.567</td> <td>   -1.711</td> <td>    3.120</td>\n",
       "</tr>\n",
       "<tr>\n",
       "  <th>L1.Money</th>       <td>   -0.1467</td> <td>    0.242</td> <td>   -0.606</td> <td> 0.544</td> <td>   -0.621</td> <td>    0.327</td>\n",
       "</tr>\n",
       "<tr>\n",
       "  <th>L1.Spending</th>    <td>   -0.5817</td> <td>    0.120</td> <td>   -4.851</td> <td> 0.000</td> <td>   -0.817</td> <td>   -0.347</td>\n",
       "</tr>\n",
       "<tr>\n",
       "  <th>L1.e(Money)</th>    <td>    0.0399</td> <td>    0.274</td> <td>    0.145</td> <td> 0.884</td> <td>   -0.497</td> <td>    0.577</td>\n",
       "</tr>\n",
       "<tr>\n",
       "  <th>L1.e(Spending)</th> <td>   -0.9638</td> <td>    0.180</td> <td>   -5.361</td> <td> 0.000</td> <td>   -1.316</td> <td>   -0.611</td>\n",
       "</tr>\n",
       "<tr>\n",
       "  <th>L2.e(Money)</th>    <td>   -0.0297</td> <td>    0.277</td> <td>   -0.107</td> <td> 0.915</td> <td>   -0.573</td> <td>    0.514</td>\n",
       "</tr>\n",
       "<tr>\n",
       "  <th>L2.e(Spending)</th> <td>    0.0213</td> <td>    0.185</td> <td>    0.115</td> <td> 0.908</td> <td>   -0.342</td> <td>    0.384</td>\n",
       "</tr>\n",
       "</table>\n",
       "<table class=\"simpletable\">\n",
       "<caption>Error covariance matrix</caption>\n",
       "<tr>\n",
       "             <td></td>                <th>coef</th>     <th>std err</th>      <th>z</th>      <th>P>|z|</th>  <th>[0.025</th>    <th>0.975]</th>  \n",
       "</tr>\n",
       "<tr>\n",
       "  <th>sqrt.var.Money</th>          <td>   34.0550</td> <td>    2.008</td> <td>   16.959</td> <td> 0.000</td> <td>   30.119</td> <td>   37.991</td>\n",
       "</tr>\n",
       "<tr>\n",
       "  <th>sqrt.cov.Money.Spending</th> <td>   -9.6778</td> <td>    5.184</td> <td>   -1.867</td> <td> 0.062</td> <td>  -19.839</td> <td>    0.483</td>\n",
       "</tr>\n",
       "<tr>\n",
       "  <th>sqrt.var.Spending</th>       <td>   52.4546</td> <td>    3.869</td> <td>   13.556</td> <td> 0.000</td> <td>   44.871</td> <td>   60.039</td>\n",
       "</tr>\n",
       "</table><br/><br/>Warnings:<br/>[1] Covariance matrix calculated using the outer product of gradients (complex-step)."
      ],
      "text/plain": [
       "<class 'statsmodels.iolib.summary.Summary'>\n",
       "\"\"\"\n",
       "                             Statespace Model Results                            \n",
       "=================================================================================\n",
       "Dep. Variable:     ['Money', 'Spending']   No. Observations:                  237\n",
       "Model:                        VARMA(1,2)   Log Likelihood               -2390.016\n",
       "                             + intercept   AIC                           4814.031\n",
       "Date:                   Tue, 23 Jul 2019   BIC                           4872.988\n",
       "Time:                           09:15:51   HQIC                          4837.795\n",
       "Sample:                       04-01-1995                                         \n",
       "                            - 12-01-2014                                         \n",
       "Covariance Type:                     opg                                         \n",
       "===================================================================================\n",
       "Ljung-Box (Q):               97.97, 101.98   Jarque-Bera (JB):       386.04, 106.47\n",
       "Prob(Q):                        0.00, 0.00   Prob(JB):                   0.00, 0.00\n",
       "Heteroskedasticity (H):         3.61, 1.52   Skew:                      -1.06, 0.33\n",
       "Prob(H) (two-sided):            0.00, 0.07   Kurtosis:                   8.88, 6.21\n",
       "                            Results for equation Money                            \n",
       "==================================================================================\n",
       "                     coef    std err          z      P>|z|      [0.025      0.975]\n",
       "----------------------------------------------------------------------------------\n",
       "const             -3.0965      1.544     -2.006      0.045      -6.122      -0.071\n",
       "L1.Money          -0.4902      0.228     -2.155      0.031      -0.936      -0.044\n",
       "L1.Spending       -0.1126      0.121     -0.930      0.353      -0.350       0.125\n",
       "L1.e(Money)       -1.0250      0.213     -4.803      0.000      -1.443      -0.607\n",
       "L1.e(Spending)    -0.1466      0.118     -1.242      0.214      -0.378       0.085\n",
       "L2.e(Money)       -0.0124      0.256     -0.049      0.961      -0.514       0.489\n",
       "L2.e(Spending)    -0.1058      0.121     -0.872      0.383      -0.344       0.132\n",
       "                          Results for equation Spending                           \n",
       "==================================================================================\n",
       "                     coef    std err          z      P>|z|      [0.025      0.975]\n",
       "----------------------------------------------------------------------------------\n",
       "const              0.7048      1.232      0.572      0.567      -1.711       3.120\n",
       "L1.Money          -0.1467      0.242     -0.606      0.544      -0.621       0.327\n",
       "L1.Spending       -0.5817      0.120     -4.851      0.000      -0.817      -0.347\n",
       "L1.e(Money)        0.0399      0.274      0.145      0.884      -0.497       0.577\n",
       "L1.e(Spending)    -0.9638      0.180     -5.361      0.000      -1.316      -0.611\n",
       "L2.e(Money)       -0.0297      0.277     -0.107      0.915      -0.573       0.514\n",
       "L2.e(Spending)     0.0213      0.185      0.115      0.908      -0.342       0.384\n",
       "                                  Error covariance matrix                                  \n",
       "===========================================================================================\n",
       "                              coef    std err          z      P>|z|      [0.025      0.975]\n",
       "-------------------------------------------------------------------------------------------\n",
       "sqrt.var.Money             34.0550      2.008     16.959      0.000      30.119      37.991\n",
       "sqrt.cov.Money.Spending    -9.6778      5.184     -1.867      0.062     -19.839       0.483\n",
       "sqrt.var.Spending          52.4546      3.869     13.556      0.000      44.871      60.039\n",
       "===========================================================================================\n",
       "\n",
       "Warnings:\n",
       "[1] Covariance matrix calculated using the outer product of gradients (complex-step).\n",
       "\"\"\""
      ]
     },
     "execution_count": 101,
     "metadata": {},
     "output_type": "execute_result"
    }
   ],
   "source": [
    "model = VARMAX(train,order=(1,2),trend='c')\n",
    "results = model.fit(maxiter=1000,disp=False)\n",
    "results.summary()"
   ]
  },
  {
   "cell_type": "code",
   "execution_count": 102,
   "metadata": {},
   "outputs": [],
   "source": [
    "df_forecast = results.forecast(12)"
   ]
  },
  {
   "cell_type": "code",
   "execution_count": 105,
   "metadata": {},
   "outputs": [],
   "source": [
    "# Add the most recent first difference from the training side of the original dataset to the forecast cumulative sum\n",
    "df_forecast['Money1d'] = (df['Money'].iloc[-nobs-1]-df['Money'].iloc[-nobs-2]) + df_forecast['Money'].cumsum()\n",
    "\n",
    "# Now build the forecast values from the first difference set\n",
    "df_forecast['MoneyForecast'] = df['Money'].iloc[-nobs-1] + df_forecast['Money'].cumsum()"
   ]
  },
  {
   "cell_type": "code",
   "execution_count": 106,
   "metadata": {},
   "outputs": [],
   "source": [
    "# Add the most recent first difference from the training side of the original dataset to the forecast cumulative sum\n",
    "df_forecast['Spending1d'] = (df['Spending'].iloc[-nobs-1]-df['Spending'].iloc[-nobs-2]) + df_forecast['Spending'].cumsum()\n",
    "\n",
    "# Now build the forecast values from the first difference set\n",
    "df_forecast['SpendingForecast'] = df['Spending'].iloc[-nobs-1] + df_forecast['Spending'].cumsum()"
   ]
  },
  {
   "cell_type": "code",
   "execution_count": 107,
   "metadata": {},
   "outputs": [
    {
     "data": {
      "text/html": [
       "<div>\n",
       "<style scoped>\n",
       "    .dataframe tbody tr th:only-of-type {\n",
       "        vertical-align: middle;\n",
       "    }\n",
       "\n",
       "    .dataframe tbody tr th {\n",
       "        vertical-align: top;\n",
       "    }\n",
       "\n",
       "    .dataframe thead th {\n",
       "        text-align: right;\n",
       "    }\n",
       "</style>\n",
       "<table border=\"1\" class=\"dataframe\">\n",
       "  <thead>\n",
       "    <tr style=\"text-align: right;\">\n",
       "      <th></th>\n",
       "      <th>Money</th>\n",
       "      <th>Spending</th>\n",
       "      <th>Money1d</th>\n",
       "      <th>MoneyForecast</th>\n",
       "      <th>Spending1d</th>\n",
       "      <th>SpendingForecast</th>\n",
       "    </tr>\n",
       "  </thead>\n",
       "  <tbody>\n",
       "    <tr>\n",
       "      <th>2015-01-01</th>\n",
       "      <td>-54.314987</td>\n",
       "      <td>35.077045</td>\n",
       "      <td>24.285013</td>\n",
       "      <td>11615.785013</td>\n",
       "      <td>45.677045</td>\n",
       "      <td>12097.077045</td>\n",
       "    </tr>\n",
       "    <tr>\n",
       "      <th>2015-02-01</th>\n",
       "      <td>25.132058</td>\n",
       "      <td>-13.771814</td>\n",
       "      <td>49.417071</td>\n",
       "      <td>11640.917071</td>\n",
       "      <td>31.905231</td>\n",
       "      <td>12083.305231</td>\n",
       "    </tr>\n",
       "    <tr>\n",
       "      <th>2015-03-01</th>\n",
       "      <td>-13.865279</td>\n",
       "      <td>5.030351</td>\n",
       "      <td>35.551792</td>\n",
       "      <td>11627.051792</td>\n",
       "      <td>36.935582</td>\n",
       "      <td>12088.335582</td>\n",
       "    </tr>\n",
       "    <tr>\n",
       "      <th>2015-04-01</th>\n",
       "      <td>3.133562</td>\n",
       "      <td>-0.188043</td>\n",
       "      <td>38.685354</td>\n",
       "      <td>11630.185354</td>\n",
       "      <td>36.747539</td>\n",
       "      <td>12088.147539</td>\n",
       "    </tr>\n",
       "    <tr>\n",
       "      <th>2015-05-01</th>\n",
       "      <td>-4.611304</td>\n",
       "      <td>0.354583</td>\n",
       "      <td>34.074050</td>\n",
       "      <td>11625.574050</td>\n",
       "      <td>37.102122</td>\n",
       "      <td>12088.502122</td>\n",
       "    </tr>\n",
       "    <tr>\n",
       "      <th>2015-06-01</th>\n",
       "      <td>-0.876129</td>\n",
       "      <td>1.174794</td>\n",
       "      <td>33.197921</td>\n",
       "      <td>11624.697921</td>\n",
       "      <td>38.276916</td>\n",
       "      <td>12089.676916</td>\n",
       "    </tr>\n",
       "    <tr>\n",
       "      <th>2015-07-01</th>\n",
       "      <td>-2.799290</td>\n",
       "      <td>0.149846</td>\n",
       "      <td>30.398631</td>\n",
       "      <td>11621.898631</td>\n",
       "      <td>38.426762</td>\n",
       "      <td>12089.826762</td>\n",
       "    </tr>\n",
       "    <tr>\n",
       "      <th>2015-08-01</th>\n",
       "      <td>-1.741268</td>\n",
       "      <td>1.028144</td>\n",
       "      <td>28.657362</td>\n",
       "      <td>11620.157362</td>\n",
       "      <td>39.454905</td>\n",
       "      <td>12090.854905</td>\n",
       "    </tr>\n",
       "    <tr>\n",
       "      <th>2015-09-01</th>\n",
       "      <td>-2.358725</td>\n",
       "      <td>0.362039</td>\n",
       "      <td>26.298637</td>\n",
       "      <td>11617.798637</td>\n",
       "      <td>39.816944</td>\n",
       "      <td>12091.216944</td>\n",
       "    </tr>\n",
       "    <tr>\n",
       "      <th>2015-10-01</th>\n",
       "      <td>-1.981100</td>\n",
       "      <td>0.840090</td>\n",
       "      <td>24.317537</td>\n",
       "      <td>11615.817537</td>\n",
       "      <td>40.657035</td>\n",
       "      <td>12092.057035</td>\n",
       "    </tr>\n",
       "    <tr>\n",
       "      <th>2015-11-01</th>\n",
       "      <td>-2.220003</td>\n",
       "      <td>0.506610</td>\n",
       "      <td>22.097534</td>\n",
       "      <td>11613.597534</td>\n",
       "      <td>41.163644</td>\n",
       "      <td>12092.563644</td>\n",
       "    </tr>\n",
       "    <tr>\n",
       "      <th>2015-12-01</th>\n",
       "      <td>-2.065368</td>\n",
       "      <td>0.735644</td>\n",
       "      <td>20.032167</td>\n",
       "      <td>11611.532167</td>\n",
       "      <td>41.899288</td>\n",
       "      <td>12093.299288</td>\n",
       "    </tr>\n",
       "  </tbody>\n",
       "</table>\n",
       "</div>"
      ],
      "text/plain": [
       "                Money   Spending    Money1d  MoneyForecast  Spending1d  \\\n",
       "2015-01-01 -54.314987  35.077045  24.285013   11615.785013   45.677045   \n",
       "2015-02-01  25.132058 -13.771814  49.417071   11640.917071   31.905231   \n",
       "2015-03-01 -13.865279   5.030351  35.551792   11627.051792   36.935582   \n",
       "2015-04-01   3.133562  -0.188043  38.685354   11630.185354   36.747539   \n",
       "2015-05-01  -4.611304   0.354583  34.074050   11625.574050   37.102122   \n",
       "2015-06-01  -0.876129   1.174794  33.197921   11624.697921   38.276916   \n",
       "2015-07-01  -2.799290   0.149846  30.398631   11621.898631   38.426762   \n",
       "2015-08-01  -1.741268   1.028144  28.657362   11620.157362   39.454905   \n",
       "2015-09-01  -2.358725   0.362039  26.298637   11617.798637   39.816944   \n",
       "2015-10-01  -1.981100   0.840090  24.317537   11615.817537   40.657035   \n",
       "2015-11-01  -2.220003   0.506610  22.097534   11613.597534   41.163644   \n",
       "2015-12-01  -2.065368   0.735644  20.032167   11611.532167   41.899288   \n",
       "\n",
       "            SpendingForecast  \n",
       "2015-01-01      12097.077045  \n",
       "2015-02-01      12083.305231  \n",
       "2015-03-01      12088.335582  \n",
       "2015-04-01      12088.147539  \n",
       "2015-05-01      12088.502122  \n",
       "2015-06-01      12089.676916  \n",
       "2015-07-01      12089.826762  \n",
       "2015-08-01      12090.854905  \n",
       "2015-09-01      12091.216944  \n",
       "2015-10-01      12092.057035  \n",
       "2015-11-01      12092.563644  \n",
       "2015-12-01      12093.299288  "
      ]
     },
     "execution_count": 107,
     "metadata": {},
     "output_type": "execute_result"
    }
   ],
   "source": [
    "df_forecast"
   ]
  },
  {
   "cell_type": "code",
   "execution_count": 108,
   "metadata": {},
   "outputs": [],
   "source": [
    "df_merged = pd.concat([df.iloc[-12:],df_forecast[['MoneyForecast','SpendingForecast']]],axis=1)"
   ]
  },
  {
   "cell_type": "code",
   "execution_count": 109,
   "metadata": {},
   "outputs": [
    {
     "data": {
      "text/plain": [
       "<matplotlib.axes._subplots.AxesSubplot at 0x1c4361ea90>"
      ]
     },
     "execution_count": 109,
     "metadata": {},
     "output_type": "execute_result"
    },
    {
     "data": {
      "image/png": "[encoded data removed]",
      "text/plain": [
       "<Figure size 432x288 with 1 Axes>"
      ]
     },
     "metadata": {
      "needs_background": "light"
     },
     "output_type": "display_data"
    }
   ],
   "source": [
    "df_merged.plot(legend=True)"
   ]
  },
  {
   "cell_type": "code",
   "execution_count": 110,
   "metadata": {},
   "outputs": [
    {
     "data": {
      "text/plain": [
       "449.46893679203544"
      ]
     },
     "execution_count": 110,
     "metadata": {},
     "output_type": "execute_result"
    }
   ],
   "source": [
    "rmse(df_merged['Money'],df_merged['MoneyForecast'])"
   ]
  },
  {
   "cell_type": "code",
   "execution_count": 111,
   "metadata": {},
   "outputs": [
    {
     "data": {
      "text/plain": [
       "245.99446031834196"
      ]
     },
     "execution_count": 111,
     "metadata": {},
     "output_type": "execute_result"
    }
   ],
   "source": [
    "rmse(df_merged['Spending'],df_merged['SpendingForecast'])"
   ]
  },
  {
   "cell_type": "code",
   "execution_count": null,
   "metadata": {},
   "outputs": [],
   "source": []
  }
 ],
 "metadata": {
  "kernelspec": {
   "display_name": "Python 3",
   "language": "python",
   "name": "python3"
  },
  "language_info": {
   "codemirror_mode": {
    "name": "ipython",
    "version": 3
   },
   "file_extension": ".py",
   "mimetype": "text/x-python",
   "name": "python",
   "nbconvert_exporter": "python",
   "pygments_lexer": "ipython3",
   "version": "3.7.2"
  }
 },
 "nbformat": 4,
 "nbformat_minor": 2
}
