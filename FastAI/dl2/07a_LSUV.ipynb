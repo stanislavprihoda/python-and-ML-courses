{
  "nbformat": 4,
  "nbformat_minor": 0,
  "metadata": {
    "colab": {
      "name": "07a_LSUV.ipynb",
      "version": "0.3.2",
      "provenance": []
    },
    "kernelspec": {
      "name": "python3",
      "display_name": "Python 3"
    },
    "accelerator": "GPU"
  },
  "cells": [
    {
      "cell_type": "code",
      "metadata": {
        "id": "gQFZ3kU_pSF7",
        "colab_type": "code",
        "colab": {}
      },
      "source": [
        "from google.colab import drive\n",
        "drive.mount('/content/gdrive')\n",
        "import sys\n",
        "sys.path.append('//content/gdrive/My Drive/Colab Notebooks/')"
      ],
      "execution_count": 0,
      "outputs": []
    },
    {
      "cell_type": "code",
      "metadata": {
        "id": "STrtOIvNHlRV",
        "colab_type": "code",
        "colab": {}
      },
      "source": [
        "#export\n",
        "from exp.nb_07 import *"
      ],
      "execution_count": 0,
      "outputs": []
    },
    {
      "cell_type": "code",
      "metadata": {
        "id": "Rm6FK7cxHx9f",
        "colab_type": "code",
        "colab": {}
      },
      "source": [
        "x_train,y_train,x_valid,y_valid = get_data()\n",
        "\n",
        "x_train,x_valid = normalize_to(x_train,x_valid)\n",
        "train_ds,valid_ds = Dataset(x_train, y_train),Dataset(x_valid, y_valid)\n",
        "\n",
        "nh,bs = 50,512\n",
        "c = y_train.max().item()+1\n",
        "loss_func = F.cross_entropy\n",
        "\n",
        "data = DataBunch(*get_dls(train_ds, valid_ds, bs), c)"
      ],
      "execution_count": 0,
      "outputs": []
    },
    {
      "cell_type": "code",
      "metadata": {
        "id": "E5qkBVjS5GrV",
        "colab_type": "code",
        "colab": {}
      },
      "source": [
        "mnist_view = view_tfm(1,28,28)\n",
        "cbfs = [Recorder,\n",
        "        partial(AvgStatsCallback,accuracy),\n",
        "        CudaCallback,\n",
        "        partial(BatchTransformXCallback, mnist_view)]"
      ],
      "execution_count": 0,
      "outputs": []
    },
    {
      "cell_type": "code",
      "metadata": {
        "id": "7deDsatb5ld0",
        "colab_type": "code",
        "colab": {}
      },
      "source": [
        "nfs = [8,16,32,64,64]"
      ],
      "execution_count": 0,
      "outputs": []
    },
    {
      "cell_type": "code",
      "metadata": {
        "id": "yOxxbi4b5mvR",
        "colab_type": "code",
        "colab": {}
      },
      "source": [
        "class ConvLayer(nn.Module):\n",
        "  def __init__(self,ni,nf,ks=3,stride=2,sub=0.,**kwargs):\n",
        "    super().__init__()\n",
        "    self.conv = nn.Conv2d(ni,nf,ks,padding=ks//2,stride=stride,bias=True)\n",
        "    self.relu = GeneralRelu(sub=sub, **kwargs)\n",
        "   \n",
        "  def forward(self,x): return self.relu(self.conv(x))\n",
        "  \n",
        "  @property\n",
        "  def bias(self): return -self.relu.sub\n",
        "  @bias.setter\n",
        "  def bias(self,v): self.relu.sub = -v\n",
        "  @property\n",
        "  def weight(self): return self.conv.weight"
      ],
      "execution_count": 0,
      "outputs": []
    },
    {
      "cell_type": "code",
      "metadata": {
        "id": "9qMOM1IA7HiK",
        "colab_type": "code",
        "colab": {}
      },
      "source": [
        "learn,run = get_learn_run(nfs,data,0.6,ConvLayer, cbs=cbfs)"
      ],
      "execution_count": 0,
      "outputs": []
    },
    {
      "cell_type": "code",
      "metadata": {
        "id": "tHjkwdVw7R1d",
        "colab_type": "code",
        "colab": {
          "base_uri": "https://localhost:8080/",
          "height": 85
        },
        "outputId": "14965a8c-7265-4d3d-d3ec-0809cf2004b0"
      },
      "source": [
        "run.fit(2,learn)"
      ],
      "execution_count": 8,
      "outputs": [
        {
          "output_type": "stream",
          "text": [
            "train: [1.7463371040894813, tensor(0.3955, device='cuda:0')]\n",
            "valid: [0.52816435546875, tensor(0.8336, device='cuda:0')]\n",
            "train: [0.36176760172106553, tensor(0.8899, device='cuda:0')]\n",
            "valid: [0.18754342041015626, tensor(0.9429, device='cuda:0')]\n"
          ],
          "name": "stdout"
        }
      ]
    },
    {
      "cell_type": "code",
      "metadata": {
        "id": "f7fvGX6k7owj",
        "colab_type": "code",
        "colab": {}
      },
      "source": [
        "learn,run = get_learn_run(nfs,data,0.6,ConvLayer, cbs=cbfs)"
      ],
      "execution_count": 0,
      "outputs": []
    },
    {
      "cell_type": "code",
      "metadata": {
        "id": "x7byG2BH75uW",
        "colab_type": "code",
        "colab": {}
      },
      "source": [
        "#export\n",
        "def get_batch(dl,run):\n",
        "  run.xb,run.yb=next(iter(dl))\n",
        "  for cb in run.cbs: cb.set_runner(run)\n",
        "  run('begin_batch')\n",
        "  return run.xb,run.yb"
      ],
      "execution_count": 0,
      "outputs": []
    },
    {
      "cell_type": "code",
      "metadata": {
        "id": "UrQN5pj78MU1",
        "colab_type": "code",
        "colab": {}
      },
      "source": [
        "xb,yb=get_batch(data.train_dl,run)"
      ],
      "execution_count": 0,
      "outputs": []
    },
    {
      "cell_type": "code",
      "metadata": {
        "id": "JtZjXhMM8QbR",
        "colab_type": "code",
        "colab": {}
      },
      "source": [
        "#export\n",
        "def find_modules(m,cond):\n",
        "  if cond(m): return [m]\n",
        "  return sum([find_modules(o,cond) for o in m.children()],[])\n",
        "\n",
        "def is_lin_layer(l):\n",
        "  lin_layers = (nn.Conv1d,nn.Conv2d,nn.Conv3d,nn.Linear,nn.ReLU)\n",
        "  return isinstance(l,lin_layers)"
      ],
      "execution_count": 0,
      "outputs": []
    },
    {
      "cell_type": "code",
      "metadata": {
        "id": "raD1-U9z9aSt",
        "colab_type": "code",
        "colab": {}
      },
      "source": [
        "mods = find_modules(learn.model, lambda o:isinstance(o,ConvLayer))"
      ],
      "execution_count": 0,
      "outputs": []
    },
    {
      "cell_type": "code",
      "metadata": {
        "id": "X2AjJKh29qMU",
        "colab_type": "code",
        "colab": {
          "base_uri": "https://localhost:8080/",
          "height": 289
        },
        "outputId": "0d4df5e4-981b-40de-86c5-2af97aa43584"
      },
      "source": [
        "mods"
      ],
      "execution_count": 14,
      "outputs": [
        {
          "output_type": "execute_result",
          "data": {
            "text/plain": [
              "[ConvLayer(\n",
              "   (conv): Conv2d(1, 8, kernel_size=(5, 5), stride=(2, 2), padding=(2, 2))\n",
              "   (relu): GeneralRelu()\n",
              " ), ConvLayer(\n",
              "   (conv): Conv2d(8, 16, kernel_size=(3, 3), stride=(2, 2), padding=(1, 1))\n",
              "   (relu): GeneralRelu()\n",
              " ), ConvLayer(\n",
              "   (conv): Conv2d(16, 32, kernel_size=(3, 3), stride=(2, 2), padding=(1, 1))\n",
              "   (relu): GeneralRelu()\n",
              " ), ConvLayer(\n",
              "   (conv): Conv2d(32, 64, kernel_size=(3, 3), stride=(2, 2), padding=(1, 1))\n",
              "   (relu): GeneralRelu()\n",
              " ), ConvLayer(\n",
              "   (conv): Conv2d(64, 64, kernel_size=(3, 3), stride=(2, 2), padding=(1, 1))\n",
              "   (relu): GeneralRelu()\n",
              " )]"
            ]
          },
          "metadata": {
            "tags": []
          },
          "execution_count": 14
        }
      ]
    },
    {
      "cell_type": "code",
      "metadata": {
        "id": "fKz6mcI89rFh",
        "colab_type": "code",
        "colab": {}
      },
      "source": [
        "def append_stat(hook,mod,inp,outp):\n",
        "  d=outp.data\n",
        "  hook.mean,hook.std = d.mean().item(),d.std().item()"
      ],
      "execution_count": 0,
      "outputs": []
    },
    {
      "cell_type": "code",
      "metadata": {
        "id": "MFDZuQ5A-hwT",
        "colab_type": "code",
        "colab": {}
      },
      "source": [
        "mdl = learn.model.cuda()"
      ],
      "execution_count": 0,
      "outputs": []
    },
    {
      "cell_type": "code",
      "metadata": {
        "id": "QS4dMi3H-k73",
        "colab_type": "code",
        "colab": {
          "base_uri": "https://localhost:8080/",
          "height": 102
        },
        "outputId": "37a06cca-8c32-4b51-905e-678a76fbe53c"
      },
      "source": [
        "with Hooks(mods,append_stat) as hooks:\n",
        "  mdl(xb)\n",
        "  for hook in hooks: print(hook.mean,hook.std)"
      ],
      "execution_count": 17,
      "outputs": [
        {
          "output_type": "stream",
          "text": [
            "0.459943950176239 0.9293095469474792\n",
            "0.3730125427246094 0.7919470071792603\n",
            "0.35924965143203735 0.6614606380462646\n",
            "0.34195855259895325 0.5717957615852356\n",
            "0.2402404397726059 0.3327358067035675\n"
          ],
          "name": "stdout"
        }
      ]
    },
    {
      "cell_type": "code",
      "metadata": {
        "id": "JUW_YarX-xvk",
        "colab_type": "code",
        "colab": {}
      },
      "source": [
        "#export \n",
        "def lsuv_module(m,xb):\n",
        "  h = Hook(m,append_stat)\n",
        "  \n",
        "  while mdl(xb) is not None and abs(h.mean) > 1e-3: m.bias -= h.mean\n",
        "  while mdl(xb) is not None and abs(h.std-1) > 1e-3: m.weight.data /= h.std\n",
        "    \n",
        "  h.remove()\n",
        "  return h.mean,h.std"
      ],
      "execution_count": 0,
      "outputs": []
    },
    {
      "cell_type": "code",
      "metadata": {
        "id": "XoahnyMmAWdi",
        "colab_type": "code",
        "colab": {
          "base_uri": "https://localhost:8080/",
          "height": 102
        },
        "outputId": "93b90071-e13c-4176-8193-7d6b2c3d4066"
      },
      "source": [
        "for m in mods: print(lsuv_module(m,xb))"
      ],
      "execution_count": 19,
      "outputs": [
        {
          "output_type": "stream",
          "text": [
            "(0.034986890852451324, 1.0)\n",
            "(0.09375637024641037, 1.0)\n",
            "(0.14342403411865234, 1.0)\n",
            "(0.15085163712501526, 1.0)\n",
            "(0.31061404943466187, 0.9999998807907104)\n"
          ],
          "name": "stdout"
        }
      ]
    },
    {
      "cell_type": "code",
      "metadata": {
        "id": "Xoq-ORu4Blur",
        "colab_type": "code",
        "colab": {
          "base_uri": "https://localhost:8080/",
          "height": 119
        },
        "outputId": "c5c458c1-846d-43d3-cf45-898240570043"
      },
      "source": [
        "%time run.fit(2,learn)"
      ],
      "execution_count": 20,
      "outputs": [
        {
          "output_type": "stream",
          "text": [
            "train: [0.524281806552533, tensor(0.8320, device='cuda:0')]\n",
            "valid: [0.1550531005859375, tensor(0.9514, device='cuda:0')]\n",
            "train: [0.1099058819800308, tensor(0.9664, device='cuda:0')]\n",
            "valid: [0.0853405029296875, tensor(0.9740, device='cuda:0')]\n",
            "CPU times: user 1.85 s, sys: 373 ms, total: 2.23 s\n",
            "Wall time: 2.24 s\n"
          ],
          "name": "stdout"
        }
      ]
    },
    {
      "cell_type": "code",
      "metadata": {
        "id": "LyA6VjkwCldr",
        "colab_type": "code",
        "colab": {}
      },
      "source": [
        "!python notebook2script.py 07a_lsuv.ipynb"
      ],
      "execution_count": 0,
      "outputs": []
    }
  ]
}