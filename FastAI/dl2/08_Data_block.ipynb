{
  "nbformat": 4,
  "nbformat_minor": 0,
  "metadata": {
    "colab": {
      "name": "08_Data_block.ipynb",
      "version": "0.3.2",
      "provenance": []
    },
    "kernelspec": {
      "name": "python3",
      "display_name": "Python 3"
    },
    "accelerator": "GPU"
  },
  "cells": [
    {
      "cell_type": "code",
      "metadata": {
        "id": "CVcsbpbfDOBL",
        "colab_type": "code",
        "colab": {}
      },
      "source": [
        "from google.colab import drive\n",
        "drive.mount('/content/gdrive')\n",
        "import sys\n",
        "sys.path.append('//content/gdrive/My Drive/Colab Notebooks/')"
      ],
      "execution_count": 0,
      "outputs": []
    },
    {
      "cell_type": "code",
      "metadata": {
        "id": "GW-lYoP0FjMu",
        "colab_type": "code",
        "colab": {}
      },
      "source": [
        "#export\n",
        "from exp.nb_07a import *"
      ],
      "execution_count": 0,
      "outputs": []
    },
    {
      "cell_type": "code",
      "metadata": {
        "id": "wn8ZLxWmLaEV",
        "colab_type": "code",
        "outputId": "27e69da1-75f5-4fe8-e150-4b8c13b9f0c0",
        "colab": {
          "base_uri": "https://localhost:8080/",
          "height": 34
        }
      },
      "source": [
        "datasets.URLs.IMAGENETTE_160"
      ],
      "execution_count": 3,
      "outputs": [
        {
          "output_type": "execute_result",
          "data": {
            "text/plain": [
              "'https://s3.amazonaws.com/fast-ai-imageclas/imagenette-160'"
            ]
          },
          "metadata": {
            "tags": []
          },
          "execution_count": 3
        }
      ]
    },
    {
      "cell_type": "code",
      "metadata": {
        "id": "Dudszz4mLbf3",
        "colab_type": "code",
        "outputId": "229802c0-8606-44fd-a018-ca92441ec1c9",
        "colab": {
          "base_uri": "https://localhost:8080/",
          "height": 34
        }
      },
      "source": [
        "path = datasets.untar_data(datasets.URLs.IMAGENETTE_160)\n",
        "path"
      ],
      "execution_count": 4,
      "outputs": [
        {
          "output_type": "execute_result",
          "data": {
            "text/plain": [
              "PosixPath('/root/.fastai/data/imagenette-160')"
            ]
          },
          "metadata": {
            "tags": []
          },
          "execution_count": 4
        }
      ]
    },
    {
      "cell_type": "code",
      "metadata": {
        "id": "Wpky3Pl-L971",
        "colab_type": "code",
        "colab": {}
      },
      "source": [
        "#export\n",
        "import PIL,os,mimetypes\n",
        "Path.ls = lambda x: list(x.iterdir())"
      ],
      "execution_count": 0,
      "outputs": []
    },
    {
      "cell_type": "code",
      "metadata": {
        "id": "JstH7hNMMVxf",
        "colab_type": "code",
        "outputId": "056cafa9-a1a7-41a3-9498-c5c8be942b7c",
        "colab": {
          "base_uri": "https://localhost:8080/",
          "height": 51
        }
      },
      "source": [
        "path.ls()"
      ],
      "execution_count": 6,
      "outputs": [
        {
          "output_type": "execute_result",
          "data": {
            "text/plain": [
              "[PosixPath('/root/.fastai/data/imagenette-160/val'),\n",
              " PosixPath('/root/.fastai/data/imagenette-160/train')]"
            ]
          },
          "metadata": {
            "tags": []
          },
          "execution_count": 6
        }
      ]
    },
    {
      "cell_type": "code",
      "metadata": {
        "id": "TlBPjck4MkL4",
        "colab_type": "code",
        "outputId": "71dc1d24-c02a-47e8-bc96-fe0b86a0fa1f",
        "colab": {
          "base_uri": "https://localhost:8080/",
          "height": 187
        }
      },
      "source": [
        "(path/'val').ls()"
      ],
      "execution_count": 7,
      "outputs": [
        {
          "output_type": "execute_result",
          "data": {
            "text/plain": [
              "[PosixPath('/root/.fastai/data/imagenette-160/val/n03888257'),\n",
              " PosixPath('/root/.fastai/data/imagenette-160/val/n03028079'),\n",
              " PosixPath('/root/.fastai/data/imagenette-160/val/n03417042'),\n",
              " PosixPath('/root/.fastai/data/imagenette-160/val/n03000684'),\n",
              " PosixPath('/root/.fastai/data/imagenette-160/val/n03394916'),\n",
              " PosixPath('/root/.fastai/data/imagenette-160/val/n02979186'),\n",
              " PosixPath('/root/.fastai/data/imagenette-160/val/n01440764'),\n",
              " PosixPath('/root/.fastai/data/imagenette-160/val/n02102040'),\n",
              " PosixPath('/root/.fastai/data/imagenette-160/val/n03425413'),\n",
              " PosixPath('/root/.fastai/data/imagenette-160/val/n03445777')]"
            ]
          },
          "metadata": {
            "tags": []
          },
          "execution_count": 7
        }
      ]
    },
    {
      "cell_type": "code",
      "metadata": {
        "id": "2qUDGABCNVXm",
        "colab_type": "code",
        "colab": {}
      },
      "source": [
        "path_tench = path/'val'/'n01440764'"
      ],
      "execution_count": 0,
      "outputs": []
    },
    {
      "cell_type": "code",
      "metadata": {
        "id": "qbl5JVtFNs-d",
        "colab_type": "code",
        "outputId": "b03efb8f-ff45-47bf-c33d-310dbc64ac65",
        "colab": {
          "base_uri": "https://localhost:8080/",
          "height": 54
        }
      },
      "source": [
        "img_fn = path_tench.ls()[0]\n",
        "img_fn"
      ],
      "execution_count": 9,
      "outputs": [
        {
          "output_type": "execute_result",
          "data": {
            "text/plain": [
              "PosixPath('/root/.fastai/data/imagenette-160/val/n01440764/ILSVRC2012_val_00045866.JPEG')"
            ]
          },
          "metadata": {
            "tags": []
          },
          "execution_count": 9
        }
      ]
    },
    {
      "cell_type": "code",
      "metadata": {
        "id": "xyzIIZIDNxZx",
        "colab_type": "code",
        "outputId": "b19279fd-6937-4ee5-defb-5580e508f66b",
        "colab": {
          "base_uri": "https://localhost:8080/",
          "height": 177
        }
      },
      "source": [
        "img = PIL.Image.open(img_fn)\n",
        "img"
      ],
      "execution_count": 10,
      "outputs": [
        {
          "output_type": "execute_result",
          "data": {
            "image/png": "[encoded data removed]",
            "text/plain": [
              "<PIL.JpegImagePlugin.JpegImageFile image mode=RGB size=213x160 at 0x7F188AEC9D30>"
            ]
          },
          "metadata": {
            "tags": []
          },
          "execution_count": 10
        }
      ]
    },
    {
      "cell_type": "code",
      "metadata": {
        "id": "abuyD4ITN3Z5",
        "colab_type": "code",
        "colab": {}
      },
      "source": [
        "import numpy\n",
        "imga = numpy.array(img)"
      ],
      "execution_count": 0,
      "outputs": []
    },
    {
      "cell_type": "code",
      "metadata": {
        "id": "pm5zi5f6OTti",
        "colab_type": "code",
        "outputId": "d0091b3b-b06a-4cac-eb27-e8dfefe1c5c3",
        "colab": {
          "base_uri": "https://localhost:8080/",
          "height": 34
        }
      },
      "source": [
        "imga.shape"
      ],
      "execution_count": 12,
      "outputs": [
        {
          "output_type": "execute_result",
          "data": {
            "text/plain": [
              "(160, 213, 3)"
            ]
          },
          "metadata": {
            "tags": []
          },
          "execution_count": 12
        }
      ]
    },
    {
      "cell_type": "code",
      "metadata": {
        "id": "0S2PCKuhOVNJ",
        "colab_type": "code",
        "outputId": "18eab357-6995-4ba7-ac35-0db227bf090b",
        "colab": {
          "base_uri": "https://localhost:8080/",
          "height": 170
        }
      },
      "source": [
        "imga[:10,:10,0]"
      ],
      "execution_count": 13,
      "outputs": [
        {
          "output_type": "execute_result",
          "data": {
            "text/plain": [
              "array([[193, 194, 195, 196, ..., 200, 200, 205, 205],\n",
              "       [193, 194, 195, 196, ..., 199, 199, 202, 202],\n",
              "       [192, 192, 194, 196, ..., 196, 198, 197, 198],\n",
              "       [191, 192, 193, 194, ..., 195, 195, 193, 196],\n",
              "       ...,\n",
              "       [188, 188, 191, 191, ..., 190, 190, 190, 190],\n",
              "       [187, 188, 188, 191, ..., 189, 190, 188, 188],\n",
              "       [192, 187, 190, 191, ..., 197, 192, 186, 193],\n",
              "       [195, 197, 194, 190, ..., 188, 182, 196, 191]], dtype=uint8)"
            ]
          },
          "metadata": {
            "tags": []
          },
          "execution_count": 13
        }
      ]
    },
    {
      "cell_type": "code",
      "metadata": {
        "id": "N4EtV7xXOnp0",
        "colab_type": "code",
        "colab": {}
      },
      "source": [
        "#export\n",
        "image_extensions = set(k for k,v in mimetypes.types_map.items() if v.startswith('image/'))"
      ],
      "execution_count": 0,
      "outputs": []
    },
    {
      "cell_type": "code",
      "metadata": {
        "id": "EsoAHo4vPl0p",
        "colab_type": "code",
        "outputId": "51de61f0-b8ca-4ba1-dd27-57cff295a36d",
        "colab": {
          "base_uri": "https://localhost:8080/",
          "height": 54
        }
      },
      "source": [
        "' '.join(image_extensions)"
      ],
      "execution_count": 15,
      "outputs": [
        {
          "output_type": "execute_result",
          "data": {
            "text/plain": [
              "'.pgm .tiff .djv .crw .cdr .cpt .djvu .cdt .pbm .ppm .ico .ras .nef .xpm .pat .svg .jpm .jpe .png .ief .jpf .wbmp .gif .bmp .xwd .cr2 .pcx .jng .jpx .pnm .jp2 .jpg .orf .jpeg .rgb .psd .art .xbm .svgz .tif .erf .jpg2'"
            ]
          },
          "metadata": {
            "tags": []
          },
          "execution_count": 15
        }
      ]
    },
    {
      "cell_type": "code",
      "metadata": {
        "id": "vIkNLoYuPoZd",
        "colab_type": "code",
        "colab": {}
      },
      "source": [
        "#export\n",
        "def setify(o): return o if isinstance(o,set) else set(listify(o))"
      ],
      "execution_count": 0,
      "outputs": []
    },
    {
      "cell_type": "code",
      "metadata": {
        "id": "NPZ2Cw82RYhQ",
        "colab_type": "code",
        "colab": {}
      },
      "source": [
        "#test_eq(setify('aa'), {'aa'})\n",
        "test_eq(setify(['aa',1]), {'aa',1})\n",
        "test_eq(setify(None), set())\n",
        "test_eq(setify(1), {1})\n",
        "test_eq(setify({1}), {1})"
      ],
      "execution_count": 0,
      "outputs": []
    },
    {
      "cell_type": "code",
      "metadata": {
        "id": "V4SP6ZgFTDkC",
        "colab_type": "code",
        "colab": {}
      },
      "source": [
        "#export\n",
        "def _get_files(p, fs, extensions=None):\n",
        "    p = Path(p)\n",
        "    res = [p/f for f in fs if not f.startswith('.')\n",
        "           and ((not extensions) or f'.{f.split(\".\")[-1].lower()}' in extensions)]\n",
        "    return res"
      ],
      "execution_count": 0,
      "outputs": []
    },
    {
      "cell_type": "code",
      "metadata": {
        "id": "xpWZqcftTyKJ",
        "colab_type": "code",
        "colab": {}
      },
      "source": [
        "t = [o.name for o in os.scandir(path_tench)]\n",
        "t = _get_files(path/'val',t,extensions=image_extensions)"
      ],
      "execution_count": 0,
      "outputs": []
    },
    {
      "cell_type": "code",
      "metadata": {
        "id": "m2UVRGZkUlq1",
        "colab_type": "code",
        "outputId": "2c69a604-eb13-4f80-a84d-570a7baf0ab8",
        "colab": {
          "base_uri": "https://localhost:8080/",
          "height": 102
        }
      },
      "source": [
        "t[:5]"
      ],
      "execution_count": 20,
      "outputs": [
        {
          "output_type": "execute_result",
          "data": {
            "text/plain": [
              "[PosixPath('/root/.fastai/data/imagenette-160/val/ILSVRC2012_val_00045866.JPEG'),\n",
              " PosixPath('/root/.fastai/data/imagenette-160/val/ILSVRC2012_val_00037596.JPEG'),\n",
              " PosixPath('/root/.fastai/data/imagenette-160/val/ILSVRC2012_val_00046499.JPEG'),\n",
              " PosixPath('/root/.fastai/data/imagenette-160/val/ILSVRC2012_val_00031333.JPEG'),\n",
              " PosixPath('/root/.fastai/data/imagenette-160/val/ILSVRC2012_val_00002138.JPEG')]"
            ]
          },
          "metadata": {
            "tags": []
          },
          "execution_count": 20
        }
      ]
    },
    {
      "cell_type": "code",
      "metadata": {
        "id": "8EFLwmJJVJca",
        "colab_type": "code",
        "colab": {}
      },
      "source": [
        "#export\n",
        "def get_files(path, extensions=None, recurse=False, include=None):\n",
        "    path = Path(path)\n",
        "    extensions = setify(extensions)\n",
        "    extensions = {e.lower() for e in extensions}\n",
        "    if recurse:\n",
        "        res = []\n",
        "        for i,(p,d,f) in enumerate(os.walk(path)): # returns (dirpath, dirnames, filenames)\n",
        "            if include is not None and i==0: d[:] = [o for o in d if o in include]\n",
        "            else:                            d[:] = [o for o in d if not o.startswith('.')]\n",
        "            res += _get_files(p, f, extensions)\n",
        "        return res\n",
        "    else:\n",
        "        f = [o.name for o in os.scandir(path) if o.is_file()]\n",
        "        return _get_files(path, f, extensions)"
      ],
      "execution_count": 0,
      "outputs": []
    },
    {
      "cell_type": "code",
      "metadata": {
        "id": "JMXYUzWjXsqM",
        "colab_type": "code",
        "outputId": "445dc474-e9a7-403a-8004-060f832df272",
        "colab": {
          "base_uri": "https://localhost:8080/",
          "height": 88
        }
      },
      "source": [
        "get_files(path_tench,image_extensions)[:3]"
      ],
      "execution_count": 22,
      "outputs": [
        {
          "output_type": "execute_result",
          "data": {
            "text/plain": [
              "[PosixPath('/root/.fastai/data/imagenette-160/val/n01440764/ILSVRC2012_val_00045866.JPEG'),\n",
              " PosixPath('/root/.fastai/data/imagenette-160/val/n01440764/ILSVRC2012_val_00037596.JPEG'),\n",
              " PosixPath('/root/.fastai/data/imagenette-160/val/n01440764/ILSVRC2012_val_00046499.JPEG')]"
            ]
          },
          "metadata": {
            "tags": []
          },
          "execution_count": 22
        }
      ]
    },
    {
      "cell_type": "code",
      "metadata": {
        "id": "kxEPOVnCYgqF",
        "colab_type": "code",
        "outputId": "ee56677a-79f6-4f3c-bc5c-55ad3d32b150",
        "colab": {
          "base_uri": "https://localhost:8080/",
          "height": 88
        }
      },
      "source": [
        "get_files(path,image_extensions, recurse=True)[:3]"
      ],
      "execution_count": 23,
      "outputs": [
        {
          "output_type": "execute_result",
          "data": {
            "text/plain": [
              "[PosixPath('/root/.fastai/data/imagenette-160/val/n03888257/ILSVRC2012_val_00041925.JPEG'),\n",
              " PosixPath('/root/.fastai/data/imagenette-160/val/n03888257/ILSVRC2012_val_00022496.JPEG'),\n",
              " PosixPath('/root/.fastai/data/imagenette-160/val/n03888257/ILSVRC2012_val_00041706.JPEG')]"
            ]
          },
          "metadata": {
            "tags": []
          },
          "execution_count": 23
        }
      ]
    },
    {
      "cell_type": "code",
      "metadata": {
        "id": "cDLnoikNY1bC",
        "colab_type": "code",
        "outputId": "f3122b9b-4a15-422e-fa13-8bdef56eabc7",
        "colab": {
          "base_uri": "https://localhost:8080/",
          "height": 34
        }
      },
      "source": [
        "all_fns = get_files(path,image_extensions, recurse=True)\n",
        "len(all_fns)"
      ],
      "execution_count": 24,
      "outputs": [
        {
          "output_type": "execute_result",
          "data": {
            "text/plain": [
              "13394"
            ]
          },
          "metadata": {
            "tags": []
          },
          "execution_count": 24
        }
      ]
    },
    {
      "cell_type": "code",
      "metadata": {
        "id": "Na-IyuMpZKaa",
        "colab_type": "code",
        "outputId": "07de6fc7-85ff-4598-f5b1-891203024339",
        "colab": {
          "base_uri": "https://localhost:8080/",
          "height": 34
        }
      },
      "source": [
        "%timeit -n 10 get_files(path,image_extensions, recurse=True)"
      ],
      "execution_count": 25,
      "outputs": [
        {
          "output_type": "stream",
          "text": [
            "10 loops, best of 3: 79.9 ms per loop\n"
          ],
          "name": "stdout"
        }
      ]
    },
    {
      "cell_type": "markdown",
      "metadata": {
        "id": "CrNlPQaNb4EK",
        "colab_type": "text"
      },
      "source": [
        "## prepare for modeling"
      ]
    },
    {
      "cell_type": "markdown",
      "metadata": {
        "id": "KvLqraCzmV3q",
        "colab_type": "text"
      },
      "source": [
        "### get files"
      ]
    },
    {
      "cell_type": "code",
      "metadata": {
        "id": "O_mdQ8pKZVkU",
        "colab_type": "code",
        "colab": {}
      },
      "source": [
        "#export\n",
        "def compose(x, funcs, *args, order_key='_order', **kwargs):\n",
        "    key = lambda o: getattr(o, order_key, 0)\n",
        "    for f in sorted(listify(funcs), key=key): x = f(x, **kwargs)\n",
        "    return x\n",
        "\n",
        "class ItemList(ListContainer):\n",
        "    def __init__(self, items, path='.', tfms=None):\n",
        "        super().__init__(items)\n",
        "        self.path,self.tfms = Path(path),tfms\n",
        "\n",
        "    def __repr__(self): return f'{super().__repr__()}\\nPath: {self.path}'\n",
        "    \n",
        "    def new(self, items, cls=None):\n",
        "        if cls is None: cls=self.__class__\n",
        "        return cls(items, self.path, tfms=self.tfms)\n",
        "    \n",
        "    def  get(self, i): return i\n",
        "    def _get(self, i): return compose(self.get(i), self.tfms)\n",
        "    \n",
        "    def __getitem__(self, idx):\n",
        "        res = super().__getitem__(idx)\n",
        "        if isinstance(res,list): return [self._get(o) for o in res]\n",
        "        return self._get(res)\n",
        "\n",
        "class ImageList(ItemList):\n",
        "    @classmethod\n",
        "    def from_files(cls, path, extensions=None, recurse=True, include=None, **kwargs):\n",
        "        if extensions is None: extensions = image_extensions\n",
        "        return cls(get_files(path, extensions, recurse=recurse, include=include), path, **kwargs)\n",
        "    \n",
        "    def get(self, fn): return PIL.Image.open(fn)"
      ],
      "execution_count": 0,
      "outputs": []
    },
    {
      "cell_type": "code",
      "metadata": {
        "id": "nf5Rvddvhlvt",
        "colab_type": "code",
        "colab": {}
      },
      "source": [
        "#export\n",
        "class Transform(): _order=0\n",
        "\n",
        "class MakeRGB(Transform):\n",
        "    def __call__(self, item): return item.convert('RGB')\n",
        "\n",
        "def make_rgb(item): return item.convert('RGB')"
      ],
      "execution_count": 0,
      "outputs": []
    },
    {
      "cell_type": "code",
      "metadata": {
        "id": "rN1aPvsfirBU",
        "colab_type": "code",
        "colab": {}
      },
      "source": [
        "il = ImageList.from_files(path,tfms=make_rgb)"
      ],
      "execution_count": 0,
      "outputs": []
    },
    {
      "cell_type": "code",
      "metadata": {
        "id": "Fvn7QVDRixEl",
        "colab_type": "code",
        "colab": {
          "base_uri": "https://localhost:8080/",
          "height": 88
        },
        "outputId": "ddcd430d-4d43-400f-f54a-5202a6a3a091"
      },
      "source": [
        "il"
      ],
      "execution_count": 29,
      "outputs": [
        {
          "output_type": "execute_result",
          "data": {
            "text/plain": [
              "ImageList (13394 items)\n",
              "[PosixPath('/root/.fastai/data/imagenette-160/val/n03888257/ILSVRC2012_val_00041925.JPEG'), PosixPath('/root/.fastai/data/imagenette-160/val/n03888257/ILSVRC2012_val_00022496.JPEG'), PosixPath('/root/.fastai/data/imagenette-160/val/n03888257/ILSVRC2012_val_00041706.JPEG'), PosixPath('/root/.fastai/data/imagenette-160/val/n03888257/ILSVRC2012_val_00018509.JPEG'), PosixPath('/root/.fastai/data/imagenette-160/val/n03888257/ILSVRC2012_val_00047778.JPEG'), PosixPath('/root/.fastai/data/imagenette-160/val/n03888257/ILSVRC2012_val_00030583.JPEG'), PosixPath('/root/.fastai/data/imagenette-160/val/n03888257/ILSVRC2012_val_00026575.JPEG'), PosixPath('/root/.fastai/data/imagenette-160/val/n03888257/ILSVRC2012_val_00047147.JPEG'), PosixPath('/root/.fastai/data/imagenette-160/val/n03888257/ILSVRC2012_val_00023107.JPEG'), PosixPath('/root/.fastai/data/imagenette-160/val/n03888257/ILSVRC2012_val_00013527.JPEG')...]\n",
              "Path: /root/.fastai/data/imagenette-160"
            ]
          },
          "metadata": {
            "tags": []
          },
          "execution_count": 29
        }
      ]
    },
    {
      "cell_type": "code",
      "metadata": {
        "id": "rgUy4Pn5jlWu",
        "colab_type": "code",
        "colab": {
          "base_uri": "https://localhost:8080/",
          "height": 177
        },
        "outputId": "febfe9e6-b55b-4fb2-8716-7c6be6006036"
      },
      "source": [
        "il[1]"
      ],
      "execution_count": 30,
      "outputs": [
        {
          "output_type": "execute_result",
          "data": {
            "image/png": "[encoded data removed]",
            "text/plain": [
              "<PIL.Image.Image image mode=RGB size=215x160 at 0x7F188A9CDFD0>"
            ]
          },
          "metadata": {
            "tags": []
          },
          "execution_count": 30
        }
      ]
    },
    {
      "cell_type": "code",
      "metadata": {
        "id": "0r3LtcGij4a5",
        "colab_type": "code",
        "colab": {
          "base_uri": "https://localhost:8080/",
          "height": 51
        },
        "outputId": "8f78b043-14c3-4687-bc99-649b60cc0ca2"
      },
      "source": [
        "il[:2]"
      ],
      "execution_count": 31,
      "outputs": [
        {
          "output_type": "execute_result",
          "data": {
            "text/plain": [
              "[<PIL.Image.Image image mode=RGB size=160x160 at 0x7F188A9CDC88>,\n",
              " <PIL.Image.Image image mode=RGB size=215x160 at 0x7F188A9C5940>]"
            ]
          },
          "metadata": {
            "tags": []
          },
          "execution_count": 31
        }
      ]
    },
    {
      "cell_type": "markdown",
      "metadata": {
        "id": "edfuKrz3mYIu",
        "colab_type": "text"
      },
      "source": [
        "### split validation set"
      ]
    },
    {
      "cell_type": "code",
      "metadata": {
        "id": "gSuym_aPmLuL",
        "colab_type": "code",
        "colab": {
          "base_uri": "https://localhost:8080/",
          "height": 54
        },
        "outputId": "a98697a2-06e2-411a-c52b-1ef49e3e3205"
      },
      "source": [
        "fn = il.items[0];fn"
      ],
      "execution_count": 32,
      "outputs": [
        {
          "output_type": "execute_result",
          "data": {
            "text/plain": [
              "PosixPath('/root/.fastai/data/imagenette-160/val/n03888257/ILSVRC2012_val_00041925.JPEG')"
            ]
          },
          "metadata": {
            "tags": []
          },
          "execution_count": 32
        }
      ]
    },
    {
      "cell_type": "code",
      "metadata": {
        "id": "OD_ra-0rmibY",
        "colab_type": "code",
        "colab": {
          "base_uri": "https://localhost:8080/",
          "height": 34
        },
        "outputId": "0aa64ef2-019d-4e1b-9ef2-ea67dd0f94a8"
      },
      "source": [
        "fn.parent.parent.name"
      ],
      "execution_count": 33,
      "outputs": [
        {
          "output_type": "execute_result",
          "data": {
            "text/plain": [
              "'val'"
            ]
          },
          "metadata": {
            "tags": []
          },
          "execution_count": 33
        }
      ]
    },
    {
      "cell_type": "code",
      "metadata": {
        "id": "crRuzTE0mtF0",
        "colab_type": "code",
        "colab": {}
      },
      "source": [
        "#export\n",
        "def grandparent_splitter(fn, valid_name='valid', train_name='train'):\n",
        "    gp = fn.parent.parent.name\n",
        "    return True if gp==valid_name else False if gp==train_name else None\n",
        "\n",
        "def split_by_func(items, f):\n",
        "    mask = [f(o) for o in items]\n",
        "    # `None` values will be filtered out\n",
        "    f = [o for o,m in zip(items,mask) if m==False]\n",
        "    t = [o for o,m in zip(items,mask) if m==True ]\n",
        "    return f,t"
      ],
      "execution_count": 0,
      "outputs": []
    },
    {
      "cell_type": "code",
      "metadata": {
        "id": "Y37URlCMn0W8",
        "colab_type": "code",
        "colab": {}
      },
      "source": [
        "splitter = partial(grandparent_splitter,valid_name='val')"
      ],
      "execution_count": 0,
      "outputs": []
    },
    {
      "cell_type": "code",
      "metadata": {
        "id": "WlCaQAckotS7",
        "colab_type": "code",
        "colab": {
          "base_uri": "https://localhost:8080/",
          "height": 51
        },
        "outputId": "5eedbe9b-6452-424b-d748-53b5c26ae366"
      },
      "source": [
        "%time train,valid = split_by_func(il,splitter)"
      ],
      "execution_count": 36,
      "outputs": [
        {
          "output_type": "stream",
          "text": [
            "CPU times: user 45 ms, sys: 980 µs, total: 46 ms\n",
            "Wall time: 50.6 ms\n"
          ],
          "name": "stdout"
        }
      ]
    },
    {
      "cell_type": "code",
      "metadata": {
        "id": "iFwz_oddo9pr",
        "colab_type": "code",
        "colab": {
          "base_uri": "https://localhost:8080/",
          "height": 34
        },
        "outputId": "3ec22fca-75b1-4dad-cc99-f7bb1d2d61fc"
      },
      "source": [
        "len(train),len(valid)"
      ],
      "execution_count": 37,
      "outputs": [
        {
          "output_type": "execute_result",
          "data": {
            "text/plain": [
              "(12894, 500)"
            ]
          },
          "metadata": {
            "tags": []
          },
          "execution_count": 37
        }
      ]
    },
    {
      "cell_type": "code",
      "metadata": {
        "id": "5sTO_fdEpPGF",
        "colab_type": "code",
        "colab": {}
      },
      "source": [
        "#export\n",
        "class SplitData():\n",
        "    def __init__(self, train, valid): self.train,self.valid = train,valid\n",
        "        \n",
        "    def __getattr__(self,k): return getattr(self.train,k)\n",
        "    #This is needed if we want to pickle SplitData and be able to load it back without recursion errors\n",
        "    def __setstate__(self,data:Any): self.__dict__.update(data) \n",
        "    \n",
        "    @classmethod\n",
        "    def split_by_func(cls, il, f):\n",
        "        lists = map(il.new, split_by_func(il.items, f))\n",
        "        return cls(*lists)\n",
        "\n",
        "    def __repr__(self): return f'{self.__class__.__name__}\\nTrain: {self.train}\\nValid: {self.valid}\\n'"
      ],
      "execution_count": 0,
      "outputs": []
    },
    {
      "cell_type": "code",
      "metadata": {
        "id": "M49Ga4y3qMXT",
        "colab_type": "code",
        "colab": {
          "base_uri": "https://localhost:8080/",
          "height": 156
        },
        "outputId": "546bc8c2-a073-4b25-9452-144a13111baf"
      },
      "source": [
        "sd = SplitData.split_by_func(il, splitter); sd"
      ],
      "execution_count": 39,
      "outputs": [
        {
          "output_type": "execute_result",
          "data": {
            "text/plain": [
              "SplitData\n",
              "Train: ImageList (12894 items)\n",
              "[PosixPath('/root/.fastai/data/imagenette-160/train/n03888257/n03888257_49674.JPEG'), PosixPath('/root/.fastai/data/imagenette-160/train/n03888257/n03888257_32001.JPEG'), PosixPath('/root/.fastai/data/imagenette-160/train/n03888257/n03888257_20704.JPEG'), PosixPath('/root/.fastai/data/imagenette-160/train/n03888257/n03888257_8415.JPEG'), PosixPath('/root/.fastai/data/imagenette-160/train/n03888257/n03888257_6395.JPEG'), PosixPath('/root/.fastai/data/imagenette-160/train/n03888257/n03888257_8193.JPEG'), PosixPath('/root/.fastai/data/imagenette-160/train/n03888257/n03888257_19580.JPEG'), PosixPath('/root/.fastai/data/imagenette-160/train/n03888257/n03888257_9456.JPEG'), PosixPath('/root/.fastai/data/imagenette-160/train/n03888257/n03888257_11609.JPEG'), PosixPath('/root/.fastai/data/imagenette-160/train/n03888257/n03888257_19702.JPEG')...]\n",
              "Path: /root/.fastai/data/imagenette-160\n",
              "Valid: ImageList (500 items)\n",
              "[PosixPath('/root/.fastai/data/imagenette-160/val/n03888257/ILSVRC2012_val_00041925.JPEG'), PosixPath('/root/.fastai/data/imagenette-160/val/n03888257/ILSVRC2012_val_00022496.JPEG'), PosixPath('/root/.fastai/data/imagenette-160/val/n03888257/ILSVRC2012_val_00041706.JPEG'), PosixPath('/root/.fastai/data/imagenette-160/val/n03888257/ILSVRC2012_val_00018509.JPEG'), PosixPath('/root/.fastai/data/imagenette-160/val/n03888257/ILSVRC2012_val_00047778.JPEG'), PosixPath('/root/.fastai/data/imagenette-160/val/n03888257/ILSVRC2012_val_00030583.JPEG'), PosixPath('/root/.fastai/data/imagenette-160/val/n03888257/ILSVRC2012_val_00026575.JPEG'), PosixPath('/root/.fastai/data/imagenette-160/val/n03888257/ILSVRC2012_val_00047147.JPEG'), PosixPath('/root/.fastai/data/imagenette-160/val/n03888257/ILSVRC2012_val_00023107.JPEG'), PosixPath('/root/.fastai/data/imagenette-160/val/n03888257/ILSVRC2012_val_00013527.JPEG')...]\n",
              "Path: /root/.fastai/data/imagenette-160"
            ]
          },
          "metadata": {
            "tags": []
          },
          "execution_count": 39
        }
      ]
    },
    {
      "cell_type": "markdown",
      "metadata": {
        "id": "x6avkcpUthKz",
        "colab_type": "text"
      },
      "source": [
        "### labeling"
      ]
    },
    {
      "cell_type": "code",
      "metadata": {
        "id": "Jr-0uQQhrDvw",
        "colab_type": "code",
        "colab": {}
      },
      "source": [
        "#export\n",
        "from collections import OrderedDict\n",
        "\n",
        "def uniqueify(x, sort=False):\n",
        "  res = list(OrderedDict.fromkeys(x).keys())\n",
        "  if sort: res.sort()\n",
        "  return res"
      ],
      "execution_count": 0,
      "outputs": []
    },
    {
      "cell_type": "code",
      "metadata": {
        "id": "0jsFukmQu_r8",
        "colab_type": "code",
        "colab": {}
      },
      "source": [
        "#export\n",
        "class Processor(): \n",
        "    def process(self, items): return items\n",
        "\n",
        "class CategoryProcessor(Processor):\n",
        "    def __init__(self): self.vocab=None\n",
        "    \n",
        "    def __call__(self, items):\n",
        "        #The vocab is defined on the first use.\n",
        "        if self.vocab is None:\n",
        "            self.vocab = uniqueify(items)\n",
        "            self.otoi  = {v:k for k,v in enumerate(self.vocab)}\n",
        "        return [self.proc1(o) for o in items]\n",
        "    def proc1(self, item):  return self.otoi[item]\n",
        "    \n",
        "    def deprocess(self, idxs):\n",
        "        assert self.vocab is not None\n",
        "        return [self.deproc1(idx) for idx in idxs]\n",
        "    def deproc1(self, idx): return self.vocab[idx]"
      ],
      "execution_count": 0,
      "outputs": []
    },
    {
      "cell_type": "code",
      "metadata": {
        "id": "RBQ7bEHUvEvk",
        "colab_type": "code",
        "colab": {}
      },
      "source": [
        "#export\n",
        "def parent_labeler(fn): return fn.parent.name\n",
        "\n",
        "def _label_by_func(ds, f, cls=ItemList): return cls([f(o) for o in ds.items], path=ds.path)\n",
        "\n",
        "#This is a slightly different from what was seen during the lesson,\n",
        "#   we'll discuss the changes in lesson 11\n",
        "class LabeledData():\n",
        "    def process(self, il, proc): return il.new(compose(il.items, proc))\n",
        "\n",
        "    def __init__(self, x, y, proc_x=None, proc_y=None):\n",
        "        self.x,self.y = self.process(x, proc_x),self.process(y, proc_y)\n",
        "        self.proc_x,self.proc_y = proc_x,proc_y\n",
        "        \n",
        "    def __repr__(self): return f'{self.__class__.__name__}\\nx: {self.x}\\ny: {self.y}\\n'\n",
        "    def __getitem__(self,idx): return self.x[idx],self.y[idx]\n",
        "    def __len__(self): return len(self.x)\n",
        "    \n",
        "    def x_obj(self, idx): return self.obj(self.x, idx, self.proc_x)\n",
        "    def y_obj(self, idx): return self.obj(self.y, idx, self.proc_y)\n",
        "    \n",
        "    def obj(self, items, idx, procs):\n",
        "        isint = isinstance(idx, int) or (isinstance(idx,torch.LongTensor) and not idx.ndim)\n",
        "        item = items[idx]\n",
        "        for proc in reversed(listify(procs)):\n",
        "            item = proc.deproc1(item) if isint else proc.deprocess(item)\n",
        "        return item\n",
        "\n",
        "    @classmethod\n",
        "    def label_by_func(cls, il, f, proc_x=None, proc_y=None):\n",
        "        return cls(il, _label_by_func(il, f), proc_x=proc_x, proc_y=proc_y)\n",
        "\n",
        "def label_by_func(sd, f, proc_x=None, proc_y=None):\n",
        "    train = LabeledData.label_by_func(sd.train, f, proc_x=proc_x, proc_y=proc_y)\n",
        "    valid = LabeledData.label_by_func(sd.valid, f, proc_x=proc_x, proc_y=proc_y)\n",
        "    return SplitData(train,valid)"
      ],
      "execution_count": 0,
      "outputs": []
    },
    {
      "cell_type": "code",
      "metadata": {
        "id": "GOTpk7kJyyq_",
        "colab_type": "code",
        "colab": {}
      },
      "source": [
        "ll = label_by_func(sd, parent_labeler, proc_y=CategoryProcessor())"
      ],
      "execution_count": 0,
      "outputs": []
    },
    {
      "cell_type": "code",
      "metadata": {
        "id": "3M2XraaE0xHH",
        "colab_type": "code",
        "colab": {}
      },
      "source": [
        "assert ll.train.proc_y is ll.valid.proc_y"
      ],
      "execution_count": 0,
      "outputs": []
    },
    {
      "cell_type": "code",
      "metadata": {
        "id": "Pl5PMyrW012e",
        "colab_type": "code",
        "colab": {
          "base_uri": "https://localhost:8080/",
          "height": 68
        },
        "outputId": "97435206-77f4-4476-fa32-051a36b2e5a6"
      },
      "source": [
        "ll.train.y"
      ],
      "execution_count": 45,
      "outputs": [
        {
          "output_type": "execute_result",
          "data": {
            "text/plain": [
              "ItemList (12894 items)\n",
              "[0, 0, 0, 0, 0, 0, 0, 0, 0, 0...]\n",
              "Path: /root/.fastai/data/imagenette-160"
            ]
          },
          "metadata": {
            "tags": []
          },
          "execution_count": 45
        }
      ]
    },
    {
      "cell_type": "code",
      "metadata": {
        "id": "YWnxO_e8geHg",
        "colab_type": "code",
        "colab": {
          "base_uri": "https://localhost:8080/",
          "height": 309
        },
        "outputId": "3e901ca9-5d69-4983-807f-53ff833cd0a6"
      },
      "source": [
        "ll"
      ],
      "execution_count": 46,
      "outputs": [
        {
          "output_type": "execute_result",
          "data": {
            "text/plain": [
              "SplitData\n",
              "Train: LabeledData\n",
              "x: ImageList (12894 items)\n",
              "[PosixPath('/root/.fastai/data/imagenette-160/train/n03888257/n03888257_49674.JPEG'), PosixPath('/root/.fastai/data/imagenette-160/train/n03888257/n03888257_32001.JPEG'), PosixPath('/root/.fastai/data/imagenette-160/train/n03888257/n03888257_20704.JPEG'), PosixPath('/root/.fastai/data/imagenette-160/train/n03888257/n03888257_8415.JPEG'), PosixPath('/root/.fastai/data/imagenette-160/train/n03888257/n03888257_6395.JPEG'), PosixPath('/root/.fastai/data/imagenette-160/train/n03888257/n03888257_8193.JPEG'), PosixPath('/root/.fastai/data/imagenette-160/train/n03888257/n03888257_19580.JPEG'), PosixPath('/root/.fastai/data/imagenette-160/train/n03888257/n03888257_9456.JPEG'), PosixPath('/root/.fastai/data/imagenette-160/train/n03888257/n03888257_11609.JPEG'), PosixPath('/root/.fastai/data/imagenette-160/train/n03888257/n03888257_19702.JPEG')...]\n",
              "Path: /root/.fastai/data/imagenette-160\n",
              "y: ItemList (12894 items)\n",
              "[0, 0, 0, 0, 0, 0, 0, 0, 0, 0...]\n",
              "Path: /root/.fastai/data/imagenette-160\n",
              "\n",
              "Valid: LabeledData\n",
              "x: ImageList (500 items)\n",
              "[PosixPath('/root/.fastai/data/imagenette-160/val/n03888257/ILSVRC2012_val_00041925.JPEG'), PosixPath('/root/.fastai/data/imagenette-160/val/n03888257/ILSVRC2012_val_00022496.JPEG'), PosixPath('/root/.fastai/data/imagenette-160/val/n03888257/ILSVRC2012_val_00041706.JPEG'), PosixPath('/root/.fastai/data/imagenette-160/val/n03888257/ILSVRC2012_val_00018509.JPEG'), PosixPath('/root/.fastai/data/imagenette-160/val/n03888257/ILSVRC2012_val_00047778.JPEG'), PosixPath('/root/.fastai/data/imagenette-160/val/n03888257/ILSVRC2012_val_00030583.JPEG'), PosixPath('/root/.fastai/data/imagenette-160/val/n03888257/ILSVRC2012_val_00026575.JPEG'), PosixPath('/root/.fastai/data/imagenette-160/val/n03888257/ILSVRC2012_val_00047147.JPEG'), PosixPath('/root/.fastai/data/imagenette-160/val/n03888257/ILSVRC2012_val_00023107.JPEG'), PosixPath('/root/.fastai/data/imagenette-160/val/n03888257/ILSVRC2012_val_00013527.JPEG')...]\n",
              "Path: /root/.fastai/data/imagenette-160\n",
              "y: ItemList (500 items)\n",
              "[0, 0, 0, 0, 0, 0, 0, 0, 0, 0...]\n",
              "Path: /root/.fastai/data/imagenette-160\n"
            ]
          },
          "metadata": {
            "tags": []
          },
          "execution_count": 46
        }
      ]
    },
    {
      "cell_type": "markdown",
      "metadata": {
        "id": "sl7aV5h0hs4_",
        "colab_type": "text"
      },
      "source": [
        "### transofmring to tensors"
      ]
    },
    {
      "cell_type": "code",
      "metadata": {
        "id": "l73jPqbOhspL",
        "colab_type": "code",
        "colab": {
          "base_uri": "https://localhost:8080/",
          "height": 34
        },
        "outputId": "e5bb2b76-336f-48f8-d322-b26bb9a561c0"
      },
      "source": [
        "ll.train[0]"
      ],
      "execution_count": 47,
      "outputs": [
        {
          "output_type": "execute_result",
          "data": {
            "text/plain": [
              "(<PIL.Image.Image image mode=RGB size=240x160 at 0x7F1888AE6470>, 0)"
            ]
          },
          "metadata": {
            "tags": []
          },
          "execution_count": 47
        }
      ]
    },
    {
      "cell_type": "code",
      "metadata": {
        "id": "KC8VLgk2g0UB",
        "colab_type": "code",
        "colab": {
          "base_uri": "https://localhost:8080/",
          "height": 177
        },
        "outputId": "9e79ee93-2339-460e-b296-b834b234a21e"
      },
      "source": [
        "ll.train[0][0]"
      ],
      "execution_count": 48,
      "outputs": [
        {
          "output_type": "execute_result",
          "data": {
            "image/png": "[encoded data removed]",
            "text/plain": [
              "<PIL.Image.Image image mode=RGB size=240x160 at 0x7F1888ADAE48>"
            ]
          },
          "metadata": {
            "tags": []
          },
          "execution_count": 48
        }
      ]
    },
    {
      "cell_type": "code",
      "metadata": {
        "id": "iuXQHYzwh-dG",
        "colab_type": "code",
        "colab": {
          "base_uri": "https://localhost:8080/",
          "height": 145
        },
        "outputId": "19d60aca-e989-424f-a031-b77bb2c2d8ab"
      },
      "source": [
        "ll.train[0][0].resize((128,128))"
      ],
      "execution_count": 49,
      "outputs": [
        {
          "output_type": "execute_result",
          "data": {
            "image/png": "[encoded data removed]",
            "text/plain": [
              "<PIL.Image.Image image mode=RGB size=128x128 at 0x7F1888AE6C88>"
            ]
          },
          "metadata": {
            "tags": []
          },
          "execution_count": 49
        }
      ]
    },
    {
      "cell_type": "code",
      "metadata": {
        "id": "EhpY2ZL8iVR0",
        "colab_type": "code",
        "colab": {}
      },
      "source": [
        "#export\n",
        "class ResizeFixed(Transform):\n",
        "    _order=10\n",
        "    def __init__(self,size):\n",
        "        if isinstance(size,int): size=(size,size)\n",
        "        self.size = size\n",
        "        \n",
        "    def __call__(self, item): return item.resize(self.size, PIL.Image.BILINEAR)\n",
        "\n",
        "def to_byte_tensor(item):\n",
        "    res = torch.ByteTensor(torch.ByteStorage.from_buffer(item.tobytes()))\n",
        "    w,h = item.size\n",
        "    return res.view(h,w,-1).permute(2,0,1)\n",
        "to_byte_tensor._order=20\n",
        "\n",
        "def to_float_tensor(item): return item.float().div_(255.)\n",
        "to_float_tensor._order=30"
      ],
      "execution_count": 0,
      "outputs": []
    },
    {
      "cell_type": "code",
      "metadata": {
        "id": "7SfgsXx0kAOx",
        "colab_type": "code",
        "colab": {}
      },
      "source": [
        "tfms = [make_rgb,ResizeFixed(128),to_byte_tensor,to_float_tensor]\n",
        "il = ImageList.from_files(path, tfms=tfms)\n",
        "sd = SplitData.split_by_func(il,splitter)\n",
        "ll = label_by_func(sd,parent_labeler,proc_y=CategoryProcessor())"
      ],
      "execution_count": 0,
      "outputs": []
    },
    {
      "cell_type": "code",
      "metadata": {
        "id": "jpgLrlJ6kZ0l",
        "colab_type": "code",
        "colab": {}
      },
      "source": [
        "#export\n",
        "def show_image(im,figsize=(3,3)):\n",
        "  plt.figure(figsize=figsize)\n",
        "  plt.axis('off')\n",
        "  plt.imshow(im.permute(1,2,0))"
      ],
      "execution_count": 0,
      "outputs": []
    },
    {
      "cell_type": "code",
      "metadata": {
        "id": "NRy2UY62k9DS",
        "colab_type": "code",
        "colab": {
          "base_uri": "https://localhost:8080/",
          "height": 34
        },
        "outputId": "2443ee79-f4a4-4d90-f381-8d48a56d1924"
      },
      "source": [
        "x,y = ll.train[0]\n",
        "x.shape"
      ],
      "execution_count": 53,
      "outputs": [
        {
          "output_type": "execute_result",
          "data": {
            "text/plain": [
              "torch.Size([3, 128, 128])"
            ]
          },
          "metadata": {
            "tags": []
          },
          "execution_count": 53
        }
      ]
    },
    {
      "cell_type": "code",
      "metadata": {
        "id": "FLDpTtrwlBBc",
        "colab_type": "code",
        "colab": {
          "base_uri": "https://localhost:8080/",
          "height": 214
        },
        "outputId": "59364966-2a7c-4346-9fdd-f98ab6c5fe08"
      },
      "source": [
        "show_image(x)"
      ],
      "execution_count": 54,
      "outputs": [
        {
          "output_type": "display_data",
          "data": {
            "image/png": "[encoded data removed]",
            "text/plain": [
              "<Figure size 216x216 with 1 Axes>"
            ]
          },
          "metadata": {
            "tags": []
          }
        }
      ]
    },
    {
      "cell_type": "markdown",
      "metadata": {
        "id": "SsyAROmRsFLI",
        "colab_type": "text"
      },
      "source": [
        "## Modeling"
      ]
    },
    {
      "cell_type": "markdown",
      "metadata": {
        "id": "JcYg6MxwsH5F",
        "colab_type": "text"
      },
      "source": [
        "### DataBunch"
      ]
    },
    {
      "cell_type": "code",
      "metadata": {
        "id": "23rwQ9PElEJv",
        "colab_type": "code",
        "colab": {}
      },
      "source": [
        "bs=64"
      ],
      "execution_count": 0,
      "outputs": []
    },
    {
      "cell_type": "code",
      "metadata": {
        "id": "oMg2ilY6sZ2a",
        "colab_type": "code",
        "colab": {}
      },
      "source": [
        "train_dl,valid_dl = get_dls(ll.train,ll.valid,bs,num_workers=4)"
      ],
      "execution_count": 0,
      "outputs": []
    },
    {
      "cell_type": "code",
      "metadata": {
        "id": "JKxKp1jTsiKh",
        "colab_type": "code",
        "colab": {}
      },
      "source": [
        "x,y = next(iter(train_dl))"
      ],
      "execution_count": 0,
      "outputs": []
    },
    {
      "cell_type": "code",
      "metadata": {
        "id": "X5NK-6-zsk_f",
        "colab_type": "code",
        "colab": {
          "base_uri": "https://localhost:8080/",
          "height": 34
        },
        "outputId": "a690b569-e31f-42b7-e6d9-b9219869bb83"
      },
      "source": [
        "x.shape"
      ],
      "execution_count": 58,
      "outputs": [
        {
          "output_type": "execute_result",
          "data": {
            "text/plain": [
              "torch.Size([64, 3, 128, 128])"
            ]
          },
          "metadata": {
            "tags": []
          },
          "execution_count": 58
        }
      ]
    },
    {
      "cell_type": "code",
      "metadata": {
        "id": "USUEdsqRsloY",
        "colab_type": "code",
        "colab": {
          "base_uri": "https://localhost:8080/",
          "height": 231
        },
        "outputId": "e82cfb3e-63e4-4ca2-9b28-2921e10b8f38"
      },
      "source": [
        "show_image(x[0])\n",
        "ll.train.proc_y.vocab[y[0]]"
      ],
      "execution_count": 59,
      "outputs": [
        {
          "output_type": "execute_result",
          "data": {
            "text/plain": [
              "'n03417042'"
            ]
          },
          "metadata": {
            "tags": []
          },
          "execution_count": 59
        },
        {
          "output_type": "display_data",
          "data": {
            "image/png": "[encoded data removed]",
            "text/plain": [
              "<Figure size 216x216 with 1 Axes>"
            ]
          },
          "metadata": {
            "tags": []
          }
        }
      ]
    },
    {
      "cell_type": "code",
      "metadata": {
        "id": "rzROaF5Ysx6C",
        "colab_type": "code",
        "colab": {
          "base_uri": "https://localhost:8080/",
          "height": 68
        },
        "outputId": "f407c7a0-73a8-439b-b2f3-c6d5b402b163"
      },
      "source": [
        "y"
      ],
      "execution_count": 60,
      "outputs": [
        {
          "output_type": "execute_result",
          "data": {
            "text/plain": [
              "tensor([2, 7, 1, 9, 2, 1, 9, 8, 9, 7, 8, 1, 8, 0, 6, 1, 6, 2, 2, 7, 5, 5, 6, 7,\n",
              "        4, 7, 6, 4, 0, 4, 4, 9, 2, 1, 1, 6, 6, 8, 1, 1, 2, 3, 0, 3, 1, 1, 5, 7,\n",
              "        0, 1, 1, 2, 6, 5, 0, 6, 5, 7, 9, 0, 1, 5, 7, 8])"
            ]
          },
          "metadata": {
            "tags": []
          },
          "execution_count": 60
        }
      ]
    },
    {
      "cell_type": "code",
      "metadata": {
        "id": "EtkYSP4ctarB",
        "colab_type": "code",
        "colab": {}
      },
      "source": [
        "#export\n",
        "class DataBunch():\n",
        "    def __init__(self, train_dl, valid_dl, c_in=None, c_out=None):\n",
        "        self.train_dl,self.valid_dl,self.c_in,self.c_out = train_dl,valid_dl,c_in,c_out\n",
        "\n",
        "    @property\n",
        "    def train_ds(self): return self.train_dl.dataset\n",
        "\n",
        "    @property\n",
        "    def valid_ds(self): return self.valid_dl.dataset"
      ],
      "execution_count": 0,
      "outputs": []
    },
    {
      "cell_type": "code",
      "metadata": {
        "id": "UOgl99NKu6pE",
        "colab_type": "code",
        "colab": {}
      },
      "source": [
        "#export\n",
        "def databunchify(sd, bs, c_in=None, c_out=None, **kwargs):\n",
        "    dls = get_dls(sd.train, sd.valid, bs, **kwargs)\n",
        "    return DataBunch(*dls, c_in=c_in, c_out=c_out)\n",
        "\n",
        "SplitData.to_databunch = databunchify"
      ],
      "execution_count": 0,
      "outputs": []
    },
    {
      "cell_type": "code",
      "metadata": {
        "id": "swn0ERK0vjUs",
        "colab_type": "code",
        "colab": {}
      },
      "source": [
        "path = datasets.untar_data(datasets.URLs.IMAGENETTE_160)\n",
        "tfms = [make_rgb, ResizeFixed(128), to_byte_tensor, to_float_tensor]\n",
        "\n",
        "il = ImageList.from_files(path, tfms=tfms)\n",
        "sd = SplitData.split_by_func(il, partial(grandparent_splitter, valid_name='val'))\n",
        "ll = label_by_func(sd, parent_labeler, proc_y=CategoryProcessor())\n",
        "data = ll.to_databunch(bs, c_in=3, c_out=10, num_workers=4)"
      ],
      "execution_count": 0,
      "outputs": []
    },
    {
      "cell_type": "markdown",
      "metadata": {
        "id": "hd6cw8ECxVxj",
        "colab_type": "text"
      },
      "source": [
        "### model"
      ]
    },
    {
      "cell_type": "code",
      "metadata": {
        "id": "hSfhK_3bxBL1",
        "colab_type": "code",
        "colab": {}
      },
      "source": [
        "cbfs = [partial(AvgStatsCallback,accuracy), CudaCallback]"
      ],
      "execution_count": 0,
      "outputs": []
    },
    {
      "cell_type": "code",
      "metadata": {
        "id": "YsKQLsGIxg7p",
        "colab_type": "code",
        "colab": {
          "base_uri": "https://localhost:8080/",
          "height": 51
        },
        "outputId": "59387423-8d47-4049-8c27-bfe4f25f4ec1"
      },
      "source": [
        "m,s = x.mean((0,2,3)).cuda(),x.std((0,2,3))\n",
        "m,s"
      ],
      "execution_count": 65,
      "outputs": [
        {
          "output_type": "execute_result",
          "data": {
            "text/plain": [
              "(tensor([0.4726, 0.4607, 0.4268], device='cuda:0'),\n",
              " tensor([0.2696, 0.2670, 0.2948]))"
            ]
          },
          "metadata": {
            "tags": []
          },
          "execution_count": 65
        }
      ]
    },
    {
      "cell_type": "code",
      "metadata": {
        "id": "qoPKLQ0T1lBt",
        "colab_type": "code",
        "colab": {}
      },
      "source": [
        "#export\n",
        "def normalize_chan(x,mean,std):\n",
        "  return (x-mean[...,None,None])/std[...,None,None]\n",
        "\n",
        "_m = tensor([0.4693, 0.4640, 0.4347])\n",
        "_s = tensor([0.2784, 0.2799, 0.3018])\n",
        "norm_imagenette = partial(normalize_chan,mean=_m.cuda(),std=_s.cuda())"
      ],
      "execution_count": 0,
      "outputs": []
    },
    {
      "cell_type": "code",
      "metadata": {
        "id": "LVW9VS1J2P00",
        "colab_type": "code",
        "colab": {}
      },
      "source": [
        "cbfs.append(partial(BatchTransformXCallback,norm_imagenette))"
      ],
      "execution_count": 0,
      "outputs": []
    },
    {
      "cell_type": "code",
      "metadata": {
        "id": "T71K6MCP2Wpu",
        "colab_type": "code",
        "colab": {}
      },
      "source": [
        "nfs = [64,64,128,256]"
      ],
      "execution_count": 0,
      "outputs": []
    },
    {
      "cell_type": "code",
      "metadata": {
        "id": "oGIy7JTB3HU1",
        "colab_type": "code",
        "colab": {}
      },
      "source": [
        "#export\n",
        "import math\n",
        "def prev_pow_2(x): return 2**math.floor(math.log2(x))\n",
        "\n",
        "def get_cnn_layers(data, nfs, layer, **kwargs):\n",
        "    def f(ni, nf, stride=2): return layer(ni, nf, 3, stride=stride, **kwargs)\n",
        "    l1 = data.c_in\n",
        "    l2 = prev_pow_2(l1*3*3)\n",
        "    layers =  [f(l1  , l2  , stride=1),\n",
        "               f(l2  , l2*2, stride=2),\n",
        "               f(l2*2, l2*4, stride=2)]\n",
        "    nfs = [l2*4] + nfs\n",
        "    layers += [f(nfs[i], nfs[i+1]) for i in range(len(nfs)-1)]\n",
        "    layers += [nn.AdaptiveAvgPool2d(1), Lambda(flatten), \n",
        "               nn.Linear(nfs[-1], data.c_out)]\n",
        "    return layers\n",
        "\n",
        "def get_cnn_model(data, nfs, layer, **kwargs):\n",
        "    return nn.Sequential(*get_cnn_layers(data, nfs, layer, **kwargs))\n",
        "\n",
        "def get_learn_run(nfs, data, lr, layer, cbs=None, opt_func=None, **kwargs):\n",
        "    model = get_cnn_model(data, nfs, layer, **kwargs)\n",
        "    init_cnn(model)\n",
        "    return get_runner(model, data, lr=lr, cbs=cbs, opt_func=opt_func)"
      ],
      "execution_count": 0,
      "outputs": []
    },
    {
      "cell_type": "code",
      "metadata": {
        "id": "T5WLqCorr-Be",
        "colab_type": "code",
        "colab": {}
      },
      "source": [
        "prev_pow_2??"
      ],
      "execution_count": 0,
      "outputs": []
    },
    {
      "cell_type": "code",
      "metadata": {
        "id": "cHswUgxl4JRb",
        "colab_type": "code",
        "colab": {}
      },
      "source": [
        "#export\n",
        "def cos_1cycle_anneal(start, high, end):\n",
        "    return [sched_cos(start, high), sched_cos(high, end)]"
      ],
      "execution_count": 0,
      "outputs": []
    },
    {
      "cell_type": "code",
      "metadata": {
        "id": "5N9CtxyG3IGp",
        "colab_type": "code",
        "colab": {}
      },
      "source": [
        "sched = combine_scheds([0.3,0.7], cos_1cycle_anneal(0.1,0.3,0.05))"
      ],
      "execution_count": 0,
      "outputs": []
    },
    {
      "cell_type": "code",
      "metadata": {
        "id": "Y6ec0TF93Pnt",
        "colab_type": "code",
        "colab": {}
      },
      "source": [
        "learn,run = get_learn_run(nfs,data,0.2,conv_layer,cbs=cbfs+[\n",
        "    partial(ParamScheduler,'lr',sched)\n",
        "])"
      ],
      "execution_count": 0,
      "outputs": []
    },
    {
      "cell_type": "code",
      "metadata": {
        "id": "1sLvmm5e4lCB",
        "colab_type": "code",
        "colab": {
          "base_uri": "https://localhost:8080/",
          "height": 221
        },
        "outputId": "9e2fc1b5-4dc8-4ba9-9fcf-82930d42082b"
      },
      "source": [
        "%time run.fit(5,learn)"
      ],
      "execution_count": 74,
      "outputs": [
        {
          "output_type": "stream",
          "text": [
            "train: [1.771487858936327, tensor(0.3866, device='cuda:0')]\n",
            "valid: [1.626665771484375, tensor(0.4420, device='cuda:0')]\n",
            "train: [1.3369078520048083, tensor(0.5505, device='cuda:0')]\n",
            "valid: [1.8458643798828125, tensor(0.4060, device='cuda:0')]\n",
            "train: [1.0319969256534047, tensor(0.6604, device='cuda:0')]\n",
            "valid: [1.3046187744140625, tensor(0.5780, device='cuda:0')]\n",
            "train: [0.7701835792083527, tensor(0.7498, device='cuda:0')]\n",
            "valid: [0.8807886962890625, tensor(0.7180, device='cuda:0')]\n",
            "train: [0.5672414479966458, tensor(0.8240, device='cuda:0')]\n",
            "valid: [0.83382373046875, tensor(0.7300, device='cuda:0')]\n",
            "CPU times: user 17.6 s, sys: 8.04 s, total: 25.7 s\n",
            "Wall time: 1min 42s\n"
          ],
          "name": "stdout"
        }
      ]
    },
    {
      "cell_type": "code",
      "metadata": {
        "id": "G3rG1IuW4rxq",
        "colab_type": "code",
        "colab": {}
      },
      "source": [
        "#export\n",
        "def model_summary(run, learn, data, find_all=False):\n",
        "    xb,yb = get_batch(data.valid_dl, run)\n",
        "    device = next(learn.model.parameters()).device#Model may not be on the GPU yet\n",
        "    xb,yb = xb.to(device),yb.to(device)\n",
        "    mods = find_modules(learn.model, is_lin_layer) if find_all else learn.model.children()\n",
        "    f = lambda hook,mod,inp,out: print(f\"{mod}\\n{out.shape}\\n\")\n",
        "    with Hooks(mods, f) as hooks: learn.model(xb)"
      ],
      "execution_count": 0,
      "outputs": []
    },
    {
      "cell_type": "code",
      "metadata": {
        "id": "ZyJ6XJJX19m-",
        "colab_type": "code",
        "colab": {
          "base_uri": "https://localhost:8080/",
          "height": 1000
        },
        "outputId": "5982cd0d-4683-48b6-b3a8-c1d302e64041"
      },
      "source": [
        "model_summary(run, learn, data)\n"
      ],
      "execution_count": 77,
      "outputs": [
        {
          "output_type": "stream",
          "text": [
            "Sequential(\n",
            "  (0): Conv2d(3, 16, kernel_size=(3, 3), stride=(1, 1), padding=(1, 1), bias=False)\n",
            "  (1): GeneralRelu()\n",
            "  (2): BatchNorm2d(16, eps=1e-05, momentum=0.1, affine=True, track_running_stats=True)\n",
            ")\n",
            "torch.Size([128, 16, 128, 128])\n",
            "\n",
            "Sequential(\n",
            "  (0): Conv2d(16, 32, kernel_size=(3, 3), stride=(2, 2), padding=(1, 1), bias=False)\n",
            "  (1): GeneralRelu()\n",
            "  (2): BatchNorm2d(32, eps=1e-05, momentum=0.1, affine=True, track_running_stats=True)\n",
            ")\n",
            "torch.Size([128, 32, 64, 64])\n",
            "\n",
            "Sequential(\n",
            "  (0): Conv2d(32, 64, kernel_size=(3, 3), stride=(2, 2), padding=(1, 1), bias=False)\n",
            "  (1): GeneralRelu()\n",
            "  (2): BatchNorm2d(64, eps=1e-05, momentum=0.1, affine=True, track_running_stats=True)\n",
            ")\n",
            "torch.Size([128, 64, 32, 32])\n",
            "\n",
            "Sequential(\n",
            "  (0): Conv2d(64, 64, kernel_size=(3, 3), stride=(2, 2), padding=(1, 1), bias=False)\n",
            "  (1): GeneralRelu()\n",
            "  (2): BatchNorm2d(64, eps=1e-05, momentum=0.1, affine=True, track_running_stats=True)\n",
            ")\n",
            "torch.Size([128, 64, 16, 16])\n",
            "\n",
            "Sequential(\n",
            "  (0): Conv2d(64, 64, kernel_size=(3, 3), stride=(2, 2), padding=(1, 1), bias=False)\n",
            "  (1): GeneralRelu()\n",
            "  (2): BatchNorm2d(64, eps=1e-05, momentum=0.1, affine=True, track_running_stats=True)\n",
            ")\n",
            "torch.Size([128, 64, 8, 8])\n",
            "\n",
            "Sequential(\n",
            "  (0): Conv2d(64, 128, kernel_size=(3, 3), stride=(2, 2), padding=(1, 1), bias=False)\n",
            "  (1): GeneralRelu()\n",
            "  (2): BatchNorm2d(128, eps=1e-05, momentum=0.1, affine=True, track_running_stats=True)\n",
            ")\n",
            "torch.Size([128, 128, 4, 4])\n",
            "\n",
            "Sequential(\n",
            "  (0): Conv2d(128, 256, kernel_size=(3, 3), stride=(2, 2), padding=(1, 1), bias=False)\n",
            "  (1): GeneralRelu()\n",
            "  (2): BatchNorm2d(256, eps=1e-05, momentum=0.1, affine=True, track_running_stats=True)\n",
            ")\n",
            "torch.Size([128, 256, 2, 2])\n",
            "\n",
            "AdaptiveAvgPool2d(output_size=1)\n",
            "torch.Size([128, 256, 1, 1])\n",
            "\n",
            "Lambda()\n",
            "torch.Size([128, 256])\n",
            "\n",
            "Linear(in_features=256, out_features=10, bias=True)\n",
            "torch.Size([128, 10])\n",
            "\n"
          ],
          "name": "stdout"
        }
      ]
    },
    {
      "cell_type": "markdown",
      "metadata": {
        "id": "M1GoQ-JZ3Zmz",
        "colab_type": "text"
      },
      "source": [
        "###export"
      ]
    },
    {
      "cell_type": "code",
      "metadata": {
        "id": "doto7VBK1_uj",
        "colab_type": "code",
        "colab": {}
      },
      "source": [
        "!python notebook2script.py 08_Data_block.ipnb"
      ],
      "execution_count": 0,
      "outputs": []
    }
  ]
}