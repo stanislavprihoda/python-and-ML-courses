{
  "nbformat": 4,
  "nbformat_minor": 0,
  "metadata": {
    "kernelspec": {
      "name": "python3",
      "display_name": "Python 3"
    },
    "language_info": {
      "codemirror_mode": {
        "name": "ipython",
        "version": 3
      },
      "file_extension": ".py",
      "mimetype": "text/x-python",
      "name": "python",
      "nbconvert_exporter": "python",
      "pygments_lexer": "ipython3",
      "version": "3.7.3"
    },
    "colab": {
      "name": "06_Cuda_CNN_hooks.ipynb",
      "version": "0.3.2",
      "provenance": [],
      "collapsed_sections": [],
      "include_colab_link": true
    },
    "accelerator": "GPU"
  },
  "cells": [
    {
      "cell_type": "markdown",
      "metadata": {
        "id": "view-in-github",
        "colab_type": "text"
      },
      "source": [
        "<a href=\"https://colab.research.google.com/github/stanislavprihoda/python-and-ML-courses/blob/master/FastAI/dl2/06_Cuda_CNN_hooks.ipynb\" target=\"_parent\"><img src=\"https://colab.research.google.com/assets/colab-badge.svg\" alt=\"Open In Colab\"/></a>"
      ]
    },
    {
      "cell_type": "code",
      "metadata": {
        "id": "t1ovQH7c6xKA",
        "colab_type": "code",
        "colab": {}
      },
      "source": [
        "from google.colab import drive\n",
        "drive.mount('/content/gdrive')\n",
        "import sys\n",
        "sys.path.append('//content/gdrive/My Drive/Colab Notebooks/')"
      ],
      "execution_count": 0,
      "outputs": []
    },
    {
      "cell_type": "code",
      "metadata": {
        "id": "Zw2vtCp14Hv3",
        "colab_type": "code",
        "colab": {}
      },
      "source": [
        "#export\n",
        "from exp.nb_05b import *\n",
        "torch.set_num_threads(2)"
      ],
      "execution_count": 0,
      "outputs": []
    },
    {
      "cell_type": "markdown",
      "metadata": {
        "id": "2OfCbJ7z4Hv6",
        "colab_type": "text"
      },
      "source": [
        "### ConvNet"
      ]
    },
    {
      "cell_type": "code",
      "metadata": {
        "id": "eNmMR8Vj4Hv7",
        "colab_type": "code",
        "colab": {}
      },
      "source": [
        "x_train,y_train,x_valid,y_valid = get_data()"
      ],
      "execution_count": 0,
      "outputs": []
    },
    {
      "cell_type": "code",
      "metadata": {
        "id": "cZglVs334Hv9",
        "colab_type": "code",
        "colab": {}
      },
      "source": [
        "#export\n",
        "def normalize_to(train, valid):\n",
        "    m,s = train.mean(),train.std()\n",
        "    return normalize(train, m, s), normalize(valid, m, s)"
      ],
      "execution_count": 0,
      "outputs": []
    },
    {
      "cell_type": "code",
      "metadata": {
        "id": "h8pk34QB4Hv_",
        "colab_type": "code",
        "colab": {}
      },
      "source": [
        "x_train,x_valid = normalize_to(x_train,x_valid)\n",
        "train_ds,valid_ds = Dataset(x_train, y_train),Dataset(x_valid, y_valid)"
      ],
      "execution_count": 0,
      "outputs": []
    },
    {
      "cell_type": "code",
      "metadata": {
        "id": "6wEEzdMj4HwB",
        "colab_type": "code",
        "outputId": "63d9482f-7ded-4776-d42a-1cf92182b06d",
        "colab": {
          "base_uri": "https://localhost:8080/",
          "height": 34
        }
      },
      "source": [
        "x_train.mean(),x_train.std()"
      ],
      "execution_count": 6,
      "outputs": [
        {
          "output_type": "execute_result",
          "data": {
            "text/plain": [
              "(tensor(3.0614e-05), tensor(1.))"
            ]
          },
          "metadata": {
            "tags": []
          },
          "execution_count": 6
        }
      ]
    },
    {
      "cell_type": "code",
      "metadata": {
        "id": "kfN42BL-4HwE",
        "colab_type": "code",
        "colab": {}
      },
      "source": [
        "nh,bs = 50,512\n",
        "c = y_train.max().item()+1\n",
        "loss_func = F.cross_entropy\n",
        "\n",
        "data = DataBunch(*get_dls(train_ds, valid_ds, bs), c)"
      ],
      "execution_count": 0,
      "outputs": []
    },
    {
      "cell_type": "code",
      "metadata": {
        "id": "h3l8-2O74HwH",
        "colab_type": "code",
        "colab": {}
      },
      "source": [
        "#export\n",
        "class Lambda(nn.Module):\n",
        "    def __init__(self,func):\n",
        "        super().__init__()\n",
        "        self.func = func\n",
        "    def forward(self,x): return self.func(x)\n",
        "    \n",
        "def flatten(x): return x.view(x.shape[0],-1)"
      ],
      "execution_count": 0,
      "outputs": []
    },
    {
      "cell_type": "code",
      "metadata": {
        "id": "OUiI0eJB4HwJ",
        "colab_type": "code",
        "colab": {}
      },
      "source": [
        "def mnist_resize(x): return x.view(-1,1,28,28)"
      ],
      "execution_count": 0,
      "outputs": []
    },
    {
      "cell_type": "code",
      "metadata": {
        "id": "OczeD5rq4HwL",
        "colab_type": "code",
        "colab": {}
      },
      "source": [
        "def get_cnn_model(data):\n",
        "    return nn.Sequential(\n",
        "        Lambda(mnist_resize),\n",
        "        nn.Conv2d(1,8,5,padding=2,stride=2),nn.ReLU(), #14\n",
        "        nn.Conv2d(8,16,3,padding=1,stride=2),nn.ReLU(), #7\n",
        "        nn.Conv2d(16,32,3,padding=1,stride=2),nn.ReLU(),#4\n",
        "        nn.Conv2d(32,32,3,padding=1,stride=2),nn.ReLU(),#2\n",
        "        nn.AdaptiveAvgPool2d(1),\n",
        "        Lambda(flatten),\n",
        "        nn.Linear(32,data.c)\n",
        "    )"
      ],
      "execution_count": 0,
      "outputs": []
    },
    {
      "cell_type": "code",
      "metadata": {
        "id": "PHjxOhRp4HwO",
        "colab_type": "code",
        "colab": {}
      },
      "source": [
        "model = get_cnn_model(data)"
      ],
      "execution_count": 0,
      "outputs": []
    },
    {
      "cell_type": "code",
      "metadata": {
        "id": "1kdrZ08v4HwR",
        "colab_type": "code",
        "colab": {}
      },
      "source": [
        "cbfs=[Recorder,partial(AvgStatsCallback,accuracy)]"
      ],
      "execution_count": 0,
      "outputs": []
    },
    {
      "cell_type": "code",
      "metadata": {
        "id": "z4ZcsEEx4HwT",
        "colab_type": "code",
        "colab": {}
      },
      "source": [
        "opt=optim.SGD(model.parameters(),lr=0.4)\n",
        "learn=Learner(model,opt,loss_func,data)\n",
        "run=Runner(cb_funcs=cbfs)"
      ],
      "execution_count": 0,
      "outputs": []
    },
    {
      "cell_type": "code",
      "metadata": {
        "id": "pTNsSZmS4HwV",
        "colab_type": "code",
        "outputId": "10cdd46b-b996-4234-dbe2-134fa7536eea",
        "colab": {
          "base_uri": "https://localhost:8080/",
          "height": 85
        }
      },
      "source": [
        "%time run.fit(1,learn)"
      ],
      "execution_count": 14,
      "outputs": [
        {
          "output_type": "stream",
          "text": [
            "train: [1.8596523324238885, tensor(0.3487)]\n",
            "valid: [0.676917626953125, tensor(0.7898)]\n",
            "CPU times: user 5.92 s, sys: 337 ms, total: 6.26 s\n",
            "Wall time: 3.99 s\n"
          ],
          "name": "stdout"
        }
      ]
    },
    {
      "cell_type": "markdown",
      "metadata": {
        "id": "Nuvy6XRn4HwY",
        "colab_type": "text"
      },
      "source": [
        "### CUDA"
      ]
    },
    {
      "cell_type": "code",
      "metadata": {
        "id": "ZJ07rm7O4HwY",
        "colab_type": "code",
        "colab": {}
      },
      "source": [
        "#more flexible way\n",
        "device = torch.device('cuda',0)"
      ],
      "execution_count": 0,
      "outputs": []
    },
    {
      "cell_type": "code",
      "metadata": {
        "id": "JFeNkvBU4Hwb",
        "colab_type": "code",
        "colab": {}
      },
      "source": [
        "class CudaCallback(Callback):\n",
        "    def __init__(self,device): self.device=device\n",
        "    def begin_fit(self): self.model.to(device)\n",
        "    def begin_batch(self):self.run.xb,self.run.yb=self.xb.to(device),self.yb.to(device)"
      ],
      "execution_count": 0,
      "outputs": []
    },
    {
      "cell_type": "code",
      "metadata": {
        "scrolled": false,
        "id": "BN_P5rGW4Hwd",
        "colab_type": "code",
        "colab": {}
      },
      "source": [
        "#less flexible but quite convenient\n",
        "torch.cuda.set_device(device)"
      ],
      "execution_count": 0,
      "outputs": []
    },
    {
      "cell_type": "code",
      "metadata": {
        "id": "3HhkFqhy4Hwf",
        "colab_type": "code",
        "outputId": "9c39c05c-b990-494a-bd66-c75a6f5c39bd",
        "colab": {
          "base_uri": "https://localhost:8080/",
          "height": 34
        }
      },
      "source": [
        "def cuda_check():\n",
        "  if not hasattr(torch._C, '_cuda_setDevice'):\n",
        "      print('CUDA not available. Setting device=-1.')\n",
        "      cuda_id = -1\n",
        "      torch.cuda.set_device(cuda_id)\n",
        "  else:\n",
        "      print('Setting CUDA.')\n",
        "      device = torch.device('cuda',0)\n",
        "      torch.cuda.set_device(device)\n",
        "cuda_check()"
      ],
      "execution_count": 24,
      "outputs": [
        {
          "output_type": "stream",
          "text": [
            "Setting CUDA.\n"
          ],
          "name": "stdout"
        }
      ]
    },
    {
      "cell_type": "code",
      "metadata": {
        "id": "LrSGUJUM4Hwh",
        "colab_type": "code",
        "colab": {}
      },
      "source": [
        "#export\n",
        "class CudaCallback(Callback):\n",
        "    def begin_fit(self): self.model.cuda()\n",
        "    def begin_batch(self): self.run.xb,self.run.yb = self.xb.cuda(),self.yb.cuda()"
      ],
      "execution_count": 0,
      "outputs": []
    },
    {
      "cell_type": "code",
      "metadata": {
        "id": "4o6jZFki4Hwi",
        "colab_type": "code",
        "colab": {}
      },
      "source": [
        "cbfs.append(CudaCallback)"
      ],
      "execution_count": 0,
      "outputs": []
    },
    {
      "cell_type": "code",
      "metadata": {
        "id": "5QDRRWB64Hwk",
        "colab_type": "code",
        "colab": {}
      },
      "source": [
        "model = get_cnn_model(data)"
      ],
      "execution_count": 0,
      "outputs": []
    },
    {
      "cell_type": "code",
      "metadata": {
        "id": "KYMYLADN4Hwp",
        "colab_type": "code",
        "colab": {}
      },
      "source": [
        "opt = optim.SGD(model.parameters(),lr=0.4)\n",
        "learn = Learner(model,opt,loss_func,data)\n",
        "run=Runner(cb_funcs=cbfs)"
      ],
      "execution_count": 0,
      "outputs": []
    },
    {
      "cell_type": "code",
      "metadata": {
        "scrolled": true,
        "id": "DWgpCbyZ4Hwr",
        "colab_type": "code",
        "outputId": "43e3989d-9e78-4d07-a61f-d3afcad4c9d3",
        "colab": {
          "base_uri": "https://localhost:8080/",
          "height": 153
        }
      },
      "source": [
        "%time run.fit(3,learn)"
      ],
      "execution_count": 23,
      "outputs": [
        {
          "output_type": "stream",
          "text": [
            "train: [2.3180968294438626, tensor(0.1391, device='cuda:0')]\n",
            "valid: [2.2868765625, tensor(0.1064, device='cuda:0')]\n",
            "train: [1.4699159602528995, tensor(0.4907, device='cuda:0')]\n",
            "valid: [0.46128642578125, tensor(0.8584, device='cuda:0')]\n",
            "train: [0.32717124703004186, tensor(0.9012, device='cuda:0')]\n",
            "valid: [0.16977301025390626, tensor(0.9502, device='cuda:0')]\n",
            "CPU times: user 4.91 s, sys: 1.51 s, total: 6.42 s\n",
            "Wall time: 9.05 s\n"
          ],
          "name": "stdout"
        }
      ]
    },
    {
      "cell_type": "markdown",
      "metadata": {
        "id": "k4GKKd6-_jdO",
        "colab_type": "text"
      },
      "source": [
        "### Model refactor"
      ]
    },
    {
      "cell_type": "code",
      "metadata": {
        "id": "lLhoQ05I4Hws",
        "colab_type": "code",
        "colab": {}
      },
      "source": [
        "def conv2d(ni, nf, ks=3, stride=2):\n",
        "    return nn.Sequential(\n",
        "        nn.Conv2d(ni, nf, ks, padding=ks//2, stride=stride), nn.ReLU())"
      ],
      "execution_count": 0,
      "outputs": []
    },
    {
      "cell_type": "code",
      "metadata": {
        "id": "Etw7AccnAdNu",
        "colab_type": "code",
        "colab": {}
      },
      "source": [
        "#export\n",
        "class BatchTransformXCallback(Callback):\n",
        "    _order=2\n",
        "    def __init__(self, tfm): self.tfm = tfm\n",
        "    def begin_batch(self): self.run.xb = self.tfm(self.xb)\n",
        "\n",
        "def view_tfm(*size):\n",
        "    def _inner(x): return x.view(*((-1,)+size))\n",
        "    return _inner"
      ],
      "execution_count": 0,
      "outputs": []
    },
    {
      "cell_type": "code",
      "metadata": {
        "id": "hL5WCt5qAz0j",
        "colab_type": "code",
        "colab": {}
      },
      "source": [
        "mnist_view = view_tfm(1,28,28)\n",
        "cbfs.append(partial(BatchTransformXCallback, mnist_view))"
      ],
      "execution_count": 0,
      "outputs": []
    },
    {
      "cell_type": "code",
      "metadata": {
        "id": "jaux04eQBBCh",
        "colab_type": "code",
        "colab": {}
      },
      "source": [
        "nfs=[8,16,32,32]"
      ],
      "execution_count": 0,
      "outputs": []
    },
    {
      "cell_type": "code",
      "metadata": {
        "id": "dxlFr7AyC4sj",
        "colab_type": "code",
        "colab": {}
      },
      "source": [
        "def get_cnn_layers(data,nfs):\n",
        "  nfs = [1] + nfs\n",
        "  return [\n",
        "      conv2d(nfs[i], nfs[i+1], 5 if i==0 else 3)\n",
        "      for i in range(len(nfs)-1)\n",
        "  ] + [nn.AdaptiveAvgPool2d(1),Lambda(flatten),nn.Linear(nfs[-1], data.c)]\n",
        "\n",
        "def get_cnn_model(data,nfs): return nn.Sequential(*get_cnn_layers(data,nfs))"
      ],
      "execution_count": 0,
      "outputs": []
    },
    {
      "cell_type": "code",
      "metadata": {
        "id": "DuXbq64RDlJo",
        "colab_type": "code",
        "colab": {}
      },
      "source": [
        "#export\n",
        "def get_runner(model, data, lr=0.6, cbs=None, opt_func=None, loss_func = F.cross_entropy):\n",
        "    if opt_func is None: opt_func = optim.SGD\n",
        "    opt = opt_func(model.parameters(), lr=lr)\n",
        "    learn = Learner(model, opt, loss_func, data)\n",
        "    return learn, Runner(cb_funcs=listify(cbs))"
      ],
      "execution_count": 0,
      "outputs": []
    },
    {
      "cell_type": "code",
      "metadata": {
        "id": "9gwNlKFJDsrs",
        "colab_type": "code",
        "colab": {}
      },
      "source": [
        "model = get_cnn_model(data,nfs)\n",
        "learn,run = get_runner(model, data, lr=0.4,cbs=cbfs)"
      ],
      "execution_count": 0,
      "outputs": []
    },
    {
      "cell_type": "code",
      "metadata": {
        "id": "_EGXaYQbJAXr",
        "colab_type": "code",
        "colab": {
          "base_uri": "https://localhost:8080/",
          "height": 374
        },
        "outputId": "e9b32899-d548-44ec-aea3-768f83d3a451"
      },
      "source": [
        "model"
      ],
      "execution_count": 35,
      "outputs": [
        {
          "output_type": "execute_result",
          "data": {
            "text/plain": [
              "Sequential(\n",
              "  (0): Sequential(\n",
              "    (0): Conv2d(1, 8, kernel_size=(5, 5), stride=(2, 2), padding=(2, 2))\n",
              "    (1): ReLU()\n",
              "  )\n",
              "  (1): Sequential(\n",
              "    (0): Conv2d(8, 16, kernel_size=(3, 3), stride=(2, 2), padding=(1, 1))\n",
              "    (1): ReLU()\n",
              "  )\n",
              "  (2): Sequential(\n",
              "    (0): Conv2d(16, 32, kernel_size=(3, 3), stride=(2, 2), padding=(1, 1))\n",
              "    (1): ReLU()\n",
              "  )\n",
              "  (3): Sequential(\n",
              "    (0): Conv2d(32, 32, kernel_size=(3, 3), stride=(2, 2), padding=(1, 1))\n",
              "    (1): ReLU()\n",
              "  )\n",
              "  (4): AdaptiveAvgPool2d(output_size=1)\n",
              "  (5): Lambda()\n",
              "  (6): Linear(in_features=32, out_features=10, bias=True)\n",
              ")"
            ]
          },
          "metadata": {
            "tags": []
          },
          "execution_count": 35
        }
      ]
    },
    {
      "cell_type": "code",
      "metadata": {
        "id": "RrqhehV5Jy1m",
        "colab_type": "code",
        "colab": {
          "base_uri": "https://localhost:8080/",
          "height": 119
        },
        "outputId": "69787c3e-5978-4b3f-ab7f-e09469082b72"
      },
      "source": [
        "run.fit(3,learn)"
      ],
      "execution_count": 36,
      "outputs": [
        {
          "output_type": "stream",
          "text": [
            "train: [2.248745161233489, tensor(0.1644, device='cuda:0')]\n",
            "valid: [1.60773525390625, tensor(0.3607, device='cuda:0')]\n",
            "train: [0.8686363770789707, tensor(0.7080, device='cuda:0')]\n",
            "valid: [0.2608685302734375, tensor(0.9206, device='cuda:0')]\n",
            "train: [0.21865404266672037, tensor(0.9329, device='cuda:0')]\n",
            "valid: [0.1367408935546875, tensor(0.9604, device='cuda:0')]\n"
          ],
          "name": "stdout"
        }
      ]
    },
    {
      "cell_type": "code",
      "metadata": {
        "id": "AVT-kk-wJ0rC",
        "colab_type": "code",
        "colab": {}
      },
      "source": [
        "nn.Conv2d??"
      ],
      "execution_count": 0,
      "outputs": []
    },
    {
      "cell_type": "code",
      "metadata": {
        "id": "VT92UwU0KNGG",
        "colab_type": "code",
        "colab": {}
      },
      "source": [
        ""
      ],
      "execution_count": 0,
      "outputs": []
    }
  ]
}